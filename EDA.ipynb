{
  "nbformat": 4,
  "nbformat_minor": 0,
  "metadata": {
    "colab": {
      "name": "EDA",
      "provenance": [],
      "collapsed_sections": [],
      "machine_shape": "hm",
      "authorship_tag": "ABX9TyMWb15Ny8aYlQOHf+3BNyL4",
      "include_colab_link": true
    },
    "kernelspec": {
      "name": "python3",
      "display_name": "Python 3"
    }
  },
  "cells": [
    {
      "cell_type": "markdown",
      "metadata": {
        "id": "view-in-github",
        "colab_type": "text"
      },
      "source": [
        "<a href=\"https://colab.research.google.com/github/gururajan3/Check/blob/master/EDA.ipynb\" target=\"_parent\"><img src=\"https://colab.research.google.com/assets/colab-badge.svg\" alt=\"Open In Colab\"/></a>"
      ]
    },
    {
      "cell_type": "markdown",
      "metadata": {
        "id": "kgARZ1xYnV62",
        "colab_type": "text"
      },
      "source": [
        "## Import Libraries"
      ]
    },
    {
      "cell_type": "code",
      "metadata": {
        "id": "kugQMXdAXT7l",
        "colab_type": "code",
        "colab": {}
      },
      "source": [
        "import pandas as pd"
      ],
      "execution_count": 0,
      "outputs": []
    },
    {
      "cell_type": "markdown",
      "metadata": {
        "id": "2wUhFk0KnjKP",
        "colab_type": "text"
      },
      "source": [
        "## Load all Dataframes"
      ]
    },
    {
      "cell_type": "code",
      "metadata": {
        "id": "ix875U9pnggk",
        "colab_type": "code",
        "outputId": "37395f67-7218-407f-ca78-0078c9f5c188",
        "colab": {
          "base_uri": "https://localhost:8080/",
          "height": 204
        }
      },
      "source": [
        "questionsds = pd.read_csv('https://stack-overflow-casestudy-datasets.s3.amazonaws.com/Questions.csv',encoding='ISO-8859-1')\n",
        "questionsds.head()"
      ],
      "execution_count": 0,
      "outputs": [
        {
          "output_type": "execute_result",
          "data": {
            "text/html": [
              "<div>\n",
              "<style scoped>\n",
              "    .dataframe tbody tr th:only-of-type {\n",
              "        vertical-align: middle;\n",
              "    }\n",
              "\n",
              "    .dataframe tbody tr th {\n",
              "        vertical-align: top;\n",
              "    }\n",
              "\n",
              "    .dataframe thead th {\n",
              "        text-align: right;\n",
              "    }\n",
              "</style>\n",
              "<table border=\"1\" class=\"dataframe\">\n",
              "  <thead>\n",
              "    <tr style=\"text-align: right;\">\n",
              "      <th></th>\n",
              "      <th>Id</th>\n",
              "      <th>OwnerUserId</th>\n",
              "      <th>CreationDate</th>\n",
              "      <th>ClosedDate</th>\n",
              "      <th>Score</th>\n",
              "      <th>Title</th>\n",
              "      <th>Body</th>\n",
              "    </tr>\n",
              "  </thead>\n",
              "  <tbody>\n",
              "    <tr>\n",
              "      <th>0</th>\n",
              "      <td>80</td>\n",
              "      <td>26.0</td>\n",
              "      <td>2008-08-01T13:57:07Z</td>\n",
              "      <td>NaN</td>\n",
              "      <td>26</td>\n",
              "      <td>SQLStatement.execute() - multiple queries in o...</td>\n",
              "      <td>&lt;p&gt;I've written a database generation script i...</td>\n",
              "    </tr>\n",
              "    <tr>\n",
              "      <th>1</th>\n",
              "      <td>90</td>\n",
              "      <td>58.0</td>\n",
              "      <td>2008-08-01T14:41:24Z</td>\n",
              "      <td>2012-12-26T03:45:49Z</td>\n",
              "      <td>144</td>\n",
              "      <td>Good branching and merging tutorials for Torto...</td>\n",
              "      <td>&lt;p&gt;Are there any really good tutorials explain...</td>\n",
              "    </tr>\n",
              "    <tr>\n",
              "      <th>2</th>\n",
              "      <td>120</td>\n",
              "      <td>83.0</td>\n",
              "      <td>2008-08-01T15:50:08Z</td>\n",
              "      <td>NaN</td>\n",
              "      <td>21</td>\n",
              "      <td>ASP.NET Site Maps</td>\n",
              "      <td>&lt;p&gt;Has anyone got experience creating &lt;strong&gt;...</td>\n",
              "    </tr>\n",
              "    <tr>\n",
              "      <th>3</th>\n",
              "      <td>180</td>\n",
              "      <td>2089740.0</td>\n",
              "      <td>2008-08-01T18:42:19Z</td>\n",
              "      <td>NaN</td>\n",
              "      <td>53</td>\n",
              "      <td>Function for creating color wheels</td>\n",
              "      <td>&lt;p&gt;This is something I've pseudo-solved many t...</td>\n",
              "    </tr>\n",
              "    <tr>\n",
              "      <th>4</th>\n",
              "      <td>260</td>\n",
              "      <td>91.0</td>\n",
              "      <td>2008-08-01T23:22:08Z</td>\n",
              "      <td>NaN</td>\n",
              "      <td>49</td>\n",
              "      <td>Adding scripting functionality to .NET applica...</td>\n",
              "      <td>&lt;p&gt;I have a little game written in C#. It uses...</td>\n",
              "    </tr>\n",
              "  </tbody>\n",
              "</table>\n",
              "</div>"
            ],
            "text/plain": [
              "    Id  ...                                               Body\n",
              "0   80  ...  <p>I've written a database generation script i...\n",
              "1   90  ...  <p>Are there any really good tutorials explain...\n",
              "2  120  ...  <p>Has anyone got experience creating <strong>...\n",
              "3  180  ...  <p>This is something I've pseudo-solved many t...\n",
              "4  260  ...  <p>I have a little game written in C#. It uses...\n",
              "\n",
              "[5 rows x 7 columns]"
            ]
          },
          "metadata": {
            "tags": []
          },
          "execution_count": 9
        }
      ]
    },
    {
      "cell_type": "code",
      "metadata": {
        "id": "gY-qC7kGX60D",
        "colab_type": "code",
        "outputId": "c3cb9a2b-b587-4da9-ae74-b1e4f739f203",
        "colab": {
          "base_uri": "https://localhost:8080/",
          "height": 204
        }
      },
      "source": [
        "answerds = pd.read_csv('https://stack-overflow-casestudy-datasets.s3.amazonaws.com/Answers.csv',encoding='ISO-8859-1')\n",
        "answerds.head()"
      ],
      "execution_count": 0,
      "outputs": [
        {
          "output_type": "execute_result",
          "data": {
            "text/html": [
              "<div>\n",
              "<style scoped>\n",
              "    .dataframe tbody tr th:only-of-type {\n",
              "        vertical-align: middle;\n",
              "    }\n",
              "\n",
              "    .dataframe tbody tr th {\n",
              "        vertical-align: top;\n",
              "    }\n",
              "\n",
              "    .dataframe thead th {\n",
              "        text-align: right;\n",
              "    }\n",
              "</style>\n",
              "<table border=\"1\" class=\"dataframe\">\n",
              "  <thead>\n",
              "    <tr style=\"text-align: right;\">\n",
              "      <th></th>\n",
              "      <th>Id</th>\n",
              "      <th>OwnerUserId</th>\n",
              "      <th>CreationDate</th>\n",
              "      <th>ParentId</th>\n",
              "      <th>Score</th>\n",
              "      <th>Body</th>\n",
              "    </tr>\n",
              "  </thead>\n",
              "  <tbody>\n",
              "    <tr>\n",
              "      <th>0</th>\n",
              "      <td>92</td>\n",
              "      <td>61.0</td>\n",
              "      <td>2008-08-01T14:45:37Z</td>\n",
              "      <td>90</td>\n",
              "      <td>13</td>\n",
              "      <td>&lt;p&gt;&lt;a href=\"http://svnbook.red-bean.com/\"&gt;Vers...</td>\n",
              "    </tr>\n",
              "    <tr>\n",
              "      <th>1</th>\n",
              "      <td>124</td>\n",
              "      <td>26.0</td>\n",
              "      <td>2008-08-01T16:09:47Z</td>\n",
              "      <td>80</td>\n",
              "      <td>12</td>\n",
              "      <td>&lt;p&gt;I wound up using this. It is a kind of a ha...</td>\n",
              "    </tr>\n",
              "    <tr>\n",
              "      <th>2</th>\n",
              "      <td>199</td>\n",
              "      <td>50.0</td>\n",
              "      <td>2008-08-01T19:36:46Z</td>\n",
              "      <td>180</td>\n",
              "      <td>1</td>\n",
              "      <td>&lt;p&gt;I've read somewhere the human eye can't dis...</td>\n",
              "    </tr>\n",
              "    <tr>\n",
              "      <th>3</th>\n",
              "      <td>269</td>\n",
              "      <td>91.0</td>\n",
              "      <td>2008-08-01T23:49:57Z</td>\n",
              "      <td>260</td>\n",
              "      <td>4</td>\n",
              "      <td>&lt;p&gt;Yes, I thought about that, but I soon figur...</td>\n",
              "    </tr>\n",
              "    <tr>\n",
              "      <th>4</th>\n",
              "      <td>307</td>\n",
              "      <td>49.0</td>\n",
              "      <td>2008-08-02T01:49:46Z</td>\n",
              "      <td>260</td>\n",
              "      <td>28</td>\n",
              "      <td>&lt;p&gt;&lt;a href=\"http://www.codeproject.com/Article...</td>\n",
              "    </tr>\n",
              "  </tbody>\n",
              "</table>\n",
              "</div>"
            ],
            "text/plain": [
              "    Id  OwnerUserId  ... Score                                               Body\n",
              "0   92         61.0  ...    13  <p><a href=\"http://svnbook.red-bean.com/\">Vers...\n",
              "1  124         26.0  ...    12  <p>I wound up using this. It is a kind of a ha...\n",
              "2  199         50.0  ...     1  <p>I've read somewhere the human eye can't dis...\n",
              "3  269         91.0  ...     4  <p>Yes, I thought about that, but I soon figur...\n",
              "4  307         49.0  ...    28  <p><a href=\"http://www.codeproject.com/Article...\n",
              "\n",
              "[5 rows x 6 columns]"
            ]
          },
          "metadata": {
            "tags": []
          },
          "execution_count": 2
        }
      ]
    },
    {
      "cell_type": "code",
      "metadata": {
        "id": "EqWUBek_YJl8",
        "colab_type": "code",
        "outputId": "cd7074c9-1395-45cf-d1e6-5a4a6e83fef0",
        "colab": {
          "base_uri": "https://localhost:8080/",
          "height": 204
        }
      },
      "source": [
        "tagsds = pd.read_csv('https://stack-overflow-casestudy-datasets.s3.amazonaws.com/Tags.csv',encoding='ISO-8859-1')\n",
        "tagsds.head()"
      ],
      "execution_count": 68,
      "outputs": [
        {
          "output_type": "execute_result",
          "data": {
            "text/html": [
              "<div>\n",
              "<style scoped>\n",
              "    .dataframe tbody tr th:only-of-type {\n",
              "        vertical-align: middle;\n",
              "    }\n",
              "\n",
              "    .dataframe tbody tr th {\n",
              "        vertical-align: top;\n",
              "    }\n",
              "\n",
              "    .dataframe thead th {\n",
              "        text-align: right;\n",
              "    }\n",
              "</style>\n",
              "<table border=\"1\" class=\"dataframe\">\n",
              "  <thead>\n",
              "    <tr style=\"text-align: right;\">\n",
              "      <th></th>\n",
              "      <th>Id</th>\n",
              "      <th>Tag</th>\n",
              "    </tr>\n",
              "  </thead>\n",
              "  <tbody>\n",
              "    <tr>\n",
              "      <th>0</th>\n",
              "      <td>80</td>\n",
              "      <td>flex</td>\n",
              "    </tr>\n",
              "    <tr>\n",
              "      <th>1</th>\n",
              "      <td>80</td>\n",
              "      <td>actionscript-3</td>\n",
              "    </tr>\n",
              "    <tr>\n",
              "      <th>2</th>\n",
              "      <td>80</td>\n",
              "      <td>air</td>\n",
              "    </tr>\n",
              "    <tr>\n",
              "      <th>3</th>\n",
              "      <td>90</td>\n",
              "      <td>svn</td>\n",
              "    </tr>\n",
              "    <tr>\n",
              "      <th>4</th>\n",
              "      <td>90</td>\n",
              "      <td>tortoisesvn</td>\n",
              "    </tr>\n",
              "  </tbody>\n",
              "</table>\n",
              "</div>"
            ],
            "text/plain": [
              "   Id             Tag\n",
              "0  80            flex\n",
              "1  80  actionscript-3\n",
              "2  80             air\n",
              "3  90             svn\n",
              "4  90     tortoisesvn"
            ]
          },
          "metadata": {
            "tags": []
          },
          "execution_count": 68
        }
      ]
    },
    {
      "cell_type": "code",
      "metadata": {
        "id": "m9UCyaJBaq6b",
        "colab_type": "code",
        "outputId": "aa67c50e-eb6b-4d88-858a-f23e1906b048",
        "colab": {
          "base_uri": "https://localhost:8080/",
          "height": 204
        }
      },
      "source": [
        "usersds = pd.read_csv('https://stack-overflow-casestudy-datasets.s3.amazonaws.com/Users.csv',encoding='ISO-8859-1')\n",
        "usersds.head()"
      ],
      "execution_count": 87,
      "outputs": [
        {
          "output_type": "execute_result",
          "data": {
            "text/html": [
              "<div>\n",
              "<style scoped>\n",
              "    .dataframe tbody tr th:only-of-type {\n",
              "        vertical-align: middle;\n",
              "    }\n",
              "\n",
              "    .dataframe tbody tr th {\n",
              "        vertical-align: top;\n",
              "    }\n",
              "\n",
              "    .dataframe thead th {\n",
              "        text-align: right;\n",
              "    }\n",
              "</style>\n",
              "<table border=\"1\" class=\"dataframe\">\n",
              "  <thead>\n",
              "    <tr style=\"text-align: right;\">\n",
              "      <th></th>\n",
              "      <th>Unnamed: 0</th>\n",
              "      <th>id</th>\n",
              "      <th>display_name</th>\n",
              "      <th>creation_date</th>\n",
              "      <th>last_access_date</th>\n",
              "      <th>reputation</th>\n",
              "      <th>up_votes</th>\n",
              "      <th>down_votes</th>\n",
              "      <th>views</th>\n",
              "    </tr>\n",
              "  </thead>\n",
              "  <tbody>\n",
              "    <tr>\n",
              "      <th>0</th>\n",
              "      <td>0</td>\n",
              "      <td>26</td>\n",
              "      <td>Shawn</td>\n",
              "      <td>2008-08-01 12:18:14.52 UTC</td>\n",
              "      <td>2018-04-11 04:40:35.66 UTC</td>\n",
              "      <td>11820</td>\n",
              "      <td>565</td>\n",
              "      <td>67</td>\n",
              "      <td>3547</td>\n",
              "    </tr>\n",
              "    <tr>\n",
              "      <th>1</th>\n",
              "      <td>1</td>\n",
              "      <td>26</td>\n",
              "      <td>Shawn</td>\n",
              "      <td>2008-08-01 12:18:14.52 UTC</td>\n",
              "      <td>2018-04-11 04:40:35.66 UTC</td>\n",
              "      <td>11820</td>\n",
              "      <td>565</td>\n",
              "      <td>67</td>\n",
              "      <td>3547</td>\n",
              "    </tr>\n",
              "    <tr>\n",
              "      <th>2</th>\n",
              "      <td>2</td>\n",
              "      <td>26</td>\n",
              "      <td>Shawn</td>\n",
              "      <td>2008-08-01 12:18:14.52 UTC</td>\n",
              "      <td>2018-04-11 04:40:35.66 UTC</td>\n",
              "      <td>11820</td>\n",
              "      <td>565</td>\n",
              "      <td>67</td>\n",
              "      <td>3547</td>\n",
              "    </tr>\n",
              "    <tr>\n",
              "      <th>3</th>\n",
              "      <td>3</td>\n",
              "      <td>26</td>\n",
              "      <td>Shawn</td>\n",
              "      <td>2008-08-01 12:18:14.52 UTC</td>\n",
              "      <td>2018-04-11 04:40:35.66 UTC</td>\n",
              "      <td>11820</td>\n",
              "      <td>565</td>\n",
              "      <td>67</td>\n",
              "      <td>3547</td>\n",
              "    </tr>\n",
              "    <tr>\n",
              "      <th>4</th>\n",
              "      <td>4</td>\n",
              "      <td>26</td>\n",
              "      <td>Shawn</td>\n",
              "      <td>2008-08-01 12:18:14.52 UTC</td>\n",
              "      <td>2018-04-11 04:40:35.66 UTC</td>\n",
              "      <td>11820</td>\n",
              "      <td>565</td>\n",
              "      <td>67</td>\n",
              "      <td>3547</td>\n",
              "    </tr>\n",
              "  </tbody>\n",
              "</table>\n",
              "</div>"
            ],
            "text/plain": [
              "   Unnamed: 0  id display_name  ... up_votes down_votes  views\n",
              "0           0  26        Shawn  ...      565         67   3547\n",
              "1           1  26        Shawn  ...      565         67   3547\n",
              "2           2  26        Shawn  ...      565         67   3547\n",
              "3           3  26        Shawn  ...      565         67   3547\n",
              "4           4  26        Shawn  ...      565         67   3547\n",
              "\n",
              "[5 rows x 9 columns]"
            ]
          },
          "metadata": {
            "tags": []
          },
          "execution_count": 87
        }
      ]
    },
    {
      "cell_type": "markdown",
      "metadata": {
        "id": "ykptew2UpxUr",
        "colab_type": "text"
      },
      "source": [
        "## Check shape of all Dataframe"
      ]
    },
    {
      "cell_type": "code",
      "metadata": {
        "id": "M7rYjBedbI-7",
        "colab_type": "code",
        "outputId": "cc8e102e-1ff9-4ffb-97ba-8bff09131191",
        "colab": {
          "base_uri": "https://localhost:8080/",
          "height": 34
        }
      },
      "source": [
        "questionsds.shape"
      ],
      "execution_count": 0,
      "outputs": [
        {
          "output_type": "execute_result",
          "data": {
            "text/plain": [
              "(1264216, 7)"
            ]
          },
          "metadata": {
            "tags": []
          },
          "execution_count": 10
        }
      ]
    },
    {
      "cell_type": "code",
      "metadata": {
        "id": "UPARikzPd56z",
        "colab_type": "code",
        "outputId": "35659e10-74c3-4ef2-c322-366249751019",
        "colab": {
          "base_uri": "https://localhost:8080/",
          "height": 34
        }
      },
      "source": [
        "answerds.shape"
      ],
      "execution_count": 0,
      "outputs": [
        {
          "output_type": "execute_result",
          "data": {
            "text/plain": [
              "(2014516, 6)"
            ]
          },
          "metadata": {
            "tags": []
          },
          "execution_count": 11
        }
      ]
    },
    {
      "cell_type": "code",
      "metadata": {
        "id": "bBXa4Z5GYV_4",
        "colab_type": "code",
        "outputId": "95d4cfcb-168a-4a1b-c843-c46dd389ec27",
        "colab": {
          "base_uri": "https://localhost:8080/",
          "height": 34
        }
      },
      "source": [
        "tagsds.shape"
      ],
      "execution_count": 69,
      "outputs": [
        {
          "output_type": "execute_result",
          "data": {
            "text/plain": [
              "(3750994, 2)"
            ]
          },
          "metadata": {
            "tags": []
          },
          "execution_count": 69
        }
      ]
    },
    {
      "cell_type": "code",
      "metadata": {
        "id": "aOQRB7OafTNj",
        "colab_type": "code",
        "outputId": "d988093e-7543-4164-b19a-9f19cd9aad32",
        "colab": {
          "base_uri": "https://localhost:8080/",
          "height": 34
        }
      },
      "source": [
        "usersds.shape"
      ],
      "execution_count": 0,
      "outputs": [
        {
          "output_type": "execute_result",
          "data": {
            "text/plain": [
              "(1990480, 9)"
            ]
          },
          "metadata": {
            "tags": []
          },
          "execution_count": 13
        }
      ]
    },
    {
      "cell_type": "markdown",
      "metadata": {
        "id": "BMeBp_Nap1WS",
        "colab_type": "text"
      },
      "source": [
        "## Check for null Values and calculate the percentage of them"
      ]
    },
    {
      "cell_type": "code",
      "metadata": {
        "id": "2Fk-LH-OUYgQ",
        "colab_type": "code",
        "outputId": "284679d0-2984-429e-98e8-139307b305bd",
        "colab": {
          "base_uri": "https://localhost:8080/",
          "height": 153
        }
      },
      "source": [
        "questionsds.isnull().sum()"
      ],
      "execution_count": 0,
      "outputs": [
        {
          "output_type": "execute_result",
          "data": {
            "text/plain": [
              "Id                    0\n",
              "OwnerUserId       14454\n",
              "CreationDate          0\n",
              "ClosedDate      1208257\n",
              "Score                 0\n",
              "Title                 0\n",
              "Body                  0\n",
              "dtype: int64"
            ]
          },
          "metadata": {
            "tags": []
          },
          "execution_count": 14
        }
      ]
    },
    {
      "cell_type": "code",
      "metadata": {
        "id": "kLUEmTn9VjpL",
        "colab_type": "code",
        "outputId": "aa839d58-124f-41b7-fcd5-0471ddf8052a",
        "colab": {
          "base_uri": "https://localhost:8080/",
          "height": 136
        }
      },
      "source": [
        "answerds.isnull().sum()"
      ],
      "execution_count": 0,
      "outputs": [
        {
          "output_type": "execute_result",
          "data": {
            "text/plain": [
              "Id                  0\n",
              "OwnerUserId     13200\n",
              "CreationDate        0\n",
              "ParentId            0\n",
              "Score               0\n",
              "Body                0\n",
              "dtype: int64"
            ]
          },
          "metadata": {
            "tags": []
          },
          "execution_count": 15
        }
      ]
    },
    {
      "cell_type": "code",
      "metadata": {
        "id": "cr0Ou4RUY9TM",
        "colab_type": "code",
        "outputId": "e14cec99-61ba-48d9-f1b2-c46dedd4423c",
        "colab": {
          "base_uri": "https://localhost:8080/",
          "height": 68
        }
      },
      "source": [
        "tagsds.isnull().sum()"
      ],
      "execution_count": 61,
      "outputs": [
        {
          "output_type": "execute_result",
          "data": {
            "text/plain": [
              "Id        0\n",
              "Tag    1113\n",
              "dtype: int64"
            ]
          },
          "metadata": {
            "tags": []
          },
          "execution_count": 61
        }
      ]
    },
    {
      "cell_type": "code",
      "metadata": {
        "id": "mBlvmwyKfkkK",
        "colab_type": "code",
        "outputId": "68c94bc9-e0f7-4e40-a4e9-d5daab34d5b0",
        "colab": {
          "base_uri": "https://localhost:8080/",
          "height": 187
        }
      },
      "source": [
        "usersds.isnull().sum()"
      ],
      "execution_count": 0,
      "outputs": [
        {
          "output_type": "execute_result",
          "data": {
            "text/plain": [
              "Unnamed: 0            0\n",
              "id                    0\n",
              "display_name        136\n",
              "creation_date         0\n",
              "last_access_date      0\n",
              "reputation            0\n",
              "up_votes              0\n",
              "down_votes            0\n",
              "views                 0\n",
              "dtype: int64"
            ]
          },
          "metadata": {
            "tags": []
          },
          "execution_count": 17
        }
      ]
    },
    {
      "cell_type": "code",
      "metadata": {
        "id": "vrmpGn97V050",
        "colab_type": "code",
        "outputId": "2c1ce94f-4f28-4ead-e0b8-82876e92bf3a",
        "colab": {
          "base_uri": "https://localhost:8080/",
          "height": 34
        }
      },
      "source": [
        "missingPercForOwner = (questionsds.OwnerUserId.isnull().sum()/len(questionsds.OwnerUserId)) * 100\n",
        "print (missingPercForOwner)"
      ],
      "execution_count": 0,
      "outputs": [
        {
          "output_type": "stream",
          "text": [
            "1.1433172812240946\n"
          ],
          "name": "stdout"
        }
      ]
    },
    {
      "cell_type": "code",
      "metadata": {
        "id": "Q1YZez9EW_Fc",
        "colab_type": "code",
        "outputId": "f88bf816-0ddc-452c-bce5-27e02a29d45f",
        "colab": {
          "base_uri": "https://localhost:8080/",
          "height": 34
        }
      },
      "source": [
        "missingPercClosedDate = (questionsds.ClosedDate.isnull().sum()/len(questionsds.ClosedDate)) * 100\n",
        "print (missingPercClosedDate)"
      ],
      "execution_count": 0,
      "outputs": [
        {
          "output_type": "stream",
          "text": [
            "95.57362033070298\n"
          ],
          "name": "stdout"
        }
      ]
    },
    {
      "cell_type": "code",
      "metadata": {
        "id": "PrGyyLrEPxAP",
        "colab_type": "code",
        "outputId": "3052589e-afcb-4804-8d43-9c7fa5f897dd",
        "colab": {
          "base_uri": "https://localhost:8080/",
          "height": 34
        }
      },
      "source": [
        "missingPercForOwnerInAnswer = (answerds.OwnerUserId.isnull().sum()/len(answerds.OwnerUserId)) * 100\n",
        "print (missingPercForOwnerInAnswer)"
      ],
      "execution_count": 0,
      "outputs": [
        {
          "output_type": "stream",
          "text": [
            "0.6552442373254916\n"
          ],
          "name": "stdout"
        }
      ]
    },
    {
      "cell_type": "code",
      "metadata": {
        "id": "wzXE2LM9P0zF",
        "colab_type": "code",
        "outputId": "fec8d7f2-7af7-4854-8309-577146ebc87b",
        "colab": {
          "base_uri": "https://localhost:8080/",
          "height": 34
        }
      },
      "source": [
        "missingTags = (tagsds.Tag.isnull().sum()/len(tagsds.Tag)) * 100\n",
        "print (missingTags)"
      ],
      "execution_count": 62,
      "outputs": [
        {
          "output_type": "stream",
          "text": [
            "0.029672134906107556\n"
          ],
          "name": "stdout"
        }
      ]
    },
    {
      "cell_type": "markdown",
      "metadata": {
        "id": "zOH91BQMrF4b",
        "colab_type": "text"
      },
      "source": [
        "##Drop unused Columns"
      ]
    },
    {
      "cell_type": "code",
      "metadata": {
        "id": "4QHqUKHZSaz0",
        "colab_type": "code",
        "outputId": "41ff8714-76da-4cd3-af90-63746ec72c47",
        "colab": {
          "base_uri": "https://localhost:8080/",
          "height": 204
        }
      },
      "source": [
        "usersds.drop(usersds.columns[0], axis =1, inplace= True)\n",
        "usersds.head()"
      ],
      "execution_count": 88,
      "outputs": [
        {
          "output_type": "execute_result",
          "data": {
            "text/html": [
              "<div>\n",
              "<style scoped>\n",
              "    .dataframe tbody tr th:only-of-type {\n",
              "        vertical-align: middle;\n",
              "    }\n",
              "\n",
              "    .dataframe tbody tr th {\n",
              "        vertical-align: top;\n",
              "    }\n",
              "\n",
              "    .dataframe thead th {\n",
              "        text-align: right;\n",
              "    }\n",
              "</style>\n",
              "<table border=\"1\" class=\"dataframe\">\n",
              "  <thead>\n",
              "    <tr style=\"text-align: right;\">\n",
              "      <th></th>\n",
              "      <th>id</th>\n",
              "      <th>display_name</th>\n",
              "      <th>creation_date</th>\n",
              "      <th>last_access_date</th>\n",
              "      <th>reputation</th>\n",
              "      <th>up_votes</th>\n",
              "      <th>down_votes</th>\n",
              "      <th>views</th>\n",
              "    </tr>\n",
              "  </thead>\n",
              "  <tbody>\n",
              "    <tr>\n",
              "      <th>0</th>\n",
              "      <td>26</td>\n",
              "      <td>Shawn</td>\n",
              "      <td>2008-08-01 12:18:14.52 UTC</td>\n",
              "      <td>2018-04-11 04:40:35.66 UTC</td>\n",
              "      <td>11820</td>\n",
              "      <td>565</td>\n",
              "      <td>67</td>\n",
              "      <td>3547</td>\n",
              "    </tr>\n",
              "    <tr>\n",
              "      <th>1</th>\n",
              "      <td>26</td>\n",
              "      <td>Shawn</td>\n",
              "      <td>2008-08-01 12:18:14.52 UTC</td>\n",
              "      <td>2018-04-11 04:40:35.66 UTC</td>\n",
              "      <td>11820</td>\n",
              "      <td>565</td>\n",
              "      <td>67</td>\n",
              "      <td>3547</td>\n",
              "    </tr>\n",
              "    <tr>\n",
              "      <th>2</th>\n",
              "      <td>26</td>\n",
              "      <td>Shawn</td>\n",
              "      <td>2008-08-01 12:18:14.52 UTC</td>\n",
              "      <td>2018-04-11 04:40:35.66 UTC</td>\n",
              "      <td>11820</td>\n",
              "      <td>565</td>\n",
              "      <td>67</td>\n",
              "      <td>3547</td>\n",
              "    </tr>\n",
              "    <tr>\n",
              "      <th>3</th>\n",
              "      <td>26</td>\n",
              "      <td>Shawn</td>\n",
              "      <td>2008-08-01 12:18:14.52 UTC</td>\n",
              "      <td>2018-04-11 04:40:35.66 UTC</td>\n",
              "      <td>11820</td>\n",
              "      <td>565</td>\n",
              "      <td>67</td>\n",
              "      <td>3547</td>\n",
              "    </tr>\n",
              "    <tr>\n",
              "      <th>4</th>\n",
              "      <td>26</td>\n",
              "      <td>Shawn</td>\n",
              "      <td>2008-08-01 12:18:14.52 UTC</td>\n",
              "      <td>2018-04-11 04:40:35.66 UTC</td>\n",
              "      <td>11820</td>\n",
              "      <td>565</td>\n",
              "      <td>67</td>\n",
              "      <td>3547</td>\n",
              "    </tr>\n",
              "  </tbody>\n",
              "</table>\n",
              "</div>"
            ],
            "text/plain": [
              "   id display_name               creation_date  ... up_votes  down_votes  views\n",
              "0  26        Shawn  2008-08-01 12:18:14.52 UTC  ...      565          67   3547\n",
              "1  26        Shawn  2008-08-01 12:18:14.52 UTC  ...      565          67   3547\n",
              "2  26        Shawn  2008-08-01 12:18:14.52 UTC  ...      565          67   3547\n",
              "3  26        Shawn  2008-08-01 12:18:14.52 UTC  ...      565          67   3547\n",
              "4  26        Shawn  2008-08-01 12:18:14.52 UTC  ...      565          67   3547\n",
              "\n",
              "[5 rows x 8 columns]"
            ]
          },
          "metadata": {
            "tags": []
          },
          "execution_count": 88
        }
      ]
    },
    {
      "cell_type": "markdown",
      "metadata": {
        "id": "uLonJkUAiNbc",
        "colab_type": "text"
      },
      "source": [
        "##Remove Duplicates in User Data Frame"
      ]
    },
    {
      "cell_type": "code",
      "metadata": {
        "id": "jEXb62T5TJmo",
        "colab_type": "code",
        "outputId": "6360a512-8fef-447d-b739-e0afbda9d0ae",
        "colab": {
          "base_uri": "https://localhost:8080/",
          "height": 34
        }
      },
      "source": [
        "usersds.duplicated().sum()"
      ],
      "execution_count": 84,
      "outputs": [
        {
          "output_type": "execute_result",
          "data": {
            "text/plain": [
              "1525020"
            ]
          },
          "metadata": {
            "tags": []
          },
          "execution_count": 84
        }
      ]
    },
    {
      "cell_type": "code",
      "metadata": {
        "id": "MY-ysdBuTz8D",
        "colab_type": "code",
        "outputId": "db483b17-2390-47fa-d2f7-a5472590e83a",
        "colab": {
          "base_uri": "https://localhost:8080/",
          "height": 34
        }
      },
      "source": [
        "userDuplicatePerc = (usersds.duplicated().sum()/len(usersds)) * 100\n",
        "print (userDuplicatePerc)"
      ],
      "execution_count": 89,
      "outputs": [
        {
          "output_type": "stream",
          "text": [
            "76.61569068767332\n"
          ],
          "name": "stdout"
        }
      ]
    },
    {
      "cell_type": "code",
      "metadata": {
        "id": "3zmxwy-qPPut",
        "colab_type": "code",
        "colab": {
          "base_uri": "https://localhost:8080/",
          "height": 34
        },
        "outputId": "0268889e-95e5-45f2-c45e-dd43456bccfd"
      },
      "source": [
        "len(usersds.display_name.unique())"
      ],
      "execution_count": 92,
      "outputs": [
        {
          "output_type": "execute_result",
          "data": {
            "text/plain": [
              "389235"
            ]
          },
          "metadata": {
            "tags": []
          },
          "execution_count": 92
        }
      ]
    },
    {
      "cell_type": "code",
      "metadata": {
        "id": "Zq3pGO4PUEis",
        "colab_type": "code",
        "outputId": "95cc387f-20c5-434c-b54d-dba69412a7b2",
        "colab": {
          "base_uri": "https://localhost:8080/",
          "height": 34
        }
      },
      "source": [
        "usersds.drop_duplicates(keep='last',inplace=True)\n",
        "usersds.shape"
      ],
      "execution_count": 93,
      "outputs": [
        {
          "output_type": "execute_result",
          "data": {
            "text/plain": [
              "(465460, 8)"
            ]
          },
          "metadata": {
            "tags": []
          },
          "execution_count": 93
        }
      ]
    },
    {
      "cell_type": "code",
      "metadata": {
        "id": "9xLZ98kMUdUK",
        "colab_type": "code",
        "outputId": "ea13b160-bd41-4ff5-cb33-65520364cedc",
        "colab": {
          "base_uri": "https://localhost:8080/",
          "height": 34
        }
      },
      "source": [
        "userDuplicatePercCheck = (usersds.duplicated().sum()/len(usersds)) * 100\n",
        "print (userDuplicatePercCheck)"
      ],
      "execution_count": 94,
      "outputs": [
        {
          "output_type": "stream",
          "text": [
            "0.0\n"
          ],
          "name": "stdout"
        }
      ]
    },
    {
      "cell_type": "code",
      "metadata": {
        "id": "_7DEPZ7iRbTW",
        "colab_type": "code",
        "colab": {
          "base_uri": "https://localhost:8080/",
          "height": 419
        },
        "outputId": "490e34a5-eaa1-4fc0-b358-fa26e264d9c4"
      },
      "source": [
        "usersds[usersds['display_name'].duplicated()]"
      ],
      "execution_count": 99,
      "outputs": [
        {
          "output_type": "execute_result",
          "data": {
            "text/html": [
              "<div>\n",
              "<style scoped>\n",
              "    .dataframe tbody tr th:only-of-type {\n",
              "        vertical-align: middle;\n",
              "    }\n",
              "\n",
              "    .dataframe tbody tr th {\n",
              "        vertical-align: top;\n",
              "    }\n",
              "\n",
              "    .dataframe thead th {\n",
              "        text-align: right;\n",
              "    }\n",
              "</style>\n",
              "<table border=\"1\" class=\"dataframe\">\n",
              "  <thead>\n",
              "    <tr style=\"text-align: right;\">\n",
              "      <th></th>\n",
              "      <th>id</th>\n",
              "      <th>display_name</th>\n",
              "      <th>creation_date</th>\n",
              "      <th>last_access_date</th>\n",
              "      <th>reputation</th>\n",
              "      <th>up_votes</th>\n",
              "      <th>down_votes</th>\n",
              "      <th>views</th>\n",
              "    </tr>\n",
              "  </thead>\n",
              "  <tbody>\n",
              "    <tr>\n",
              "      <th>5683</th>\n",
              "      <td>667</td>\n",
              "      <td>Evan</td>\n",
              "      <td>2008-08-07 16:00:54.003 UTC</td>\n",
              "      <td>2017-08-22 22:27:10.723 UTC</td>\n",
              "      <td>1848</td>\n",
              "      <td>273</td>\n",
              "      <td>9</td>\n",
              "      <td>171</td>\n",
              "    </tr>\n",
              "    <tr>\n",
              "      <th>6693</th>\n",
              "      <td>922</td>\n",
              "      <td>Jamie</td>\n",
              "      <td>2008-08-10 14:01:31.443 UTC</td>\n",
              "      <td>2019-08-30 14:03:07.977 UTC</td>\n",
              "      <td>2570</td>\n",
              "      <td>606</td>\n",
              "      <td>44</td>\n",
              "      <td>596</td>\n",
              "    </tr>\n",
              "    <tr>\n",
              "      <th>6983</th>\n",
              "      <td>238</td>\n",
              "      <td>Pat</td>\n",
              "      <td>2008-08-03 21:42:37.873 UTC</td>\n",
              "      <td>2019-08-30 16:14:50.727 UTC</td>\n",
              "      <td>28985</td>\n",
              "      <td>216</td>\n",
              "      <td>18</td>\n",
              "      <td>768</td>\n",
              "    </tr>\n",
              "    <tr>\n",
              "      <th>7823</th>\n",
              "      <td>230</td>\n",
              "      <td>Dan</td>\n",
              "      <td>2008-08-03 19:32:46.793 UTC</td>\n",
              "      <td>2019-08-31 21:40:13.793 UTC</td>\n",
              "      <td>15937</td>\n",
              "      <td>727</td>\n",
              "      <td>185</td>\n",
              "      <td>1451</td>\n",
              "    </tr>\n",
              "    <tr>\n",
              "      <th>8325</th>\n",
              "      <td>1236</td>\n",
              "      <td>Nick</td>\n",
              "      <td>2008-08-13 15:13:28.177 UTC</td>\n",
              "      <td>2019-07-09 15:48:55.163 UTC</td>\n",
              "      <td>721</td>\n",
              "      <td>18</td>\n",
              "      <td>0</td>\n",
              "      <td>94</td>\n",
              "    </tr>\n",
              "    <tr>\n",
              "      <th>...</th>\n",
              "      <td>...</td>\n",
              "      <td>...</td>\n",
              "      <td>...</td>\n",
              "      <td>...</td>\n",
              "      <td>...</td>\n",
              "      <td>...</td>\n",
              "      <td>...</td>\n",
              "      <td>...</td>\n",
              "    </tr>\n",
              "    <tr>\n",
              "      <th>1990455</th>\n",
              "      <td>7044100</td>\n",
              "      <td>Toad</td>\n",
              "      <td>2016-10-19 18:43:31.84 UTC</td>\n",
              "      <td>2016-10-24 23:28:02.963 UTC</td>\n",
              "      <td>71</td>\n",
              "      <td>6</td>\n",
              "      <td>0</td>\n",
              "      <td>0</td>\n",
              "    </tr>\n",
              "    <tr>\n",
              "      <th>1990458</th>\n",
              "      <td>7040778</td>\n",
              "      <td>Sonali</td>\n",
              "      <td>2016-10-19 07:24:13.413 UTC</td>\n",
              "      <td>2017-08-08 16:52:00.16 UTC</td>\n",
              "      <td>8</td>\n",
              "      <td>0</td>\n",
              "      <td>0</td>\n",
              "      <td>5</td>\n",
              "    </tr>\n",
              "    <tr>\n",
              "      <th>1990463</th>\n",
              "      <td>6098101</td>\n",
              "      <td>Paul Smith</td>\n",
              "      <td>2016-03-22 10:30:51.74 UTC</td>\n",
              "      <td>2017-03-12 23:44:17.16 UTC</td>\n",
              "      <td>45</td>\n",
              "      <td>1</td>\n",
              "      <td>0</td>\n",
              "      <td>6</td>\n",
              "    </tr>\n",
              "    <tr>\n",
              "      <th>1990470</th>\n",
              "      <td>6906486</td>\n",
              "      <td>Sam</td>\n",
              "      <td>2016-09-30 19:55:23.373 UTC</td>\n",
              "      <td>2019-02-07 21:58:27.707 UTC</td>\n",
              "      <td>10</td>\n",
              "      <td>0</td>\n",
              "      <td>0</td>\n",
              "      <td>0</td>\n",
              "    </tr>\n",
              "    <tr>\n",
              "      <th>1990476</th>\n",
              "      <td>6820506</td>\n",
              "      <td>Manuela</td>\n",
              "      <td>2016-09-12 00:19:17.83 UTC</td>\n",
              "      <td>2018-07-20 01:28:24.853 UTC</td>\n",
              "      <td>21</td>\n",
              "      <td>38</td>\n",
              "      <td>0</td>\n",
              "      <td>50</td>\n",
              "    </tr>\n",
              "  </tbody>\n",
              "</table>\n",
              "<p>76225 rows × 8 columns</p>\n",
              "</div>"
            ],
            "text/plain": [
              "              id display_name  ... down_votes views\n",
              "5683         667         Evan  ...          9   171\n",
              "6693         922        Jamie  ...         44   596\n",
              "6983         238          Pat  ...         18   768\n",
              "7823         230          Dan  ...        185  1451\n",
              "8325        1236         Nick  ...          0    94\n",
              "...          ...          ...  ...        ...   ...\n",
              "1990455  7044100         Toad  ...          0     0\n",
              "1990458  7040778       Sonali  ...          0     5\n",
              "1990463  6098101   Paul Smith  ...          0     6\n",
              "1990470  6906486          Sam  ...          0     0\n",
              "1990476  6820506      Manuela  ...          0    50\n",
              "\n",
              "[76225 rows x 8 columns]"
            ]
          },
          "metadata": {
            "tags": []
          },
          "execution_count": 99
        }
      ]
    },
    {
      "cell_type": "markdown",
      "metadata": {
        "id": "zlDu22VLGrUu",
        "colab_type": "text"
      },
      "source": [
        "## Rename Headers for better readability and Merge"
      ]
    },
    {
      "cell_type": "code",
      "metadata": {
        "id": "fB38zjtCFCcf",
        "colab_type": "code",
        "colab": {
          "base_uri": "https://localhost:8080/",
          "height": 289
        },
        "outputId": "5cc8e4d8-9108-451b-e49f-4c7b831e944a"
      },
      "source": [
        "questionsds.rename(columns = {'Id':'QuestionId', 'OwnerUserId':'QuestionOwnerUserId', 'CreationDate':'QuestionCreationDate', 'Score':'QuestionScore', 'Body':'QuestionBody'}, inplace = True) \n",
        "questionsds.head()"
      ],
      "execution_count": 70,
      "outputs": [
        {
          "output_type": "execute_result",
          "data": {
            "text/html": [
              "<div>\n",
              "<style scoped>\n",
              "    .dataframe tbody tr th:only-of-type {\n",
              "        vertical-align: middle;\n",
              "    }\n",
              "\n",
              "    .dataframe tbody tr th {\n",
              "        vertical-align: top;\n",
              "    }\n",
              "\n",
              "    .dataframe thead th {\n",
              "        text-align: right;\n",
              "    }\n",
              "</style>\n",
              "<table border=\"1\" class=\"dataframe\">\n",
              "  <thead>\n",
              "    <tr style=\"text-align: right;\">\n",
              "      <th></th>\n",
              "      <th>QuestionId</th>\n",
              "      <th>QuestionOwnerUserId</th>\n",
              "      <th>QuestionCreationDate</th>\n",
              "      <th>ClosedDate</th>\n",
              "      <th>QuestionScore</th>\n",
              "      <th>Title</th>\n",
              "      <th>QuestionBody</th>\n",
              "    </tr>\n",
              "  </thead>\n",
              "  <tbody>\n",
              "    <tr>\n",
              "      <th>0</th>\n",
              "      <td>80</td>\n",
              "      <td>26.0</td>\n",
              "      <td>2008-08-01T13:57:07Z</td>\n",
              "      <td>NaN</td>\n",
              "      <td>26</td>\n",
              "      <td>SQLStatement.execute() - multiple queries in o...</td>\n",
              "      <td>&lt;p&gt;I've written a database generation script i...</td>\n",
              "    </tr>\n",
              "    <tr>\n",
              "      <th>1</th>\n",
              "      <td>90</td>\n",
              "      <td>58.0</td>\n",
              "      <td>2008-08-01T14:41:24Z</td>\n",
              "      <td>2012-12-26T03:45:49Z</td>\n",
              "      <td>144</td>\n",
              "      <td>Good branching and merging tutorials for Torto...</td>\n",
              "      <td>&lt;p&gt;Are there any really good tutorials explain...</td>\n",
              "    </tr>\n",
              "    <tr>\n",
              "      <th>2</th>\n",
              "      <td>120</td>\n",
              "      <td>83.0</td>\n",
              "      <td>2008-08-01T15:50:08Z</td>\n",
              "      <td>NaN</td>\n",
              "      <td>21</td>\n",
              "      <td>ASP.NET Site Maps</td>\n",
              "      <td>&lt;p&gt;Has anyone got experience creating &lt;strong&gt;...</td>\n",
              "    </tr>\n",
              "    <tr>\n",
              "      <th>3</th>\n",
              "      <td>180</td>\n",
              "      <td>2089740.0</td>\n",
              "      <td>2008-08-01T18:42:19Z</td>\n",
              "      <td>NaN</td>\n",
              "      <td>53</td>\n",
              "      <td>Function for creating color wheels</td>\n",
              "      <td>&lt;p&gt;This is something I've pseudo-solved many t...</td>\n",
              "    </tr>\n",
              "    <tr>\n",
              "      <th>4</th>\n",
              "      <td>260</td>\n",
              "      <td>91.0</td>\n",
              "      <td>2008-08-01T23:22:08Z</td>\n",
              "      <td>NaN</td>\n",
              "      <td>49</td>\n",
              "      <td>Adding scripting functionality to .NET applica...</td>\n",
              "      <td>&lt;p&gt;I have a little game written in C#. It uses...</td>\n",
              "    </tr>\n",
              "  </tbody>\n",
              "</table>\n",
              "</div>"
            ],
            "text/plain": [
              "   QuestionId  ...                                       QuestionBody\n",
              "0          80  ...  <p>I've written a database generation script i...\n",
              "1          90  ...  <p>Are there any really good tutorials explain...\n",
              "2         120  ...  <p>Has anyone got experience creating <strong>...\n",
              "3         180  ...  <p>This is something I've pseudo-solved many t...\n",
              "4         260  ...  <p>I have a little game written in C#. It uses...\n",
              "\n",
              "[5 rows x 7 columns]"
            ]
          },
          "metadata": {
            "tags": []
          },
          "execution_count": 70
        }
      ]
    },
    {
      "cell_type": "code",
      "metadata": {
        "id": "4KXf2SSqHRDH",
        "colab_type": "code",
        "colab": {
          "base_uri": "https://localhost:8080/",
          "height": 204
        },
        "outputId": "413b5e20-f92a-4bed-8510-0b25c17da6d2"
      },
      "source": [
        "answerds.rename(columns = {'Id':'AnswerId', 'OwnerUserId':'AnswerOwnerUserId', 'CreationDate':'AnswerCreationDate', 'ParentId':'QuestionId', 'Score':'AnswerScore','Body':'AnswerBody'}, inplace = True) \n",
        "answerds.head()"
      ],
      "execution_count": 71,
      "outputs": [
        {
          "output_type": "execute_result",
          "data": {
            "text/html": [
              "<div>\n",
              "<style scoped>\n",
              "    .dataframe tbody tr th:only-of-type {\n",
              "        vertical-align: middle;\n",
              "    }\n",
              "\n",
              "    .dataframe tbody tr th {\n",
              "        vertical-align: top;\n",
              "    }\n",
              "\n",
              "    .dataframe thead th {\n",
              "        text-align: right;\n",
              "    }\n",
              "</style>\n",
              "<table border=\"1\" class=\"dataframe\">\n",
              "  <thead>\n",
              "    <tr style=\"text-align: right;\">\n",
              "      <th></th>\n",
              "      <th>AnswerId</th>\n",
              "      <th>AnswerOwnerUserId</th>\n",
              "      <th>AnswerCreationDate</th>\n",
              "      <th>QuestionId</th>\n",
              "      <th>AnswerScore</th>\n",
              "      <th>AnswerBody</th>\n",
              "    </tr>\n",
              "  </thead>\n",
              "  <tbody>\n",
              "    <tr>\n",
              "      <th>0</th>\n",
              "      <td>92</td>\n",
              "      <td>61.0</td>\n",
              "      <td>2008-08-01T14:45:37Z</td>\n",
              "      <td>90</td>\n",
              "      <td>13</td>\n",
              "      <td>&lt;p&gt;&lt;a href=\"http://svnbook.red-bean.com/\"&gt;Vers...</td>\n",
              "    </tr>\n",
              "    <tr>\n",
              "      <th>1</th>\n",
              "      <td>124</td>\n",
              "      <td>26.0</td>\n",
              "      <td>2008-08-01T16:09:47Z</td>\n",
              "      <td>80</td>\n",
              "      <td>12</td>\n",
              "      <td>&lt;p&gt;I wound up using this. It is a kind of a ha...</td>\n",
              "    </tr>\n",
              "    <tr>\n",
              "      <th>2</th>\n",
              "      <td>199</td>\n",
              "      <td>50.0</td>\n",
              "      <td>2008-08-01T19:36:46Z</td>\n",
              "      <td>180</td>\n",
              "      <td>1</td>\n",
              "      <td>&lt;p&gt;I've read somewhere the human eye can't dis...</td>\n",
              "    </tr>\n",
              "    <tr>\n",
              "      <th>3</th>\n",
              "      <td>269</td>\n",
              "      <td>91.0</td>\n",
              "      <td>2008-08-01T23:49:57Z</td>\n",
              "      <td>260</td>\n",
              "      <td>4</td>\n",
              "      <td>&lt;p&gt;Yes, I thought about that, but I soon figur...</td>\n",
              "    </tr>\n",
              "    <tr>\n",
              "      <th>4</th>\n",
              "      <td>307</td>\n",
              "      <td>49.0</td>\n",
              "      <td>2008-08-02T01:49:46Z</td>\n",
              "      <td>260</td>\n",
              "      <td>28</td>\n",
              "      <td>&lt;p&gt;&lt;a href=\"http://www.codeproject.com/Article...</td>\n",
              "    </tr>\n",
              "  </tbody>\n",
              "</table>\n",
              "</div>"
            ],
            "text/plain": [
              "   AnswerId  ...                                         AnswerBody\n",
              "0        92  ...  <p><a href=\"http://svnbook.red-bean.com/\">Vers...\n",
              "1       124  ...  <p>I wound up using this. It is a kind of a ha...\n",
              "2       199  ...  <p>I've read somewhere the human eye can't dis...\n",
              "3       269  ...  <p>Yes, I thought about that, but I soon figur...\n",
              "4       307  ...  <p><a href=\"http://www.codeproject.com/Article...\n",
              "\n",
              "[5 rows x 6 columns]"
            ]
          },
          "metadata": {
            "tags": []
          },
          "execution_count": 71
        }
      ]
    },
    {
      "cell_type": "code",
      "metadata": {
        "id": "xkK3jR0uIRXw",
        "colab_type": "code",
        "colab": {
          "base_uri": "https://localhost:8080/",
          "height": 204
        },
        "outputId": "393d649b-ad85-47d7-ea5e-6c70a28b6dc5"
      },
      "source": [
        "tagsds.rename(columns = {'Id':'QuestionId'}, inplace = True)\n",
        "tagsds.head()"
      ],
      "execution_count": 77,
      "outputs": [
        {
          "output_type": "execute_result",
          "data": {
            "text/html": [
              "<div>\n",
              "<style scoped>\n",
              "    .dataframe tbody tr th:only-of-type {\n",
              "        vertical-align: middle;\n",
              "    }\n",
              "\n",
              "    .dataframe tbody tr th {\n",
              "        vertical-align: top;\n",
              "    }\n",
              "\n",
              "    .dataframe thead th {\n",
              "        text-align: right;\n",
              "    }\n",
              "</style>\n",
              "<table border=\"1\" class=\"dataframe\">\n",
              "  <thead>\n",
              "    <tr style=\"text-align: right;\">\n",
              "      <th></th>\n",
              "      <th>QuestionId</th>\n",
              "      <th>Tag</th>\n",
              "    </tr>\n",
              "  </thead>\n",
              "  <tbody>\n",
              "    <tr>\n",
              "      <th>0</th>\n",
              "      <td>80</td>\n",
              "      <td>flex</td>\n",
              "    </tr>\n",
              "    <tr>\n",
              "      <th>1</th>\n",
              "      <td>80</td>\n",
              "      <td>actionscript-3</td>\n",
              "    </tr>\n",
              "    <tr>\n",
              "      <th>2</th>\n",
              "      <td>80</td>\n",
              "      <td>air</td>\n",
              "    </tr>\n",
              "    <tr>\n",
              "      <th>3</th>\n",
              "      <td>90</td>\n",
              "      <td>svn</td>\n",
              "    </tr>\n",
              "    <tr>\n",
              "      <th>4</th>\n",
              "      <td>90</td>\n",
              "      <td>tortoisesvn</td>\n",
              "    </tr>\n",
              "  </tbody>\n",
              "</table>\n",
              "</div>"
            ],
            "text/plain": [
              "   QuestionId             Tag\n",
              "0          80            flex\n",
              "1          80  actionscript-3\n",
              "2          80             air\n",
              "3          90             svn\n",
              "4          90     tortoisesvn"
            ]
          },
          "metadata": {
            "tags": []
          },
          "execution_count": 77
        }
      ]
    },
    {
      "cell_type": "code",
      "metadata": {
        "id": "FCU_IZvCOsUG",
        "colab_type": "code",
        "colab": {
          "base_uri": "https://localhost:8080/",
          "height": 204
        },
        "outputId": "d1d9ee66-7bca-4e1e-ea12-99fcaef93b23"
      },
      "source": [
        "#userds.rename(columns = {'Id':'QuestionId'}, inplace = True)\n",
        "usersds.head()"
      ],
      "execution_count": 98,
      "outputs": [
        {
          "output_type": "execute_result",
          "data": {
            "text/html": [
              "<div>\n",
              "<style scoped>\n",
              "    .dataframe tbody tr th:only-of-type {\n",
              "        vertical-align: middle;\n",
              "    }\n",
              "\n",
              "    .dataframe tbody tr th {\n",
              "        vertical-align: top;\n",
              "    }\n",
              "\n",
              "    .dataframe thead th {\n",
              "        text-align: right;\n",
              "    }\n",
              "</style>\n",
              "<table border=\"1\" class=\"dataframe\">\n",
              "  <thead>\n",
              "    <tr style=\"text-align: right;\">\n",
              "      <th></th>\n",
              "      <th>id</th>\n",
              "      <th>display_name</th>\n",
              "      <th>creation_date</th>\n",
              "      <th>last_access_date</th>\n",
              "      <th>reputation</th>\n",
              "      <th>up_votes</th>\n",
              "      <th>down_votes</th>\n",
              "      <th>views</th>\n",
              "    </tr>\n",
              "  </thead>\n",
              "  <tbody>\n",
              "    <tr>\n",
              "      <th>26</th>\n",
              "      <td>26</td>\n",
              "      <td>Shawn</td>\n",
              "      <td>2008-08-01 12:18:14.52 UTC</td>\n",
              "      <td>2018-04-11 04:40:35.66 UTC</td>\n",
              "      <td>11820</td>\n",
              "      <td>565</td>\n",
              "      <td>67</td>\n",
              "      <td>3547</td>\n",
              "    </tr>\n",
              "    <tr>\n",
              "      <th>84</th>\n",
              "      <td>1109</td>\n",
              "      <td>Theo</td>\n",
              "      <td>2008-08-12 12:16:58.61 UTC</td>\n",
              "      <td>2019-08-31 11:39:52.28 UTC</td>\n",
              "      <td>116072</td>\n",
              "      <td>457</td>\n",
              "      <td>136</td>\n",
              "      <td>6905</td>\n",
              "    </tr>\n",
              "    <tr>\n",
              "      <th>86</th>\n",
              "      <td>364174</td>\n",
              "      <td>stats</td>\n",
              "      <td>2010-06-11 03:34:57.137 UTC</td>\n",
              "      <td>2019-08-29 18:37:35.027 UTC</td>\n",
              "      <td>325</td>\n",
              "      <td>25</td>\n",
              "      <td>1</td>\n",
              "      <td>60</td>\n",
              "    </tr>\n",
              "    <tr>\n",
              "      <th>96</th>\n",
              "      <td>61</td>\n",
              "      <td>Bernard</td>\n",
              "      <td>2008-08-01 14:21:00.573 UTC</td>\n",
              "      <td>2019-08-30 07:11:58.297 UTC</td>\n",
              "      <td>22779</td>\n",
              "      <td>1321</td>\n",
              "      <td>219</td>\n",
              "      <td>1731</td>\n",
              "    </tr>\n",
              "    <tr>\n",
              "      <th>98</th>\n",
              "      <td>20709</td>\n",
              "      <td>Black Horus</td>\n",
              "      <td>2008-09-22 20:03:39.71 UTC</td>\n",
              "      <td>2019-09-01 01:17:38.133 UTC</td>\n",
              "      <td>978</td>\n",
              "      <td>73</td>\n",
              "      <td>2</td>\n",
              "      <td>96</td>\n",
              "    </tr>\n",
              "  </tbody>\n",
              "</table>\n",
              "</div>"
            ],
            "text/plain": [
              "        id display_name  ... down_votes views\n",
              "26      26        Shawn  ...         67  3547\n",
              "84    1109         Theo  ...        136  6905\n",
              "86  364174        stats  ...          1    60\n",
              "96      61      Bernard  ...        219  1731\n",
              "98   20709  Black Horus  ...          2    96\n",
              "\n",
              "[5 rows x 8 columns]"
            ]
          },
          "metadata": {
            "tags": []
          },
          "execution_count": 98
        }
      ]
    },
    {
      "cell_type": "code",
      "metadata": {
        "id": "qi1eQovAJKnz",
        "colab_type": "code",
        "colab": {
          "base_uri": "https://localhost:8080/",
          "height": 136
        },
        "outputId": "31187418-acc3-49ef-c2b8-bb2127e922c7"
      },
      "source": [
        "groupDs = tagsds.groupby('QuestionId')\n",
        "tagsdsModified = groupDs['Tag'].unique()\n",
        "tagsdsModified.head()"
      ],
      "execution_count": 78,
      "outputs": [
        {
          "output_type": "execute_result",
          "data": {
            "text/plain": [
              "QuestionId\n",
              "80                           [flex, actionscript-3, air]\n",
              "90     [svn, tortoisesvn, branch, branching-and-merging]\n",
              "120                              [sql, asp.net, sitemap]\n",
              "180    [algorithm, language-agnostic, colors, color-s...\n",
              "260         [c#, .net, scripting, compiler-construction]\n",
              "Name: Tag, dtype: object"
            ]
          },
          "metadata": {
            "tags": []
          },
          "execution_count": 78
        }
      ]
    },
    {
      "cell_type": "code",
      "metadata": {
        "id": "1LZRKGRPHVlb",
        "colab_type": "code",
        "colab": {
          "base_uri": "https://localhost:8080/",
          "height": 1000
        },
        "outputId": "3bb0ecc8-faa0-467c-c7ce-7da9b62a8100"
      },
      "source": [
        "QuestionAnswer = pd.merge(questionsds, answerds, on='QuestionId', how='left')\n",
        "QuestionAnswer.head(20)"
      ],
      "execution_count": 79,
      "outputs": [
        {
          "output_type": "execute_result",
          "data": {
            "text/html": [
              "<div>\n",
              "<style scoped>\n",
              "    .dataframe tbody tr th:only-of-type {\n",
              "        vertical-align: middle;\n",
              "    }\n",
              "\n",
              "    .dataframe tbody tr th {\n",
              "        vertical-align: top;\n",
              "    }\n",
              "\n",
              "    .dataframe thead th {\n",
              "        text-align: right;\n",
              "    }\n",
              "</style>\n",
              "<table border=\"1\" class=\"dataframe\">\n",
              "  <thead>\n",
              "    <tr style=\"text-align: right;\">\n",
              "      <th></th>\n",
              "      <th>QuestionId</th>\n",
              "      <th>QuestionOwnerUserId</th>\n",
              "      <th>QuestionCreationDate</th>\n",
              "      <th>ClosedDate</th>\n",
              "      <th>QuestionScore</th>\n",
              "      <th>Title</th>\n",
              "      <th>QuestionBody</th>\n",
              "      <th>AnswerId</th>\n",
              "      <th>AnswerOwnerUserId</th>\n",
              "      <th>AnswerCreationDate</th>\n",
              "      <th>AnswerScore</th>\n",
              "      <th>AnswerBody</th>\n",
              "    </tr>\n",
              "  </thead>\n",
              "  <tbody>\n",
              "    <tr>\n",
              "      <th>0</th>\n",
              "      <td>80</td>\n",
              "      <td>26.0</td>\n",
              "      <td>2008-08-01T13:57:07Z</td>\n",
              "      <td>NaN</td>\n",
              "      <td>26</td>\n",
              "      <td>SQLStatement.execute() - multiple queries in o...</td>\n",
              "      <td>&lt;p&gt;I've written a database generation script i...</td>\n",
              "      <td>124.0</td>\n",
              "      <td>26.0</td>\n",
              "      <td>2008-08-01T16:09:47Z</td>\n",
              "      <td>12.0</td>\n",
              "      <td>&lt;p&gt;I wound up using this. It is a kind of a ha...</td>\n",
              "    </tr>\n",
              "    <tr>\n",
              "      <th>1</th>\n",
              "      <td>80</td>\n",
              "      <td>26.0</td>\n",
              "      <td>2008-08-01T13:57:07Z</td>\n",
              "      <td>NaN</td>\n",
              "      <td>26</td>\n",
              "      <td>SQLStatement.execute() - multiple queries in o...</td>\n",
              "      <td>&lt;p&gt;I've written a database generation script i...</td>\n",
              "      <td>10008.0</td>\n",
              "      <td>1109.0</td>\n",
              "      <td>2008-08-13T16:09:09Z</td>\n",
              "      <td>6.0</td>\n",
              "      <td>&lt;p&gt;The &lt;a href=\"http://en.wikipedia.org/wiki/S...</td>\n",
              "    </tr>\n",
              "    <tr>\n",
              "      <th>2</th>\n",
              "      <td>80</td>\n",
              "      <td>26.0</td>\n",
              "      <td>2008-08-01T13:57:07Z</td>\n",
              "      <td>NaN</td>\n",
              "      <td>26</td>\n",
              "      <td>SQLStatement.execute() - multiple queries in o...</td>\n",
              "      <td>&lt;p&gt;I've written a database generation script i...</td>\n",
              "      <td>3770976.0</td>\n",
              "      <td>364174.0</td>\n",
              "      <td>2010-09-22T15:37:30Z</td>\n",
              "      <td>1.0</td>\n",
              "      <td>&lt;p&gt;What about making your delimiter something ...</td>\n",
              "    </tr>\n",
              "    <tr>\n",
              "      <th>3</th>\n",
              "      <td>90</td>\n",
              "      <td>58.0</td>\n",
              "      <td>2008-08-01T14:41:24Z</td>\n",
              "      <td>2012-12-26T03:45:49Z</td>\n",
              "      <td>144</td>\n",
              "      <td>Good branching and merging tutorials for Torto...</td>\n",
              "      <td>&lt;p&gt;Are there any really good tutorials explain...</td>\n",
              "      <td>92.0</td>\n",
              "      <td>61.0</td>\n",
              "      <td>2008-08-01T14:45:37Z</td>\n",
              "      <td>13.0</td>\n",
              "      <td>&lt;p&gt;&lt;a href=\"http://svnbook.red-bean.com/\"&gt;Vers...</td>\n",
              "    </tr>\n",
              "    <tr>\n",
              "      <th>4</th>\n",
              "      <td>90</td>\n",
              "      <td>58.0</td>\n",
              "      <td>2008-08-01T14:41:24Z</td>\n",
              "      <td>2012-12-26T03:45:49Z</td>\n",
              "      <td>144</td>\n",
              "      <td>Good branching and merging tutorials for Torto...</td>\n",
              "      <td>&lt;p&gt;Are there any really good tutorials explain...</td>\n",
              "      <td>202317.0</td>\n",
              "      <td>20709.0</td>\n",
              "      <td>2008-10-14T18:41:45Z</td>\n",
              "      <td>2.0</td>\n",
              "      <td>&lt;p&gt;You can also try &lt;em&gt;&lt;a href=\"http://www.co...</td>\n",
              "    </tr>\n",
              "    <tr>\n",
              "      <th>5</th>\n",
              "      <td>90</td>\n",
              "      <td>58.0</td>\n",
              "      <td>2008-08-01T14:41:24Z</td>\n",
              "      <td>2012-12-26T03:45:49Z</td>\n",
              "      <td>144</td>\n",
              "      <td>Good branching and merging tutorials for Torto...</td>\n",
              "      <td>&lt;p&gt;Are there any really good tutorials explain...</td>\n",
              "      <td>1466832.0</td>\n",
              "      <td>16012.0</td>\n",
              "      <td>2009-09-23T15:40:46Z</td>\n",
              "      <td>19.0</td>\n",
              "      <td>&lt;p&gt;My easy click-by-click instructions (&lt;stron...</td>\n",
              "    </tr>\n",
              "    <tr>\n",
              "      <th>6</th>\n",
              "      <td>120</td>\n",
              "      <td>83.0</td>\n",
              "      <td>2008-08-01T15:50:08Z</td>\n",
              "      <td>NaN</td>\n",
              "      <td>21</td>\n",
              "      <td>ASP.NET Site Maps</td>\n",
              "      <td>&lt;p&gt;Has anyone got experience creating &lt;strong&gt;...</td>\n",
              "      <td>124363.0</td>\n",
              "      <td>12734.0</td>\n",
              "      <td>2008-09-23T22:41:11Z</td>\n",
              "      <td>9.0</td>\n",
              "      <td>&lt;p&gt;The Jeff Prosise version from MSDN magazine...</td>\n",
              "    </tr>\n",
              "    <tr>\n",
              "      <th>7</th>\n",
              "      <td>180</td>\n",
              "      <td>2089740.0</td>\n",
              "      <td>2008-08-01T18:42:19Z</td>\n",
              "      <td>NaN</td>\n",
              "      <td>53</td>\n",
              "      <td>Function for creating color wheels</td>\n",
              "      <td>&lt;p&gt;This is something I've pseudo-solved many t...</td>\n",
              "      <td>199.0</td>\n",
              "      <td>50.0</td>\n",
              "      <td>2008-08-01T19:36:46Z</td>\n",
              "      <td>1.0</td>\n",
              "      <td>&lt;p&gt;I've read somewhere the human eye can't dis...</td>\n",
              "    </tr>\n",
              "    <tr>\n",
              "      <th>8</th>\n",
              "      <td>180</td>\n",
              "      <td>2089740.0</td>\n",
              "      <td>2008-08-01T18:42:19Z</td>\n",
              "      <td>NaN</td>\n",
              "      <td>53</td>\n",
              "      <td>Function for creating color wheels</td>\n",
              "      <td>&lt;p&gt;This is something I've pseudo-solved many t...</td>\n",
              "      <td>529.0</td>\n",
              "      <td>86.0</td>\n",
              "      <td>2008-08-02T18:16:07Z</td>\n",
              "      <td>3.0</td>\n",
              "      <td>&lt;p&gt;Isn't it also a factor which order you set ...</td>\n",
              "    </tr>\n",
              "    <tr>\n",
              "      <th>9</th>\n",
              "      <td>180</td>\n",
              "      <td>2089740.0</td>\n",
              "      <td>2008-08-01T18:42:19Z</td>\n",
              "      <td>NaN</td>\n",
              "      <td>53</td>\n",
              "      <td>Function for creating color wheels</td>\n",
              "      <td>&lt;p&gt;This is something I've pseudo-solved many t...</td>\n",
              "      <td>539.0</td>\n",
              "      <td>157.0</td>\n",
              "      <td>2008-08-02T19:03:52Z</td>\n",
              "      <td>21.0</td>\n",
              "      <td>&lt;p&gt;My first thought on this is \"how generate N...</td>\n",
              "    </tr>\n",
              "    <tr>\n",
              "      <th>10</th>\n",
              "      <td>180</td>\n",
              "      <td>2089740.0</td>\n",
              "      <td>2008-08-01T18:42:19Z</td>\n",
              "      <td>NaN</td>\n",
              "      <td>53</td>\n",
              "      <td>Function for creating color wheels</td>\n",
              "      <td>&lt;p&gt;This is something I've pseudo-solved many t...</td>\n",
              "      <td>59760.0</td>\n",
              "      <td>5845.0</td>\n",
              "      <td>2008-09-12T19:00:13Z</td>\n",
              "      <td>17.0</td>\n",
              "      <td>&lt;p&gt;It would be best to find colors maximally d...</td>\n",
              "    </tr>\n",
              "    <tr>\n",
              "      <th>11</th>\n",
              "      <td>180</td>\n",
              "      <td>2089740.0</td>\n",
              "      <td>2008-08-01T18:42:19Z</td>\n",
              "      <td>NaN</td>\n",
              "      <td>53</td>\n",
              "      <td>Function for creating color wheels</td>\n",
              "      <td>&lt;p&gt;This is something I've pseudo-solved many t...</td>\n",
              "      <td>93908.0</td>\n",
              "      <td>16632.0</td>\n",
              "      <td>2008-09-18T16:01:24Z</td>\n",
              "      <td>7.0</td>\n",
              "      <td>&lt;p&gt;Some related resources:&lt;/p&gt;\\n\\n&lt;p&gt;&lt;a href=\"...</td>\n",
              "    </tr>\n",
              "    <tr>\n",
              "      <th>12</th>\n",
              "      <td>180</td>\n",
              "      <td>2089740.0</td>\n",
              "      <td>2008-08-01T18:42:19Z</td>\n",
              "      <td>NaN</td>\n",
              "      <td>53</td>\n",
              "      <td>Function for creating color wheels</td>\n",
              "      <td>&lt;p&gt;This is something I've pseudo-solved many t...</td>\n",
              "      <td>143966.0</td>\n",
              "      <td>16582.0</td>\n",
              "      <td>2008-09-27T16:39:09Z</td>\n",
              "      <td>4.0</td>\n",
              "      <td>&lt;p&gt;Here is some code to allocate RGB colors ev...</td>\n",
              "    </tr>\n",
              "    <tr>\n",
              "      <th>13</th>\n",
              "      <td>180</td>\n",
              "      <td>2089740.0</td>\n",
              "      <td>2008-08-01T18:42:19Z</td>\n",
              "      <td>NaN</td>\n",
              "      <td>53</td>\n",
              "      <td>Function for creating color wheels</td>\n",
              "      <td>&lt;p&gt;This is something I've pseudo-solved many t...</td>\n",
              "      <td>1499720.0</td>\n",
              "      <td>115432.0</td>\n",
              "      <td>2009-09-30T18:00:26Z</td>\n",
              "      <td>0.0</td>\n",
              "      <td>&lt;p&gt;Last I checked &lt;a href=\"http://www.jfree.or...</td>\n",
              "    </tr>\n",
              "    <tr>\n",
              "      <th>14</th>\n",
              "      <td>180</td>\n",
              "      <td>2089740.0</td>\n",
              "      <td>2008-08-01T18:42:19Z</td>\n",
              "      <td>NaN</td>\n",
              "      <td>53</td>\n",
              "      <td>Function for creating color wheels</td>\n",
              "      <td>&lt;p&gt;This is something I've pseudo-solved many t...</td>\n",
              "      <td>7815745.0</td>\n",
              "      <td>678455.0</td>\n",
              "      <td>2011-10-19T01:58:23Z</td>\n",
              "      <td>1.0</td>\n",
              "      <td>&lt;p&gt;I know this an old post but I found it whil...</td>\n",
              "    </tr>\n",
              "    <tr>\n",
              "      <th>15</th>\n",
              "      <td>180</td>\n",
              "      <td>2089740.0</td>\n",
              "      <td>2008-08-01T18:42:19Z</td>\n",
              "      <td>NaN</td>\n",
              "      <td>53</td>\n",
              "      <td>Function for creating color wheels</td>\n",
              "      <td>&lt;p&gt;This is something I've pseudo-solved many t...</td>\n",
              "      <td>21634390.0</td>\n",
              "      <td>135862.0</td>\n",
              "      <td>2014-02-07T17:43:13Z</td>\n",
              "      <td>0.0</td>\n",
              "      <td>&lt;p&gt;To achieve \"most distinguishable\" we need t...</td>\n",
              "    </tr>\n",
              "    <tr>\n",
              "      <th>16</th>\n",
              "      <td>260</td>\n",
              "      <td>91.0</td>\n",
              "      <td>2008-08-01T23:22:08Z</td>\n",
              "      <td>NaN</td>\n",
              "      <td>49</td>\n",
              "      <td>Adding scripting functionality to .NET applica...</td>\n",
              "      <td>&lt;p&gt;I have a little game written in C#. It uses...</td>\n",
              "      <td>269.0</td>\n",
              "      <td>91.0</td>\n",
              "      <td>2008-08-01T23:49:57Z</td>\n",
              "      <td>4.0</td>\n",
              "      <td>&lt;p&gt;Yes, I thought about that, but I soon figur...</td>\n",
              "    </tr>\n",
              "    <tr>\n",
              "      <th>17</th>\n",
              "      <td>260</td>\n",
              "      <td>91.0</td>\n",
              "      <td>2008-08-01T23:22:08Z</td>\n",
              "      <td>NaN</td>\n",
              "      <td>49</td>\n",
              "      <td>Adding scripting functionality to .NET applica...</td>\n",
              "      <td>&lt;p&gt;I have a little game written in C#. It uses...</td>\n",
              "      <td>307.0</td>\n",
              "      <td>49.0</td>\n",
              "      <td>2008-08-02T01:49:46Z</td>\n",
              "      <td>28.0</td>\n",
              "      <td>&lt;p&gt;&lt;a href=\"http://www.codeproject.com/Article...</td>\n",
              "    </tr>\n",
              "    <tr>\n",
              "      <th>18</th>\n",
              "      <td>260</td>\n",
              "      <td>91.0</td>\n",
              "      <td>2008-08-01T23:22:08Z</td>\n",
              "      <td>NaN</td>\n",
              "      <td>49</td>\n",
              "      <td>Adding scripting functionality to .NET applica...</td>\n",
              "      <td>&lt;p&gt;I have a little game written in C#. It uses...</td>\n",
              "      <td>344.0</td>\n",
              "      <td>100.0</td>\n",
              "      <td>2008-08-02T04:18:15Z</td>\n",
              "      <td>6.0</td>\n",
              "      <td>&lt;p&gt;You might be able to use IronRuby for that....</td>\n",
              "    </tr>\n",
              "    <tr>\n",
              "      <th>19</th>\n",
              "      <td>260</td>\n",
              "      <td>91.0</td>\n",
              "      <td>2008-08-01T23:22:08Z</td>\n",
              "      <td>NaN</td>\n",
              "      <td>49</td>\n",
              "      <td>Adding scripting functionality to .NET applica...</td>\n",
              "      <td>&lt;p&gt;I have a little game written in C#. It uses...</td>\n",
              "      <td>359.0</td>\n",
              "      <td>119.0</td>\n",
              "      <td>2008-08-02T06:16:23Z</td>\n",
              "      <td>5.0</td>\n",
              "      <td>&lt;P&gt;You could use any of the DLR languages, whi...</td>\n",
              "    </tr>\n",
              "  </tbody>\n",
              "</table>\n",
              "</div>"
            ],
            "text/plain": [
              "    QuestionId  ...                                         AnswerBody\n",
              "0           80  ...  <p>I wound up using this. It is a kind of a ha...\n",
              "1           80  ...  <p>The <a href=\"http://en.wikipedia.org/wiki/S...\n",
              "2           80  ...  <p>What about making your delimiter something ...\n",
              "3           90  ...  <p><a href=\"http://svnbook.red-bean.com/\">Vers...\n",
              "4           90  ...  <p>You can also try <em><a href=\"http://www.co...\n",
              "5           90  ...  <p>My easy click-by-click instructions (<stron...\n",
              "6          120  ...  <p>The Jeff Prosise version from MSDN magazine...\n",
              "7          180  ...  <p>I've read somewhere the human eye can't dis...\n",
              "8          180  ...  <p>Isn't it also a factor which order you set ...\n",
              "9          180  ...  <p>My first thought on this is \"how generate N...\n",
              "10         180  ...  <p>It would be best to find colors maximally d...\n",
              "11         180  ...  <p>Some related resources:</p>\\n\\n<p><a href=\"...\n",
              "12         180  ...  <p>Here is some code to allocate RGB colors ev...\n",
              "13         180  ...  <p>Last I checked <a href=\"http://www.jfree.or...\n",
              "14         180  ...  <p>I know this an old post but I found it whil...\n",
              "15         180  ...  <p>To achieve \"most distinguishable\" we need t...\n",
              "16         260  ...  <p>Yes, I thought about that, but I soon figur...\n",
              "17         260  ...  <p><a href=\"http://www.codeproject.com/Article...\n",
              "18         260  ...  <p>You might be able to use IronRuby for that....\n",
              "19         260  ...  <P>You could use any of the DLR languages, whi...\n",
              "\n",
              "[20 rows x 12 columns]"
            ]
          },
          "metadata": {
            "tags": []
          },
          "execution_count": 79
        }
      ]
    },
    {
      "cell_type": "code",
      "metadata": {
        "id": "-IjaZD1dLk7N",
        "colab_type": "code",
        "colab": {
          "base_uri": "https://localhost:8080/",
          "height": 547
        },
        "outputId": "30e9d351-bbd3-4a32-f656-9bdc7a53ff6d"
      },
      "source": [
        "QuestionAnswerwithTag = pd.merge(QuestionAnswer, tagsdsModified, on='QuestionId', how='left')\n",
        "QuestionAnswerwithTag.head()"
      ],
      "execution_count": 80,
      "outputs": [
        {
          "output_type": "execute_result",
          "data": {
            "text/html": [
              "<div>\n",
              "<style scoped>\n",
              "    .dataframe tbody tr th:only-of-type {\n",
              "        vertical-align: middle;\n",
              "    }\n",
              "\n",
              "    .dataframe tbody tr th {\n",
              "        vertical-align: top;\n",
              "    }\n",
              "\n",
              "    .dataframe thead th {\n",
              "        text-align: right;\n",
              "    }\n",
              "</style>\n",
              "<table border=\"1\" class=\"dataframe\">\n",
              "  <thead>\n",
              "    <tr style=\"text-align: right;\">\n",
              "      <th></th>\n",
              "      <th>QuestionId</th>\n",
              "      <th>QuestionOwnerUserId</th>\n",
              "      <th>QuestionCreationDate</th>\n",
              "      <th>ClosedDate</th>\n",
              "      <th>QuestionScore</th>\n",
              "      <th>Title</th>\n",
              "      <th>QuestionBody</th>\n",
              "      <th>AnswerId</th>\n",
              "      <th>AnswerOwnerUserId</th>\n",
              "      <th>AnswerCreationDate</th>\n",
              "      <th>AnswerScore</th>\n",
              "      <th>AnswerBody</th>\n",
              "      <th>Tag</th>\n",
              "    </tr>\n",
              "  </thead>\n",
              "  <tbody>\n",
              "    <tr>\n",
              "      <th>0</th>\n",
              "      <td>80</td>\n",
              "      <td>26.0</td>\n",
              "      <td>2008-08-01T13:57:07Z</td>\n",
              "      <td>NaN</td>\n",
              "      <td>26</td>\n",
              "      <td>SQLStatement.execute() - multiple queries in o...</td>\n",
              "      <td>&lt;p&gt;I've written a database generation script i...</td>\n",
              "      <td>124.0</td>\n",
              "      <td>26.0</td>\n",
              "      <td>2008-08-01T16:09:47Z</td>\n",
              "      <td>12.0</td>\n",
              "      <td>&lt;p&gt;I wound up using this. It is a kind of a ha...</td>\n",
              "      <td>[flex, actionscript-3, air]</td>\n",
              "    </tr>\n",
              "    <tr>\n",
              "      <th>1</th>\n",
              "      <td>80</td>\n",
              "      <td>26.0</td>\n",
              "      <td>2008-08-01T13:57:07Z</td>\n",
              "      <td>NaN</td>\n",
              "      <td>26</td>\n",
              "      <td>SQLStatement.execute() - multiple queries in o...</td>\n",
              "      <td>&lt;p&gt;I've written a database generation script i...</td>\n",
              "      <td>10008.0</td>\n",
              "      <td>1109.0</td>\n",
              "      <td>2008-08-13T16:09:09Z</td>\n",
              "      <td>6.0</td>\n",
              "      <td>&lt;p&gt;The &lt;a href=\"http://en.wikipedia.org/wiki/S...</td>\n",
              "      <td>[flex, actionscript-3, air]</td>\n",
              "    </tr>\n",
              "    <tr>\n",
              "      <th>2</th>\n",
              "      <td>80</td>\n",
              "      <td>26.0</td>\n",
              "      <td>2008-08-01T13:57:07Z</td>\n",
              "      <td>NaN</td>\n",
              "      <td>26</td>\n",
              "      <td>SQLStatement.execute() - multiple queries in o...</td>\n",
              "      <td>&lt;p&gt;I've written a database generation script i...</td>\n",
              "      <td>3770976.0</td>\n",
              "      <td>364174.0</td>\n",
              "      <td>2010-09-22T15:37:30Z</td>\n",
              "      <td>1.0</td>\n",
              "      <td>&lt;p&gt;What about making your delimiter something ...</td>\n",
              "      <td>[flex, actionscript-3, air]</td>\n",
              "    </tr>\n",
              "    <tr>\n",
              "      <th>3</th>\n",
              "      <td>90</td>\n",
              "      <td>58.0</td>\n",
              "      <td>2008-08-01T14:41:24Z</td>\n",
              "      <td>2012-12-26T03:45:49Z</td>\n",
              "      <td>144</td>\n",
              "      <td>Good branching and merging tutorials for Torto...</td>\n",
              "      <td>&lt;p&gt;Are there any really good tutorials explain...</td>\n",
              "      <td>92.0</td>\n",
              "      <td>61.0</td>\n",
              "      <td>2008-08-01T14:45:37Z</td>\n",
              "      <td>13.0</td>\n",
              "      <td>&lt;p&gt;&lt;a href=\"http://svnbook.red-bean.com/\"&gt;Vers...</td>\n",
              "      <td>[svn, tortoisesvn, branch, branching-and-merging]</td>\n",
              "    </tr>\n",
              "    <tr>\n",
              "      <th>4</th>\n",
              "      <td>90</td>\n",
              "      <td>58.0</td>\n",
              "      <td>2008-08-01T14:41:24Z</td>\n",
              "      <td>2012-12-26T03:45:49Z</td>\n",
              "      <td>144</td>\n",
              "      <td>Good branching and merging tutorials for Torto...</td>\n",
              "      <td>&lt;p&gt;Are there any really good tutorials explain...</td>\n",
              "      <td>202317.0</td>\n",
              "      <td>20709.0</td>\n",
              "      <td>2008-10-14T18:41:45Z</td>\n",
              "      <td>2.0</td>\n",
              "      <td>&lt;p&gt;You can also try &lt;em&gt;&lt;a href=\"http://www.co...</td>\n",
              "      <td>[svn, tortoisesvn, branch, branching-and-merging]</td>\n",
              "    </tr>\n",
              "  </tbody>\n",
              "</table>\n",
              "</div>"
            ],
            "text/plain": [
              "   QuestionId  ...                                                Tag\n",
              "0          80  ...                        [flex, actionscript-3, air]\n",
              "1          80  ...                        [flex, actionscript-3, air]\n",
              "2          80  ...                        [flex, actionscript-3, air]\n",
              "3          90  ...  [svn, tortoisesvn, branch, branching-and-merging]\n",
              "4          90  ...  [svn, tortoisesvn, branch, branching-and-merging]\n",
              "\n",
              "[5 rows x 13 columns]"
            ]
          },
          "metadata": {
            "tags": []
          },
          "execution_count": 80
        }
      ]
    },
    {
      "cell_type": "code",
      "metadata": {
        "id": "XHxTU_WpRuOQ",
        "colab_type": "code",
        "colab": {}
      },
      "source": [
        "QuestionAnswerwithTagandUser = pd.merge(QuestionAnswerwithTag, usersds, on='QuestionId', how='left')\n",
        "QuestionAnswerwithTag.head() "
      ],
      "execution_count": 0,
      "outputs": []
    }
  ]
}