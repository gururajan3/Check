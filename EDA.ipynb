{
  "nbformat": 4,
  "nbformat_minor": 0,
  "metadata": {
    "colab": {
      "name": "EDA",
      "provenance": [],
      "collapsed_sections": [],
      "machine_shape": "hm",
      "authorship_tag": "ABX9TyMexFwA8cc6G5euMf4nMK5w",
      "include_colab_link": true
    },
    "kernelspec": {
      "name": "python3",
      "display_name": "Python 3"
    }
  },
  "cells": [
    {
      "cell_type": "markdown",
      "metadata": {
        "id": "view-in-github",
        "colab_type": "text"
      },
      "source": [
        "<a href=\"https://colab.research.google.com/github/gururajan3/Check/blob/master/EDA.ipynb\" target=\"_parent\"><img src=\"https://colab.research.google.com/assets/colab-badge.svg\" alt=\"Open In Colab\"/></a>"
      ]
    },
    {
      "cell_type": "markdown",
      "metadata": {
        "id": "kgARZ1xYnV62",
        "colab_type": "text"
      },
      "source": [
        "## Import Libraries"
      ]
    },
    {
      "cell_type": "code",
      "metadata": {
        "id": "kugQMXdAXT7l",
        "colab_type": "code",
        "colab": {}
      },
      "source": [
        "import pandas as pd\n",
        "import matplotlib.pyplot as plt\n",
        "import seaborn as sns\n",
        "import numpy as np"
      ],
      "execution_count": 0,
      "outputs": []
    },
    {
      "cell_type": "markdown",
      "metadata": {
        "id": "2wUhFk0KnjKP",
        "colab_type": "text"
      },
      "source": [
        "## Load all Dataframes"
      ]
    },
    {
      "cell_type": "code",
      "metadata": {
        "id": "ix875U9pnggk",
        "colab_type": "code",
        "outputId": "e9610713-04ea-4b01-a2ed-36b486c10faa",
        "colab": {
          "base_uri": "https://localhost:8080/",
          "height": 204
        }
      },
      "source": [
        "questionsds = pd.read_csv('https://stack-overflow-casestudy-datasets.s3.amazonaws.com/Questions.csv',encoding='ISO-8859-1')\n",
        "questionsds.head()"
      ],
      "execution_count": 0,
      "outputs": [
        {
          "output_type": "execute_result",
          "data": {
            "text/html": [
              "<div>\n",
              "<style scoped>\n",
              "    .dataframe tbody tr th:only-of-type {\n",
              "        vertical-align: middle;\n",
              "    }\n",
              "\n",
              "    .dataframe tbody tr th {\n",
              "        vertical-align: top;\n",
              "    }\n",
              "\n",
              "    .dataframe thead th {\n",
              "        text-align: right;\n",
              "    }\n",
              "</style>\n",
              "<table border=\"1\" class=\"dataframe\">\n",
              "  <thead>\n",
              "    <tr style=\"text-align: right;\">\n",
              "      <th></th>\n",
              "      <th>Id</th>\n",
              "      <th>OwnerUserId</th>\n",
              "      <th>CreationDate</th>\n",
              "      <th>ClosedDate</th>\n",
              "      <th>Score</th>\n",
              "      <th>Title</th>\n",
              "      <th>Body</th>\n",
              "    </tr>\n",
              "  </thead>\n",
              "  <tbody>\n",
              "    <tr>\n",
              "      <th>0</th>\n",
              "      <td>80</td>\n",
              "      <td>26.0</td>\n",
              "      <td>2008-08-01T13:57:07Z</td>\n",
              "      <td>NaN</td>\n",
              "      <td>26</td>\n",
              "      <td>SQLStatement.execute() - multiple queries in o...</td>\n",
              "      <td>&lt;p&gt;I've written a database generation script i...</td>\n",
              "    </tr>\n",
              "    <tr>\n",
              "      <th>1</th>\n",
              "      <td>90</td>\n",
              "      <td>58.0</td>\n",
              "      <td>2008-08-01T14:41:24Z</td>\n",
              "      <td>2012-12-26T03:45:49Z</td>\n",
              "      <td>144</td>\n",
              "      <td>Good branching and merging tutorials for Torto...</td>\n",
              "      <td>&lt;p&gt;Are there any really good tutorials explain...</td>\n",
              "    </tr>\n",
              "    <tr>\n",
              "      <th>2</th>\n",
              "      <td>120</td>\n",
              "      <td>83.0</td>\n",
              "      <td>2008-08-01T15:50:08Z</td>\n",
              "      <td>NaN</td>\n",
              "      <td>21</td>\n",
              "      <td>ASP.NET Site Maps</td>\n",
              "      <td>&lt;p&gt;Has anyone got experience creating &lt;strong&gt;...</td>\n",
              "    </tr>\n",
              "    <tr>\n",
              "      <th>3</th>\n",
              "      <td>180</td>\n",
              "      <td>2089740.0</td>\n",
              "      <td>2008-08-01T18:42:19Z</td>\n",
              "      <td>NaN</td>\n",
              "      <td>53</td>\n",
              "      <td>Function for creating color wheels</td>\n",
              "      <td>&lt;p&gt;This is something I've pseudo-solved many t...</td>\n",
              "    </tr>\n",
              "    <tr>\n",
              "      <th>4</th>\n",
              "      <td>260</td>\n",
              "      <td>91.0</td>\n",
              "      <td>2008-08-01T23:22:08Z</td>\n",
              "      <td>NaN</td>\n",
              "      <td>49</td>\n",
              "      <td>Adding scripting functionality to .NET applica...</td>\n",
              "      <td>&lt;p&gt;I have a little game written in C#. It uses...</td>\n",
              "    </tr>\n",
              "  </tbody>\n",
              "</table>\n",
              "</div>"
            ],
            "text/plain": [
              "    Id  ...                                               Body\n",
              "0   80  ...  <p>I've written a database generation script i...\n",
              "1   90  ...  <p>Are there any really good tutorials explain...\n",
              "2  120  ...  <p>Has anyone got experience creating <strong>...\n",
              "3  180  ...  <p>This is something I've pseudo-solved many t...\n",
              "4  260  ...  <p>I have a little game written in C#. It uses...\n",
              "\n",
              "[5 rows x 7 columns]"
            ]
          },
          "metadata": {
            "tags": []
          },
          "execution_count": 5
        }
      ]
    },
    {
      "cell_type": "code",
      "metadata": {
        "id": "gY-qC7kGX60D",
        "colab_type": "code",
        "outputId": "c6cf7d88-4765-45b7-ccf6-ea5658e663a6",
        "colab": {
          "base_uri": "https://localhost:8080/",
          "height": 204
        }
      },
      "source": [
        "answerds = pd.read_csv('https://stack-overflow-casestudy-datasets.s3.amazonaws.com/Answers.csv',encoding='ISO-8859-1')\n",
        "answerds.head()  "
      ],
      "execution_count": 0,
      "outputs": [
        {
          "output_type": "execute_result",
          "data": {
            "text/html": [
              "<div>\n",
              "<style scoped>\n",
              "    .dataframe tbody tr th:only-of-type {\n",
              "        vertical-align: middle;\n",
              "    }\n",
              "\n",
              "    .dataframe tbody tr th {\n",
              "        vertical-align: top;\n",
              "    }\n",
              "\n",
              "    .dataframe thead th {\n",
              "        text-align: right;\n",
              "    }\n",
              "</style>\n",
              "<table border=\"1\" class=\"dataframe\">\n",
              "  <thead>\n",
              "    <tr style=\"text-align: right;\">\n",
              "      <th></th>\n",
              "      <th>Id</th>\n",
              "      <th>OwnerUserId</th>\n",
              "      <th>CreationDate</th>\n",
              "      <th>ParentId</th>\n",
              "      <th>Score</th>\n",
              "      <th>Body</th>\n",
              "    </tr>\n",
              "  </thead>\n",
              "  <tbody>\n",
              "    <tr>\n",
              "      <th>0</th>\n",
              "      <td>92</td>\n",
              "      <td>61.0</td>\n",
              "      <td>2008-08-01T14:45:37Z</td>\n",
              "      <td>90</td>\n",
              "      <td>13</td>\n",
              "      <td>&lt;p&gt;&lt;a href=\"http://svnbook.red-bean.com/\"&gt;Vers...</td>\n",
              "    </tr>\n",
              "    <tr>\n",
              "      <th>1</th>\n",
              "      <td>124</td>\n",
              "      <td>26.0</td>\n",
              "      <td>2008-08-01T16:09:47Z</td>\n",
              "      <td>80</td>\n",
              "      <td>12</td>\n",
              "      <td>&lt;p&gt;I wound up using this. It is a kind of a ha...</td>\n",
              "    </tr>\n",
              "    <tr>\n",
              "      <th>2</th>\n",
              "      <td>199</td>\n",
              "      <td>50.0</td>\n",
              "      <td>2008-08-01T19:36:46Z</td>\n",
              "      <td>180</td>\n",
              "      <td>1</td>\n",
              "      <td>&lt;p&gt;I've read somewhere the human eye can't dis...</td>\n",
              "    </tr>\n",
              "    <tr>\n",
              "      <th>3</th>\n",
              "      <td>269</td>\n",
              "      <td>91.0</td>\n",
              "      <td>2008-08-01T23:49:57Z</td>\n",
              "      <td>260</td>\n",
              "      <td>4</td>\n",
              "      <td>&lt;p&gt;Yes, I thought about that, but I soon figur...</td>\n",
              "    </tr>\n",
              "    <tr>\n",
              "      <th>4</th>\n",
              "      <td>307</td>\n",
              "      <td>49.0</td>\n",
              "      <td>2008-08-02T01:49:46Z</td>\n",
              "      <td>260</td>\n",
              "      <td>28</td>\n",
              "      <td>&lt;p&gt;&lt;a href=\"http://www.codeproject.com/Article...</td>\n",
              "    </tr>\n",
              "  </tbody>\n",
              "</table>\n",
              "</div>"
            ],
            "text/plain": [
              "    Id  OwnerUserId  ... Score                                               Body\n",
              "0   92         61.0  ...    13  <p><a href=\"http://svnbook.red-bean.com/\">Vers...\n",
              "1  124         26.0  ...    12  <p>I wound up using this. It is a kind of a ha...\n",
              "2  199         50.0  ...     1  <p>I've read somewhere the human eye can't dis...\n",
              "3  269         91.0  ...     4  <p>Yes, I thought about that, but I soon figur...\n",
              "4  307         49.0  ...    28  <p><a href=\"http://www.codeproject.com/Article...\n",
              "\n",
              "[5 rows x 6 columns]"
            ]
          },
          "metadata": {
            "tags": []
          },
          "execution_count": 6
        }
      ]
    },
    {
      "cell_type": "code",
      "metadata": {
        "id": "EqWUBek_YJl8",
        "colab_type": "code",
        "outputId": "b338ae17-ac7f-400d-916b-9a2de8c3e203",
        "colab": {
          "base_uri": "https://localhost:8080/",
          "height": 204
        }
      },
      "source": [
        "tagsds = pd.read_csv('https://stack-overflow-casestudy-datasets.s3.amazonaws.com/Tags.csv',encoding='ISO-8859-1')\n",
        "tagsds.head()"
      ],
      "execution_count": 0,
      "outputs": [
        {
          "output_type": "execute_result",
          "data": {
            "text/html": [
              "<div>\n",
              "<style scoped>\n",
              "    .dataframe tbody tr th:only-of-type {\n",
              "        vertical-align: middle;\n",
              "    }\n",
              "\n",
              "    .dataframe tbody tr th {\n",
              "        vertical-align: top;\n",
              "    }\n",
              "\n",
              "    .dataframe thead th {\n",
              "        text-align: right;\n",
              "    }\n",
              "</style>\n",
              "<table border=\"1\" class=\"dataframe\">\n",
              "  <thead>\n",
              "    <tr style=\"text-align: right;\">\n",
              "      <th></th>\n",
              "      <th>Id</th>\n",
              "      <th>Tag</th>\n",
              "    </tr>\n",
              "  </thead>\n",
              "  <tbody>\n",
              "    <tr>\n",
              "      <th>0</th>\n",
              "      <td>80</td>\n",
              "      <td>flex</td>\n",
              "    </tr>\n",
              "    <tr>\n",
              "      <th>1</th>\n",
              "      <td>80</td>\n",
              "      <td>actionscript-3</td>\n",
              "    </tr>\n",
              "    <tr>\n",
              "      <th>2</th>\n",
              "      <td>80</td>\n",
              "      <td>air</td>\n",
              "    </tr>\n",
              "    <tr>\n",
              "      <th>3</th>\n",
              "      <td>90</td>\n",
              "      <td>svn</td>\n",
              "    </tr>\n",
              "    <tr>\n",
              "      <th>4</th>\n",
              "      <td>90</td>\n",
              "      <td>tortoisesvn</td>\n",
              "    </tr>\n",
              "  </tbody>\n",
              "</table>\n",
              "</div>"
            ],
            "text/plain": [
              "   Id             Tag\n",
              "0  80            flex\n",
              "1  80  actionscript-3\n",
              "2  80             air\n",
              "3  90             svn\n",
              "4  90     tortoisesvn"
            ]
          },
          "metadata": {
            "tags": []
          },
          "execution_count": 7
        }
      ]
    },
    {
      "cell_type": "code",
      "metadata": {
        "id": "m9UCyaJBaq6b",
        "colab_type": "code",
        "outputId": "399a9b16-b137-48a6-e714-6a75a3a8288f",
        "colab": {
          "base_uri": "https://localhost:8080/",
          "height": 204
        }
      },
      "source": [
        "usersds = pd.read_csv('https://stack-overflow-casestudy-datasets.s3.amazonaws.com/Users.csv',encoding='ISO-8859-1')\n",
        "usersds.head()"
      ],
      "execution_count": 0,
      "outputs": [
        {
          "output_type": "execute_result",
          "data": {
            "text/html": [
              "<div>\n",
              "<style scoped>\n",
              "    .dataframe tbody tr th:only-of-type {\n",
              "        vertical-align: middle;\n",
              "    }\n",
              "\n",
              "    .dataframe tbody tr th {\n",
              "        vertical-align: top;\n",
              "    }\n",
              "\n",
              "    .dataframe thead th {\n",
              "        text-align: right;\n",
              "    }\n",
              "</style>\n",
              "<table border=\"1\" class=\"dataframe\">\n",
              "  <thead>\n",
              "    <tr style=\"text-align: right;\">\n",
              "      <th></th>\n",
              "      <th>Unnamed: 0</th>\n",
              "      <th>id</th>\n",
              "      <th>display_name</th>\n",
              "      <th>creation_date</th>\n",
              "      <th>last_access_date</th>\n",
              "      <th>reputation</th>\n",
              "      <th>up_votes</th>\n",
              "      <th>down_votes</th>\n",
              "      <th>views</th>\n",
              "    </tr>\n",
              "  </thead>\n",
              "  <tbody>\n",
              "    <tr>\n",
              "      <th>0</th>\n",
              "      <td>0</td>\n",
              "      <td>26</td>\n",
              "      <td>Shawn</td>\n",
              "      <td>2008-08-01 12:18:14.52 UTC</td>\n",
              "      <td>2018-04-11 04:40:35.66 UTC</td>\n",
              "      <td>11820</td>\n",
              "      <td>565</td>\n",
              "      <td>67</td>\n",
              "      <td>3547</td>\n",
              "    </tr>\n",
              "    <tr>\n",
              "      <th>1</th>\n",
              "      <td>1</td>\n",
              "      <td>26</td>\n",
              "      <td>Shawn</td>\n",
              "      <td>2008-08-01 12:18:14.52 UTC</td>\n",
              "      <td>2018-04-11 04:40:35.66 UTC</td>\n",
              "      <td>11820</td>\n",
              "      <td>565</td>\n",
              "      <td>67</td>\n",
              "      <td>3547</td>\n",
              "    </tr>\n",
              "    <tr>\n",
              "      <th>2</th>\n",
              "      <td>2</td>\n",
              "      <td>26</td>\n",
              "      <td>Shawn</td>\n",
              "      <td>2008-08-01 12:18:14.52 UTC</td>\n",
              "      <td>2018-04-11 04:40:35.66 UTC</td>\n",
              "      <td>11820</td>\n",
              "      <td>565</td>\n",
              "      <td>67</td>\n",
              "      <td>3547</td>\n",
              "    </tr>\n",
              "    <tr>\n",
              "      <th>3</th>\n",
              "      <td>3</td>\n",
              "      <td>26</td>\n",
              "      <td>Shawn</td>\n",
              "      <td>2008-08-01 12:18:14.52 UTC</td>\n",
              "      <td>2018-04-11 04:40:35.66 UTC</td>\n",
              "      <td>11820</td>\n",
              "      <td>565</td>\n",
              "      <td>67</td>\n",
              "      <td>3547</td>\n",
              "    </tr>\n",
              "    <tr>\n",
              "      <th>4</th>\n",
              "      <td>4</td>\n",
              "      <td>26</td>\n",
              "      <td>Shawn</td>\n",
              "      <td>2008-08-01 12:18:14.52 UTC</td>\n",
              "      <td>2018-04-11 04:40:35.66 UTC</td>\n",
              "      <td>11820</td>\n",
              "      <td>565</td>\n",
              "      <td>67</td>\n",
              "      <td>3547</td>\n",
              "    </tr>\n",
              "  </tbody>\n",
              "</table>\n",
              "</div>"
            ],
            "text/plain": [
              "   Unnamed: 0  id display_name  ... up_votes down_votes  views\n",
              "0           0  26        Shawn  ...      565         67   3547\n",
              "1           1  26        Shawn  ...      565         67   3547\n",
              "2           2  26        Shawn  ...      565         67   3547\n",
              "3           3  26        Shawn  ...      565         67   3547\n",
              "4           4  26        Shawn  ...      565         67   3547\n",
              "\n",
              "[5 rows x 9 columns]"
            ]
          },
          "metadata": {
            "tags": []
          },
          "execution_count": 8
        }
      ]
    },
    {
      "cell_type": "markdown",
      "metadata": {
        "id": "ykptew2UpxUr",
        "colab_type": "text"
      },
      "source": [
        "## Check shape of all Dataframe"
      ]
    },
    {
      "cell_type": "code",
      "metadata": {
        "id": "M7rYjBedbI-7",
        "colab_type": "code",
        "outputId": "587fc208-d8cf-4b84-c6d7-a051730b1f4f",
        "colab": {
          "base_uri": "https://localhost:8080/",
          "height": 34
        }
      },
      "source": [
        "questionsds.shape"
      ],
      "execution_count": 0,
      "outputs": [
        {
          "output_type": "execute_result",
          "data": {
            "text/plain": [
              "(1264216, 7)"
            ]
          },
          "metadata": {
            "tags": []
          },
          "execution_count": 9
        }
      ]
    },
    {
      "cell_type": "code",
      "metadata": {
        "id": "UPARikzPd56z",
        "colab_type": "code",
        "outputId": "3e415fc3-3957-4143-f0f5-f9d709050b41",
        "colab": {
          "base_uri": "https://localhost:8080/",
          "height": 34
        }
      },
      "source": [
        "answerds.shape"
      ],
      "execution_count": 0,
      "outputs": [
        {
          "output_type": "execute_result",
          "data": {
            "text/plain": [
              "(2014516, 6)"
            ]
          },
          "metadata": {
            "tags": []
          },
          "execution_count": 10
        }
      ]
    },
    {
      "cell_type": "code",
      "metadata": {
        "id": "bBXa4Z5GYV_4",
        "colab_type": "code",
        "outputId": "84eeb36c-cef3-4d74-b204-de8732fb0b8f",
        "colab": {
          "base_uri": "https://localhost:8080/",
          "height": 34
        }
      },
      "source": [
        "tagsds.shape"
      ],
      "execution_count": 0,
      "outputs": [
        {
          "output_type": "execute_result",
          "data": {
            "text/plain": [
              "(3750994, 2)"
            ]
          },
          "metadata": {
            "tags": []
          },
          "execution_count": 11
        }
      ]
    },
    {
      "cell_type": "code",
      "metadata": {
        "id": "aOQRB7OafTNj",
        "colab_type": "code",
        "outputId": "f73cb868-71f6-4a5e-afdd-806f1caffbff",
        "colab": {
          "base_uri": "https://localhost:8080/",
          "height": 34
        }
      },
      "source": [
        "usersds.shape"
      ],
      "execution_count": 0,
      "outputs": [
        {
          "output_type": "execute_result",
          "data": {
            "text/plain": [
              "(1990480, 9)"
            ]
          },
          "metadata": {
            "tags": []
          },
          "execution_count": 12
        }
      ]
    },
    {
      "cell_type": "markdown",
      "metadata": {
        "id": "BMeBp_Nap1WS",
        "colab_type": "text"
      },
      "source": [
        "## Check for null Values and calculate the percentage of them"
      ]
    },
    {
      "cell_type": "code",
      "metadata": {
        "id": "2Fk-LH-OUYgQ",
        "colab_type": "code",
        "outputId": "6bdc9343-68ce-4211-eae3-05a09cf5c2ad",
        "colab": {
          "base_uri": "https://localhost:8080/",
          "height": 153
        }
      },
      "source": [
        "questionsds.isnull().sum()"
      ],
      "execution_count": 0,
      "outputs": [
        {
          "output_type": "execute_result",
          "data": {
            "text/plain": [
              "Id                    0\n",
              "OwnerUserId       14454\n",
              "CreationDate          0\n",
              "ClosedDate      1208257\n",
              "Score                 0\n",
              "Title                 0\n",
              "Body                  0\n",
              "dtype: int64"
            ]
          },
          "metadata": {
            "tags": []
          },
          "execution_count": 13
        }
      ]
    },
    {
      "cell_type": "code",
      "metadata": {
        "id": "kLUEmTn9VjpL",
        "colab_type": "code",
        "outputId": "89b6982b-fd6e-4ef7-b902-e471ebab7274",
        "colab": {
          "base_uri": "https://localhost:8080/",
          "height": 136
        }
      },
      "source": [
        "answerds.isnull().sum()"
      ],
      "execution_count": 0,
      "outputs": [
        {
          "output_type": "execute_result",
          "data": {
            "text/plain": [
              "Id                  0\n",
              "OwnerUserId     13200\n",
              "CreationDate        0\n",
              "ParentId            0\n",
              "Score               0\n",
              "Body                0\n",
              "dtype: int64"
            ]
          },
          "metadata": {
            "tags": []
          },
          "execution_count": 14
        }
      ]
    },
    {
      "cell_type": "code",
      "metadata": {
        "id": "cr0Ou4RUY9TM",
        "colab_type": "code",
        "outputId": "0afe1f26-9c0b-4372-d782-90eeabd340f1",
        "colab": {
          "base_uri": "https://localhost:8080/",
          "height": 68
        }
      },
      "source": [
        "tagsds.isnull().sum()"
      ],
      "execution_count": 0,
      "outputs": [
        {
          "output_type": "execute_result",
          "data": {
            "text/plain": [
              "Id        0\n",
              "Tag    1113\n",
              "dtype: int64"
            ]
          },
          "metadata": {
            "tags": []
          },
          "execution_count": 15
        }
      ]
    },
    {
      "cell_type": "code",
      "metadata": {
        "id": "mBlvmwyKfkkK",
        "colab_type": "code",
        "outputId": "818a0b71-05fc-444e-e56e-3cad968459e1",
        "colab": {
          "base_uri": "https://localhost:8080/",
          "height": 187
        }
      },
      "source": [
        "usersds.isnull().sum()"
      ],
      "execution_count": 0,
      "outputs": [
        {
          "output_type": "execute_result",
          "data": {
            "text/plain": [
              "Unnamed: 0            0\n",
              "id                    0\n",
              "display_name        136\n",
              "creation_date         0\n",
              "last_access_date      0\n",
              "reputation            0\n",
              "up_votes              0\n",
              "down_votes            0\n",
              "views                 0\n",
              "dtype: int64"
            ]
          },
          "metadata": {
            "tags": []
          },
          "execution_count": 16
        }
      ]
    },
    {
      "cell_type": "code",
      "metadata": {
        "id": "vrmpGn97V050",
        "colab_type": "code",
        "outputId": "06507cda-fb9a-4581-e83a-ad9189412b24",
        "colab": {
          "base_uri": "https://localhost:8080/",
          "height": 34
        }
      },
      "source": [
        "missingPercForOwner = (questionsds.OwnerUserId.isnull().sum()/len(questionsds.OwnerUserId)) * 100\n",
        "print (missingPercForOwner)"
      ],
      "execution_count": 0,
      "outputs": [
        {
          "output_type": "stream",
          "text": [
            "1.1433172812240946\n"
          ],
          "name": "stdout"
        }
      ]
    },
    {
      "cell_type": "code",
      "metadata": {
        "id": "Q1YZez9EW_Fc",
        "colab_type": "code",
        "outputId": "48ab74fe-df65-42c6-f803-0db0dff89829",
        "colab": {
          "base_uri": "https://localhost:8080/",
          "height": 34
        }
      },
      "source": [
        "missingPercClosedDate = (questionsds.ClosedDate.isnull().sum()/len(questionsds.ClosedDate)) * 100\n",
        "print (missingPercClosedDate)"
      ],
      "execution_count": 0,
      "outputs": [
        {
          "output_type": "stream",
          "text": [
            "95.57362033070298\n"
          ],
          "name": "stdout"
        }
      ]
    },
    {
      "cell_type": "code",
      "metadata": {
        "id": "PrGyyLrEPxAP",
        "colab_type": "code",
        "outputId": "ab2010f1-ecf9-4f3b-d212-f49845ece9b3",
        "colab": {
          "base_uri": "https://localhost:8080/",
          "height": 34
        }
      },
      "source": [
        "missingPercForOwnerInAnswer = (answerds.OwnerUserId.isnull().sum()/len(answerds.OwnerUserId)) * 100\n",
        "print (missingPercForOwnerInAnswer)"
      ],
      "execution_count": 0,
      "outputs": [
        {
          "output_type": "stream",
          "text": [
            "0.6552442373254916\n"
          ],
          "name": "stdout"
        }
      ]
    },
    {
      "cell_type": "code",
      "metadata": {
        "id": "wzXE2LM9P0zF",
        "colab_type": "code",
        "outputId": "42d71a6d-1c57-469c-e8ce-b87116e61933",
        "colab": {
          "base_uri": "https://localhost:8080/",
          "height": 34
        }
      },
      "source": [
        "missingTags = (tagsds.Tag.isnull().sum()/len(tagsds.Tag)) * 100\n",
        "print (missingTags)"
      ],
      "execution_count": 0,
      "outputs": [
        {
          "output_type": "stream",
          "text": [
            "0.029672134906107556\n"
          ],
          "name": "stdout"
        }
      ]
    },
    {
      "cell_type": "markdown",
      "metadata": {
        "id": "zOH91BQMrF4b",
        "colab_type": "text"
      },
      "source": [
        "##Drop unused Columns"
      ]
    },
    {
      "cell_type": "code",
      "metadata": {
        "id": "4QHqUKHZSaz0",
        "colab_type": "code",
        "outputId": "f9c88f72-3337-4813-fc88-29bb9ef2e73a",
        "colab": {
          "base_uri": "https://localhost:8080/",
          "height": 204
        }
      },
      "source": [
        "usersds.drop(usersds.columns[0], axis =1, inplace= True)\n",
        "usersds.head()"
      ],
      "execution_count": 0,
      "outputs": [
        {
          "output_type": "execute_result",
          "data": {
            "text/html": [
              "<div>\n",
              "<style scoped>\n",
              "    .dataframe tbody tr th:only-of-type {\n",
              "        vertical-align: middle;\n",
              "    }\n",
              "\n",
              "    .dataframe tbody tr th {\n",
              "        vertical-align: top;\n",
              "    }\n",
              "\n",
              "    .dataframe thead th {\n",
              "        text-align: right;\n",
              "    }\n",
              "</style>\n",
              "<table border=\"1\" class=\"dataframe\">\n",
              "  <thead>\n",
              "    <tr style=\"text-align: right;\">\n",
              "      <th></th>\n",
              "      <th>id</th>\n",
              "      <th>display_name</th>\n",
              "      <th>creation_date</th>\n",
              "      <th>last_access_date</th>\n",
              "      <th>reputation</th>\n",
              "      <th>up_votes</th>\n",
              "      <th>down_votes</th>\n",
              "      <th>views</th>\n",
              "    </tr>\n",
              "  </thead>\n",
              "  <tbody>\n",
              "    <tr>\n",
              "      <th>0</th>\n",
              "      <td>26</td>\n",
              "      <td>Shawn</td>\n",
              "      <td>2008-08-01 12:18:14.52 UTC</td>\n",
              "      <td>2018-04-11 04:40:35.66 UTC</td>\n",
              "      <td>11820</td>\n",
              "      <td>565</td>\n",
              "      <td>67</td>\n",
              "      <td>3547</td>\n",
              "    </tr>\n",
              "    <tr>\n",
              "      <th>1</th>\n",
              "      <td>26</td>\n",
              "      <td>Shawn</td>\n",
              "      <td>2008-08-01 12:18:14.52 UTC</td>\n",
              "      <td>2018-04-11 04:40:35.66 UTC</td>\n",
              "      <td>11820</td>\n",
              "      <td>565</td>\n",
              "      <td>67</td>\n",
              "      <td>3547</td>\n",
              "    </tr>\n",
              "    <tr>\n",
              "      <th>2</th>\n",
              "      <td>26</td>\n",
              "      <td>Shawn</td>\n",
              "      <td>2008-08-01 12:18:14.52 UTC</td>\n",
              "      <td>2018-04-11 04:40:35.66 UTC</td>\n",
              "      <td>11820</td>\n",
              "      <td>565</td>\n",
              "      <td>67</td>\n",
              "      <td>3547</td>\n",
              "    </tr>\n",
              "    <tr>\n",
              "      <th>3</th>\n",
              "      <td>26</td>\n",
              "      <td>Shawn</td>\n",
              "      <td>2008-08-01 12:18:14.52 UTC</td>\n",
              "      <td>2018-04-11 04:40:35.66 UTC</td>\n",
              "      <td>11820</td>\n",
              "      <td>565</td>\n",
              "      <td>67</td>\n",
              "      <td>3547</td>\n",
              "    </tr>\n",
              "    <tr>\n",
              "      <th>4</th>\n",
              "      <td>26</td>\n",
              "      <td>Shawn</td>\n",
              "      <td>2008-08-01 12:18:14.52 UTC</td>\n",
              "      <td>2018-04-11 04:40:35.66 UTC</td>\n",
              "      <td>11820</td>\n",
              "      <td>565</td>\n",
              "      <td>67</td>\n",
              "      <td>3547</td>\n",
              "    </tr>\n",
              "  </tbody>\n",
              "</table>\n",
              "</div>"
            ],
            "text/plain": [
              "   id display_name               creation_date  ... up_votes  down_votes  views\n",
              "0  26        Shawn  2008-08-01 12:18:14.52 UTC  ...      565          67   3547\n",
              "1  26        Shawn  2008-08-01 12:18:14.52 UTC  ...      565          67   3547\n",
              "2  26        Shawn  2008-08-01 12:18:14.52 UTC  ...      565          67   3547\n",
              "3  26        Shawn  2008-08-01 12:18:14.52 UTC  ...      565          67   3547\n",
              "4  26        Shawn  2008-08-01 12:18:14.52 UTC  ...      565          67   3547\n",
              "\n",
              "[5 rows x 8 columns]"
            ]
          },
          "metadata": {
            "tags": []
          },
          "execution_count": 21
        }
      ]
    },
    {
      "cell_type": "code",
      "metadata": {
        "id": "0Vk3oWW0b-U5",
        "colab_type": "code",
        "outputId": "46ad9090-7c9e-47e0-d921-ca048e364c40",
        "colab": {
          "base_uri": "https://localhost:8080/",
          "height": 204
        }
      },
      "source": [
        "questionsds.drop(['ClosedDate'], axis = 1, inplace = True)\n",
        "questionsds.head()"
      ],
      "execution_count": 0,
      "outputs": [
        {
          "output_type": "execute_result",
          "data": {
            "text/html": [
              "<div>\n",
              "<style scoped>\n",
              "    .dataframe tbody tr th:only-of-type {\n",
              "        vertical-align: middle;\n",
              "    }\n",
              "\n",
              "    .dataframe tbody tr th {\n",
              "        vertical-align: top;\n",
              "    }\n",
              "\n",
              "    .dataframe thead th {\n",
              "        text-align: right;\n",
              "    }\n",
              "</style>\n",
              "<table border=\"1\" class=\"dataframe\">\n",
              "  <thead>\n",
              "    <tr style=\"text-align: right;\">\n",
              "      <th></th>\n",
              "      <th>Id</th>\n",
              "      <th>OwnerUserId</th>\n",
              "      <th>CreationDate</th>\n",
              "      <th>Score</th>\n",
              "      <th>Title</th>\n",
              "      <th>Body</th>\n",
              "    </tr>\n",
              "  </thead>\n",
              "  <tbody>\n",
              "    <tr>\n",
              "      <th>0</th>\n",
              "      <td>80</td>\n",
              "      <td>26.0</td>\n",
              "      <td>2008-08-01T13:57:07Z</td>\n",
              "      <td>26</td>\n",
              "      <td>SQLStatement.execute() - multiple queries in o...</td>\n",
              "      <td>&lt;p&gt;I've written a database generation script i...</td>\n",
              "    </tr>\n",
              "    <tr>\n",
              "      <th>1</th>\n",
              "      <td>90</td>\n",
              "      <td>58.0</td>\n",
              "      <td>2008-08-01T14:41:24Z</td>\n",
              "      <td>144</td>\n",
              "      <td>Good branching and merging tutorials for Torto...</td>\n",
              "      <td>&lt;p&gt;Are there any really good tutorials explain...</td>\n",
              "    </tr>\n",
              "    <tr>\n",
              "      <th>2</th>\n",
              "      <td>120</td>\n",
              "      <td>83.0</td>\n",
              "      <td>2008-08-01T15:50:08Z</td>\n",
              "      <td>21</td>\n",
              "      <td>ASP.NET Site Maps</td>\n",
              "      <td>&lt;p&gt;Has anyone got experience creating &lt;strong&gt;...</td>\n",
              "    </tr>\n",
              "    <tr>\n",
              "      <th>3</th>\n",
              "      <td>180</td>\n",
              "      <td>2089740.0</td>\n",
              "      <td>2008-08-01T18:42:19Z</td>\n",
              "      <td>53</td>\n",
              "      <td>Function for creating color wheels</td>\n",
              "      <td>&lt;p&gt;This is something I've pseudo-solved many t...</td>\n",
              "    </tr>\n",
              "    <tr>\n",
              "      <th>4</th>\n",
              "      <td>260</td>\n",
              "      <td>91.0</td>\n",
              "      <td>2008-08-01T23:22:08Z</td>\n",
              "      <td>49</td>\n",
              "      <td>Adding scripting functionality to .NET applica...</td>\n",
              "      <td>&lt;p&gt;I have a little game written in C#. It uses...</td>\n",
              "    </tr>\n",
              "  </tbody>\n",
              "</table>\n",
              "</div>"
            ],
            "text/plain": [
              "    Id  ...                                               Body\n",
              "0   80  ...  <p>I've written a database generation script i...\n",
              "1   90  ...  <p>Are there any really good tutorials explain...\n",
              "2  120  ...  <p>Has anyone got experience creating <strong>...\n",
              "3  180  ...  <p>This is something I've pseudo-solved many t...\n",
              "4  260  ...  <p>I have a little game written in C#. It uses...\n",
              "\n",
              "[5 rows x 6 columns]"
            ]
          },
          "metadata": {
            "tags": []
          },
          "execution_count": 22
        }
      ]
    },
    {
      "cell_type": "markdown",
      "metadata": {
        "id": "uLonJkUAiNbc",
        "colab_type": "text"
      },
      "source": [
        "##Remove Duplicates in User Data Frame"
      ]
    },
    {
      "cell_type": "code",
      "metadata": {
        "id": "jEXb62T5TJmo",
        "colab_type": "code",
        "outputId": "9765949a-3c21-401c-b129-6f1d90b21c2a",
        "colab": {
          "base_uri": "https://localhost:8080/",
          "height": 34
        }
      },
      "source": [
        "usersds.duplicated().sum()"
      ],
      "execution_count": 0,
      "outputs": [
        {
          "output_type": "execute_result",
          "data": {
            "text/plain": [
              "1525020"
            ]
          },
          "metadata": {
            "tags": []
          },
          "execution_count": 23
        }
      ]
    },
    {
      "cell_type": "code",
      "metadata": {
        "id": "MY-ysdBuTz8D",
        "colab_type": "code",
        "outputId": "e3616359-c623-481f-fe22-641b9c6fcccd",
        "colab": {
          "base_uri": "https://localhost:8080/",
          "height": 34
        }
      },
      "source": [
        "userDuplicatePerc = (usersds.duplicated().sum()/len(usersds)) * 100\n",
        "print (userDuplicatePerc)"
      ],
      "execution_count": 0,
      "outputs": [
        {
          "output_type": "stream",
          "text": [
            "76.61569068767332\n"
          ],
          "name": "stdout"
        }
      ]
    },
    {
      "cell_type": "code",
      "metadata": {
        "id": "3zmxwy-qPPut",
        "colab_type": "code",
        "outputId": "e33ca715-d103-4973-c32a-70dd05343dd3",
        "colab": {
          "base_uri": "https://localhost:8080/",
          "height": 34
        }
      },
      "source": [
        "len(usersds.display_name.unique())"
      ],
      "execution_count": 0,
      "outputs": [
        {
          "output_type": "execute_result",
          "data": {
            "text/plain": [
              "389235"
            ]
          },
          "metadata": {
            "tags": []
          },
          "execution_count": 25
        }
      ]
    },
    {
      "cell_type": "code",
      "metadata": {
        "id": "Zq3pGO4PUEis",
        "colab_type": "code",
        "outputId": "a85a2f47-e10f-4bff-8bbc-4318262f8d62",
        "colab": {
          "base_uri": "https://localhost:8080/",
          "height": 34
        }
      },
      "source": [
        "usersds.drop_duplicates(keep='last',inplace=True)\n",
        "usersds.shape"
      ],
      "execution_count": 0,
      "outputs": [
        {
          "output_type": "execute_result",
          "data": {
            "text/plain": [
              "(465460, 8)"
            ]
          },
          "metadata": {
            "tags": []
          },
          "execution_count": 26
        }
      ]
    },
    {
      "cell_type": "code",
      "metadata": {
        "id": "9xLZ98kMUdUK",
        "colab_type": "code",
        "outputId": "6b57d6c3-9890-4028-94cb-7b9ff8ee7d20",
        "colab": {
          "base_uri": "https://localhost:8080/",
          "height": 34
        }
      },
      "source": [
        "userDuplicatePercCheck = (usersds.duplicated().sum()/len(usersds)) * 100\n",
        "print (userDuplicatePercCheck)"
      ],
      "execution_count": 0,
      "outputs": [
        {
          "output_type": "stream",
          "text": [
            "0.0\n"
          ],
          "name": "stdout"
        }
      ]
    },
    {
      "cell_type": "code",
      "metadata": {
        "id": "_7DEPZ7iRbTW",
        "colab_type": "code",
        "outputId": "dfea09f4-2648-49da-dad7-d11ac2a21b06",
        "colab": {
          "base_uri": "https://localhost:8080/",
          "height": 419
        }
      },
      "source": [
        "usersds[usersds['display_name'].duplicated()]"
      ],
      "execution_count": 0,
      "outputs": [
        {
          "output_type": "execute_result",
          "data": {
            "text/html": [
              "<div>\n",
              "<style scoped>\n",
              "    .dataframe tbody tr th:only-of-type {\n",
              "        vertical-align: middle;\n",
              "    }\n",
              "\n",
              "    .dataframe tbody tr th {\n",
              "        vertical-align: top;\n",
              "    }\n",
              "\n",
              "    .dataframe thead th {\n",
              "        text-align: right;\n",
              "    }\n",
              "</style>\n",
              "<table border=\"1\" class=\"dataframe\">\n",
              "  <thead>\n",
              "    <tr style=\"text-align: right;\">\n",
              "      <th></th>\n",
              "      <th>id</th>\n",
              "      <th>display_name</th>\n",
              "      <th>creation_date</th>\n",
              "      <th>last_access_date</th>\n",
              "      <th>reputation</th>\n",
              "      <th>up_votes</th>\n",
              "      <th>down_votes</th>\n",
              "      <th>views</th>\n",
              "    </tr>\n",
              "  </thead>\n",
              "  <tbody>\n",
              "    <tr>\n",
              "      <th>5683</th>\n",
              "      <td>667</td>\n",
              "      <td>Evan</td>\n",
              "      <td>2008-08-07 16:00:54.003 UTC</td>\n",
              "      <td>2017-08-22 22:27:10.723 UTC</td>\n",
              "      <td>1848</td>\n",
              "      <td>273</td>\n",
              "      <td>9</td>\n",
              "      <td>171</td>\n",
              "    </tr>\n",
              "    <tr>\n",
              "      <th>6693</th>\n",
              "      <td>922</td>\n",
              "      <td>Jamie</td>\n",
              "      <td>2008-08-10 14:01:31.443 UTC</td>\n",
              "      <td>2019-08-30 14:03:07.977 UTC</td>\n",
              "      <td>2570</td>\n",
              "      <td>606</td>\n",
              "      <td>44</td>\n",
              "      <td>596</td>\n",
              "    </tr>\n",
              "    <tr>\n",
              "      <th>6983</th>\n",
              "      <td>238</td>\n",
              "      <td>Pat</td>\n",
              "      <td>2008-08-03 21:42:37.873 UTC</td>\n",
              "      <td>2019-08-30 16:14:50.727 UTC</td>\n",
              "      <td>28985</td>\n",
              "      <td>216</td>\n",
              "      <td>18</td>\n",
              "      <td>768</td>\n",
              "    </tr>\n",
              "    <tr>\n",
              "      <th>7823</th>\n",
              "      <td>230</td>\n",
              "      <td>Dan</td>\n",
              "      <td>2008-08-03 19:32:46.793 UTC</td>\n",
              "      <td>2019-08-31 21:40:13.793 UTC</td>\n",
              "      <td>15937</td>\n",
              "      <td>727</td>\n",
              "      <td>185</td>\n",
              "      <td>1451</td>\n",
              "    </tr>\n",
              "    <tr>\n",
              "      <th>8325</th>\n",
              "      <td>1236</td>\n",
              "      <td>Nick</td>\n",
              "      <td>2008-08-13 15:13:28.177 UTC</td>\n",
              "      <td>2019-07-09 15:48:55.163 UTC</td>\n",
              "      <td>721</td>\n",
              "      <td>18</td>\n",
              "      <td>0</td>\n",
              "      <td>94</td>\n",
              "    </tr>\n",
              "    <tr>\n",
              "      <th>...</th>\n",
              "      <td>...</td>\n",
              "      <td>...</td>\n",
              "      <td>...</td>\n",
              "      <td>...</td>\n",
              "      <td>...</td>\n",
              "      <td>...</td>\n",
              "      <td>...</td>\n",
              "      <td>...</td>\n",
              "    </tr>\n",
              "    <tr>\n",
              "      <th>1990455</th>\n",
              "      <td>7044100</td>\n",
              "      <td>Toad</td>\n",
              "      <td>2016-10-19 18:43:31.84 UTC</td>\n",
              "      <td>2016-10-24 23:28:02.963 UTC</td>\n",
              "      <td>71</td>\n",
              "      <td>6</td>\n",
              "      <td>0</td>\n",
              "      <td>0</td>\n",
              "    </tr>\n",
              "    <tr>\n",
              "      <th>1990458</th>\n",
              "      <td>7040778</td>\n",
              "      <td>Sonali</td>\n",
              "      <td>2016-10-19 07:24:13.413 UTC</td>\n",
              "      <td>2017-08-08 16:52:00.16 UTC</td>\n",
              "      <td>8</td>\n",
              "      <td>0</td>\n",
              "      <td>0</td>\n",
              "      <td>5</td>\n",
              "    </tr>\n",
              "    <tr>\n",
              "      <th>1990463</th>\n",
              "      <td>6098101</td>\n",
              "      <td>Paul Smith</td>\n",
              "      <td>2016-03-22 10:30:51.74 UTC</td>\n",
              "      <td>2017-03-12 23:44:17.16 UTC</td>\n",
              "      <td>45</td>\n",
              "      <td>1</td>\n",
              "      <td>0</td>\n",
              "      <td>6</td>\n",
              "    </tr>\n",
              "    <tr>\n",
              "      <th>1990470</th>\n",
              "      <td>6906486</td>\n",
              "      <td>Sam</td>\n",
              "      <td>2016-09-30 19:55:23.373 UTC</td>\n",
              "      <td>2019-02-07 21:58:27.707 UTC</td>\n",
              "      <td>10</td>\n",
              "      <td>0</td>\n",
              "      <td>0</td>\n",
              "      <td>0</td>\n",
              "    </tr>\n",
              "    <tr>\n",
              "      <th>1990476</th>\n",
              "      <td>6820506</td>\n",
              "      <td>Manuela</td>\n",
              "      <td>2016-09-12 00:19:17.83 UTC</td>\n",
              "      <td>2018-07-20 01:28:24.853 UTC</td>\n",
              "      <td>21</td>\n",
              "      <td>38</td>\n",
              "      <td>0</td>\n",
              "      <td>50</td>\n",
              "    </tr>\n",
              "  </tbody>\n",
              "</table>\n",
              "<p>76225 rows × 8 columns</p>\n",
              "</div>"
            ],
            "text/plain": [
              "              id display_name  ... down_votes views\n",
              "5683         667         Evan  ...          9   171\n",
              "6693         922        Jamie  ...         44   596\n",
              "6983         238          Pat  ...         18   768\n",
              "7823         230          Dan  ...        185  1451\n",
              "8325        1236         Nick  ...          0    94\n",
              "...          ...          ...  ...        ...   ...\n",
              "1990455  7044100         Toad  ...          0     0\n",
              "1990458  7040778       Sonali  ...          0     5\n",
              "1990463  6098101   Paul Smith  ...          0     6\n",
              "1990470  6906486          Sam  ...          0     0\n",
              "1990476  6820506      Manuela  ...          0    50\n",
              "\n",
              "[76225 rows x 8 columns]"
            ]
          },
          "metadata": {
            "tags": []
          },
          "execution_count": 28
        }
      ]
    },
    {
      "cell_type": "code",
      "metadata": {
        "id": "U5YJ9gnsc3ve",
        "colab_type": "code",
        "outputId": "69660f5d-615d-41d2-cff9-9139c258373d",
        "colab": {
          "base_uri": "https://localhost:8080/",
          "height": 1000
        }
      },
      "source": [
        "usersds_check = usersds[usersds.display_name == 'Evan']\n",
        "usersds_check"
      ],
      "execution_count": 0,
      "outputs": [
        {
          "output_type": "execute_result",
          "data": {
            "text/html": [
              "<div>\n",
              "<style scoped>\n",
              "    .dataframe tbody tr th:only-of-type {\n",
              "        vertical-align: middle;\n",
              "    }\n",
              "\n",
              "    .dataframe tbody tr th {\n",
              "        vertical-align: top;\n",
              "    }\n",
              "\n",
              "    .dataframe thead th {\n",
              "        text-align: right;\n",
              "    }\n",
              "</style>\n",
              "<table border=\"1\" class=\"dataframe\">\n",
              "  <thead>\n",
              "    <tr style=\"text-align: right;\">\n",
              "      <th></th>\n",
              "      <th>id</th>\n",
              "      <th>display_name</th>\n",
              "      <th>creation_date</th>\n",
              "      <th>last_access_date</th>\n",
              "      <th>reputation</th>\n",
              "      <th>up_votes</th>\n",
              "      <th>down_votes</th>\n",
              "      <th>views</th>\n",
              "    </tr>\n",
              "  </thead>\n",
              "  <tbody>\n",
              "    <tr>\n",
              "      <th>5341</th>\n",
              "      <td>6277</td>\n",
              "      <td>Evan</td>\n",
              "      <td>2008-09-13 14:11:42.26 UTC</td>\n",
              "      <td>2019-08-30 04:45:57.343 UTC</td>\n",
              "      <td>14506</td>\n",
              "      <td>538</td>\n",
              "      <td>10</td>\n",
              "      <td>5651</td>\n",
              "    </tr>\n",
              "    <tr>\n",
              "      <th>5683</th>\n",
              "      <td>667</td>\n",
              "      <td>Evan</td>\n",
              "      <td>2008-08-07 16:00:54.003 UTC</td>\n",
              "      <td>2017-08-22 22:27:10.723 UTC</td>\n",
              "      <td>1848</td>\n",
              "      <td>273</td>\n",
              "      <td>9</td>\n",
              "      <td>171</td>\n",
              "    </tr>\n",
              "    <tr>\n",
              "      <th>138235</th>\n",
              "      <td>4343254</td>\n",
              "      <td>Evan</td>\n",
              "      <td>2014-12-09 21:27:26.51 UTC</td>\n",
              "      <td>2019-08-30 22:20:44.793 UTC</td>\n",
              "      <td>240</td>\n",
              "      <td>111</td>\n",
              "      <td>0</td>\n",
              "      <td>12</td>\n",
              "    </tr>\n",
              "    <tr>\n",
              "      <th>177374</th>\n",
              "      <td>37422</td>\n",
              "      <td>Evan</td>\n",
              "      <td>2008-11-13 18:28:04.783 UTC</td>\n",
              "      <td>2019-08-30 12:38:44.47 UTC</td>\n",
              "      <td>2475</td>\n",
              "      <td>230</td>\n",
              "      <td>2</td>\n",
              "      <td>134</td>\n",
              "    </tr>\n",
              "    <tr>\n",
              "      <th>248931</th>\n",
              "      <td>64237</td>\n",
              "      <td>Evan</td>\n",
              "      <td>2009-02-09 16:35:17.17 UTC</td>\n",
              "      <td>2010-03-25 22:56:01.183 UTC</td>\n",
              "      <td>290</td>\n",
              "      <td>4</td>\n",
              "      <td>0</td>\n",
              "      <td>45</td>\n",
              "    </tr>\n",
              "    <tr>\n",
              "      <th>317681</th>\n",
              "      <td>67035</td>\n",
              "      <td>Evan</td>\n",
              "      <td>2009-02-16 17:47:17.45 UTC</td>\n",
              "      <td>2019-08-29 17:24:36.263 UTC</td>\n",
              "      <td>357</td>\n",
              "      <td>97</td>\n",
              "      <td>4</td>\n",
              "      <td>93</td>\n",
              "    </tr>\n",
              "    <tr>\n",
              "      <th>427643</th>\n",
              "      <td>292604</td>\n",
              "      <td>Evan</td>\n",
              "      <td>2010-03-12 19:21:15.123 UTC</td>\n",
              "      <td>2019-05-24 16:53:43.43 UTC</td>\n",
              "      <td>51</td>\n",
              "      <td>76</td>\n",
              "      <td>0</td>\n",
              "      <td>22</td>\n",
              "    </tr>\n",
              "    <tr>\n",
              "      <th>466932</th>\n",
              "      <td>204455</td>\n",
              "      <td>Evan</td>\n",
              "      <td>2009-11-06 03:57:43.033 UTC</td>\n",
              "      <td>2016-07-07 13:36:17.22 UTC</td>\n",
              "      <td>256</td>\n",
              "      <td>33</td>\n",
              "      <td>0</td>\n",
              "      <td>13</td>\n",
              "    </tr>\n",
              "    <tr>\n",
              "      <th>501777</th>\n",
              "      <td>63804</td>\n",
              "      <td>Evan</td>\n",
              "      <td>2009-02-08 04:09:28.027 UTC</td>\n",
              "      <td>2017-07-31 01:28:07.51 UTC</td>\n",
              "      <td>5126</td>\n",
              "      <td>268</td>\n",
              "      <td>6</td>\n",
              "      <td>1746</td>\n",
              "    </tr>\n",
              "    <tr>\n",
              "      <th>501843</th>\n",
              "      <td>482938</td>\n",
              "      <td>Evan</td>\n",
              "      <td>2010-10-21 11:44:17.093 UTC</td>\n",
              "      <td>2011-05-26 06:32:16.163 UTC</td>\n",
              "      <td>276</td>\n",
              "      <td>0</td>\n",
              "      <td>0</td>\n",
              "      <td>12</td>\n",
              "    </tr>\n",
              "    <tr>\n",
              "      <th>555438</th>\n",
              "      <td>107106</td>\n",
              "      <td>Evan</td>\n",
              "      <td>2009-05-14 14:24:29.057 UTC</td>\n",
              "      <td>2019-08-31 15:26:04.387 UTC</td>\n",
              "      <td>1222</td>\n",
              "      <td>732</td>\n",
              "      <td>3</td>\n",
              "      <td>107</td>\n",
              "    </tr>\n",
              "    <tr>\n",
              "      <th>565041</th>\n",
              "      <td>307515</td>\n",
              "      <td>Evan</td>\n",
              "      <td>2010-04-02 07:26:17.62 UTC</td>\n",
              "      <td>2010-04-02 07:26:17.62 UTC</td>\n",
              "      <td>1</td>\n",
              "      <td>0</td>\n",
              "      <td>0</td>\n",
              "      <td>0</td>\n",
              "    </tr>\n",
              "    <tr>\n",
              "      <th>574869</th>\n",
              "      <td>164643</td>\n",
              "      <td>Evan</td>\n",
              "      <td>2009-08-28 04:40:13.06 UTC</td>\n",
              "      <td>2019-08-25 21:53:14.96 UTC</td>\n",
              "      <td>1033</td>\n",
              "      <td>36</td>\n",
              "      <td>4</td>\n",
              "      <td>51</td>\n",
              "    </tr>\n",
              "    <tr>\n",
              "      <th>628135</th>\n",
              "      <td>350406</td>\n",
              "      <td>Evan</td>\n",
              "      <td>2010-05-25 22:50:16.847 UTC</td>\n",
              "      <td>2019-06-07 00:28:45.25 UTC</td>\n",
              "      <td>2347</td>\n",
              "      <td>203</td>\n",
              "      <td>14</td>\n",
              "      <td>305</td>\n",
              "    </tr>\n",
              "    <tr>\n",
              "      <th>677294</th>\n",
              "      <td>229273</td>\n",
              "      <td>Evan</td>\n",
              "      <td>2009-12-11 00:59:48.457 UTC</td>\n",
              "      <td>2019-08-28 22:01:24.403 UTC</td>\n",
              "      <td>1868</td>\n",
              "      <td>151</td>\n",
              "      <td>0</td>\n",
              "      <td>219</td>\n",
              "    </tr>\n",
              "    <tr>\n",
              "      <th>737769</th>\n",
              "      <td>780306</td>\n",
              "      <td>Evan</td>\n",
              "      <td>2011-06-01 23:19:00.017 UTC</td>\n",
              "      <td>2013-01-17 22:17:06.81 UTC</td>\n",
              "      <td>91</td>\n",
              "      <td>0</td>\n",
              "      <td>0</td>\n",
              "      <td>10</td>\n",
              "    </tr>\n",
              "    <tr>\n",
              "      <th>752685</th>\n",
              "      <td>864551</td>\n",
              "      <td>Evan</td>\n",
              "      <td>2011-07-27 02:23:18.687 UTC</td>\n",
              "      <td>2013-08-17 02:41:07.333 UTC</td>\n",
              "      <td>11</td>\n",
              "      <td>0</td>\n",
              "      <td>0</td>\n",
              "      <td>3</td>\n",
              "    </tr>\n",
              "    <tr>\n",
              "      <th>878093</th>\n",
              "      <td>641922</td>\n",
              "      <td>Evan</td>\n",
              "      <td>2011-03-02 20:45:31.24 UTC</td>\n",
              "      <td>2019-08-30 19:43:54.41 UTC</td>\n",
              "      <td>396</td>\n",
              "      <td>340</td>\n",
              "      <td>4</td>\n",
              "      <td>167</td>\n",
              "    </tr>\n",
              "    <tr>\n",
              "      <th>907172</th>\n",
              "      <td>777125</td>\n",
              "      <td>Evan</td>\n",
              "      <td>2011-05-31 05:35:47.493 UTC</td>\n",
              "      <td>2011-07-04 20:38:39.087 UTC</td>\n",
              "      <td>1</td>\n",
              "      <td>0</td>\n",
              "      <td>0</td>\n",
              "      <td>1</td>\n",
              "    </tr>\n",
              "    <tr>\n",
              "      <th>915174</th>\n",
              "      <td>736987</td>\n",
              "      <td>Evan</td>\n",
              "      <td>2011-05-03 21:59:24.963 UTC</td>\n",
              "      <td>2019-08-30 20:27:35.853 UTC</td>\n",
              "      <td>896</td>\n",
              "      <td>261</td>\n",
              "      <td>2</td>\n",
              "      <td>83</td>\n",
              "    </tr>\n",
              "    <tr>\n",
              "      <th>925376</th>\n",
              "      <td>708942</td>\n",
              "      <td>Evan</td>\n",
              "      <td>2011-04-15 00:02:54.23 UTC</td>\n",
              "      <td>2014-08-01 17:22:18.303 UTC</td>\n",
              "      <td>112</td>\n",
              "      <td>16</td>\n",
              "      <td>0</td>\n",
              "      <td>36</td>\n",
              "    </tr>\n",
              "    <tr>\n",
              "      <th>945303</th>\n",
              "      <td>793472</td>\n",
              "      <td>Evan</td>\n",
              "      <td>2011-06-10 22:36:37.05 UTC</td>\n",
              "      <td>2019-06-09 20:59:21.543 UTC</td>\n",
              "      <td>5741</td>\n",
              "      <td>52</td>\n",
              "      <td>0</td>\n",
              "      <td>151</td>\n",
              "    </tr>\n",
              "    <tr>\n",
              "      <th>959969</th>\n",
              "      <td>691986</td>\n",
              "      <td>Evan</td>\n",
              "      <td>2011-04-04 23:30:43.42 UTC</td>\n",
              "      <td>2019-04-16 17:57:39.787 UTC</td>\n",
              "      <td>1282</td>\n",
              "      <td>52</td>\n",
              "      <td>2</td>\n",
              "      <td>86</td>\n",
              "    </tr>\n",
              "    <tr>\n",
              "      <th>968242</th>\n",
              "      <td>839359</td>\n",
              "      <td>Evan</td>\n",
              "      <td>2011-07-11 17:34:03.577 UTC</td>\n",
              "      <td>2019-08-06 16:14:34.027 UTC</td>\n",
              "      <td>4236</td>\n",
              "      <td>277</td>\n",
              "      <td>11</td>\n",
              "      <td>642</td>\n",
              "    </tr>\n",
              "    <tr>\n",
              "      <th>1000547</th>\n",
              "      <td>857054</td>\n",
              "      <td>Evan</td>\n",
              "      <td>2011-07-22 00:25:50.63 UTC</td>\n",
              "      <td>2019-08-30 20:33:31.307 UTC</td>\n",
              "      <td>186</td>\n",
              "      <td>119</td>\n",
              "      <td>1</td>\n",
              "      <td>12</td>\n",
              "    </tr>\n",
              "    <tr>\n",
              "      <th>1037527</th>\n",
              "      <td>579173</td>\n",
              "      <td>Evan</td>\n",
              "      <td>2011-01-17 22:40:06.43 UTC</td>\n",
              "      <td>2016-11-04 23:13:19.69 UTC</td>\n",
              "      <td>11</td>\n",
              "      <td>0</td>\n",
              "      <td>0</td>\n",
              "      <td>2</td>\n",
              "    </tr>\n",
              "    <tr>\n",
              "      <th>1048500</th>\n",
              "      <td>740747</td>\n",
              "      <td>Evan</td>\n",
              "      <td>2011-05-05 21:16:57.483 UTC</td>\n",
              "      <td>2019-08-23 17:42:06.287 UTC</td>\n",
              "      <td>718</td>\n",
              "      <td>69</td>\n",
              "      <td>1</td>\n",
              "      <td>157</td>\n",
              "    </tr>\n",
              "    <tr>\n",
              "      <th>1101144</th>\n",
              "      <td>2332804</td>\n",
              "      <td>Evan</td>\n",
              "      <td>2013-04-29 15:56:58.96 UTC</td>\n",
              "      <td>2019-08-29 16:52:10.177 UTC</td>\n",
              "      <td>1117</td>\n",
              "      <td>21</td>\n",
              "      <td>4</td>\n",
              "      <td>75</td>\n",
              "    </tr>\n",
              "    <tr>\n",
              "      <th>1200740</th>\n",
              "      <td>5622252</td>\n",
              "      <td>Evan</td>\n",
              "      <td>2015-11-30 17:10:20.243 UTC</td>\n",
              "      <td>2018-07-25 16:31:03.99 UTC</td>\n",
              "      <td>26</td>\n",
              "      <td>97</td>\n",
              "      <td>0</td>\n",
              "      <td>27</td>\n",
              "    </tr>\n",
              "    <tr>\n",
              "      <th>1250608</th>\n",
              "      <td>650358</td>\n",
              "      <td>Evan</td>\n",
              "      <td>2011-03-08 18:56:34.603 UTC</td>\n",
              "      <td>2019-08-30 21:07:49.963 UTC</td>\n",
              "      <td>407</td>\n",
              "      <td>180</td>\n",
              "      <td>5</td>\n",
              "      <td>44</td>\n",
              "    </tr>\n",
              "    <tr>\n",
              "      <th>1285001</th>\n",
              "      <td>175858</td>\n",
              "      <td>Evan</td>\n",
              "      <td>2009-09-19 05:37:49.807 UTC</td>\n",
              "      <td>2014-01-03 05:27:18.067 UTC</td>\n",
              "      <td>680</td>\n",
              "      <td>25</td>\n",
              "      <td>3</td>\n",
              "      <td>50</td>\n",
              "    </tr>\n",
              "    <tr>\n",
              "      <th>1328881</th>\n",
              "      <td>1907191</td>\n",
              "      <td>Evan</td>\n",
              "      <td>2012-12-16 02:02:28.563 UTC</td>\n",
              "      <td>2017-06-17 05:41:22.18 UTC</td>\n",
              "      <td>128</td>\n",
              "      <td>9</td>\n",
              "      <td>1</td>\n",
              "      <td>12</td>\n",
              "    </tr>\n",
              "    <tr>\n",
              "      <th>1361523</th>\n",
              "      <td>1832367</td>\n",
              "      <td>Evan</td>\n",
              "      <td>2012-11-17 18:39:39.81 UTC</td>\n",
              "      <td>2014-03-11 00:55:51.297 UTC</td>\n",
              "      <td>92</td>\n",
              "      <td>8</td>\n",
              "      <td>0</td>\n",
              "      <td>53</td>\n",
              "    </tr>\n",
              "    <tr>\n",
              "      <th>1379994</th>\n",
              "      <td>2117656</td>\n",
              "      <td>Evan</td>\n",
              "      <td>2013-02-28 00:07:50.613 UTC</td>\n",
              "      <td>2016-10-01 23:03:28.943 UTC</td>\n",
              "      <td>1</td>\n",
              "      <td>0</td>\n",
              "      <td>0</td>\n",
              "      <td>1</td>\n",
              "    </tr>\n",
              "    <tr>\n",
              "      <th>1520173</th>\n",
              "      <td>2786463</td>\n",
              "      <td>Evan</td>\n",
              "      <td>2013-09-17 06:57:56.6 UTC</td>\n",
              "      <td>2019-01-18 23:08:36.807 UTC</td>\n",
              "      <td>113</td>\n",
              "      <td>5</td>\n",
              "      <td>0</td>\n",
              "      <td>12</td>\n",
              "    </tr>\n",
              "    <tr>\n",
              "      <th>1536423</th>\n",
              "      <td>2280630</td>\n",
              "      <td>Evan</td>\n",
              "      <td>2013-04-14 21:57:39.887 UTC</td>\n",
              "      <td>2019-08-30 21:51:32.143 UTC</td>\n",
              "      <td>795</td>\n",
              "      <td>91</td>\n",
              "      <td>15</td>\n",
              "      <td>76</td>\n",
              "    </tr>\n",
              "    <tr>\n",
              "      <th>1551749</th>\n",
              "      <td>3018065</td>\n",
              "      <td>Evan</td>\n",
              "      <td>2013-11-21 14:50:58.737 UTC</td>\n",
              "      <td>2018-10-24 08:43:49.253 UTC</td>\n",
              "      <td>6</td>\n",
              "      <td>0</td>\n",
              "      <td>0</td>\n",
              "      <td>16</td>\n",
              "    </tr>\n",
              "    <tr>\n",
              "      <th>1551768</th>\n",
              "      <td>591145</td>\n",
              "      <td>Evan</td>\n",
              "      <td>2011-01-26 19:02:58.51 UTC</td>\n",
              "      <td>2017-12-29 22:01:52.18 UTC</td>\n",
              "      <td>1</td>\n",
              "      <td>0</td>\n",
              "      <td>0</td>\n",
              "      <td>2</td>\n",
              "    </tr>\n",
              "    <tr>\n",
              "      <th>1563988</th>\n",
              "      <td>2892454</td>\n",
              "      <td>Evan</td>\n",
              "      <td>2013-10-17 22:24:28.303 UTC</td>\n",
              "      <td>2019-08-13 00:12:57.67 UTC</td>\n",
              "      <td>750</td>\n",
              "      <td>37</td>\n",
              "      <td>13</td>\n",
              "      <td>29</td>\n",
              "    </tr>\n",
              "    <tr>\n",
              "      <th>1610140</th>\n",
              "      <td>2803602</td>\n",
              "      <td>Evan</td>\n",
              "      <td>2013-09-22 06:11:58.433 UTC</td>\n",
              "      <td>2019-08-26 17:48:12.873 UTC</td>\n",
              "      <td>1487</td>\n",
              "      <td>12</td>\n",
              "      <td>1</td>\n",
              "      <td>60</td>\n",
              "    </tr>\n",
              "    <tr>\n",
              "      <th>1612223</th>\n",
              "      <td>3738599</td>\n",
              "      <td>Evan</td>\n",
              "      <td>2014-06-13 17:37:55.387 UTC</td>\n",
              "      <td>2014-08-21 17:41:52.25 UTC</td>\n",
              "      <td>11</td>\n",
              "      <td>0</td>\n",
              "      <td>0</td>\n",
              "      <td>1</td>\n",
              "    </tr>\n",
              "    <tr>\n",
              "      <th>1629257</th>\n",
              "      <td>3179857</td>\n",
              "      <td>Evan</td>\n",
              "      <td>2014-01-10 00:14:13.933 UTC</td>\n",
              "      <td>2019-08-29 17:01:50.06 UTC</td>\n",
              "      <td>5049</td>\n",
              "      <td>16</td>\n",
              "      <td>2</td>\n",
              "      <td>373</td>\n",
              "    </tr>\n",
              "    <tr>\n",
              "      <th>1640563</th>\n",
              "      <td>1447008</td>\n",
              "      <td>Evan</td>\n",
              "      <td>2012-06-10 05:53:18.12 UTC</td>\n",
              "      <td>2019-08-30 04:45:52.057 UTC</td>\n",
              "      <td>460</td>\n",
              "      <td>16</td>\n",
              "      <td>1</td>\n",
              "      <td>47</td>\n",
              "    </tr>\n",
              "    <tr>\n",
              "      <th>1646859</th>\n",
              "      <td>3523411</td>\n",
              "      <td>Evan</td>\n",
              "      <td>2014-04-11 11:09:01.163 UTC</td>\n",
              "      <td>2018-04-03 09:12:16.997 UTC</td>\n",
              "      <td>123</td>\n",
              "      <td>9</td>\n",
              "      <td>0</td>\n",
              "      <td>6</td>\n",
              "    </tr>\n",
              "    <tr>\n",
              "      <th>1660028</th>\n",
              "      <td>6907534</td>\n",
              "      <td>Evan</td>\n",
              "      <td>2016-10-01 05:25:33.37 UTC</td>\n",
              "      <td>2019-08-30 03:57:50.767 UTC</td>\n",
              "      <td>188</td>\n",
              "      <td>13</td>\n",
              "      <td>5</td>\n",
              "      <td>20</td>\n",
              "    </tr>\n",
              "    <tr>\n",
              "      <th>1672931</th>\n",
              "      <td>3762138</td>\n",
              "      <td>Evan</td>\n",
              "      <td>2014-06-21 04:34:10.807 UTC</td>\n",
              "      <td>2014-10-02 12:23:06.9 UTC</td>\n",
              "      <td>462</td>\n",
              "      <td>5</td>\n",
              "      <td>0</td>\n",
              "      <td>26</td>\n",
              "    </tr>\n",
              "    <tr>\n",
              "      <th>1691749</th>\n",
              "      <td>3893470</td>\n",
              "      <td>Evan</td>\n",
              "      <td>2014-07-30 22:22:54.773 UTC</td>\n",
              "      <td>2015-07-04 04:52:16.947 UTC</td>\n",
              "      <td>252</td>\n",
              "      <td>12</td>\n",
              "      <td>0</td>\n",
              "      <td>28</td>\n",
              "    </tr>\n",
              "    <tr>\n",
              "      <th>1715639</th>\n",
              "      <td>499280</td>\n",
              "      <td>Evan</td>\n",
              "      <td>2010-11-06 15:20:05.877 UTC</td>\n",
              "      <td>2019-05-27 07:59:26.237 UTC</td>\n",
              "      <td>799</td>\n",
              "      <td>82</td>\n",
              "      <td>1</td>\n",
              "      <td>207</td>\n",
              "    </tr>\n",
              "    <tr>\n",
              "      <th>1835866</th>\n",
              "      <td>2497001</td>\n",
              "      <td>Evan</td>\n",
              "      <td>2013-06-18 11:43:45.327 UTC</td>\n",
              "      <td>2019-06-28 15:36:40.77 UTC</td>\n",
              "      <td>422</td>\n",
              "      <td>24</td>\n",
              "      <td>1</td>\n",
              "      <td>75</td>\n",
              "    </tr>\n",
              "    <tr>\n",
              "      <th>1844224</th>\n",
              "      <td>4109034</td>\n",
              "      <td>Evan</td>\n",
              "      <td>2014-10-04 17:56:23.647 UTC</td>\n",
              "      <td>2016-03-09 13:55:58.04 UTC</td>\n",
              "      <td>156</td>\n",
              "      <td>0</td>\n",
              "      <td>0</td>\n",
              "      <td>7</td>\n",
              "    </tr>\n",
              "    <tr>\n",
              "      <th>1865761</th>\n",
              "      <td>5377552</td>\n",
              "      <td>Evan</td>\n",
              "      <td>2015-09-25 19:27:15.847 UTC</td>\n",
              "      <td>2018-11-14 20:07:58.09 UTC</td>\n",
              "      <td>1</td>\n",
              "      <td>0</td>\n",
              "      <td>0</td>\n",
              "      <td>1</td>\n",
              "    </tr>\n",
              "    <tr>\n",
              "      <th>1898856</th>\n",
              "      <td>4212270</td>\n",
              "      <td>Evan</td>\n",
              "      <td>2014-11-03 23:20:14.783 UTC</td>\n",
              "      <td>2016-05-18 04:19:03.873 UTC</td>\n",
              "      <td>441</td>\n",
              "      <td>32</td>\n",
              "      <td>35</td>\n",
              "      <td>53</td>\n",
              "    </tr>\n",
              "    <tr>\n",
              "      <th>1942843</th>\n",
              "      <td>3965841</td>\n",
              "      <td>Evan</td>\n",
              "      <td>2014-08-21 20:52:27.88 UTC</td>\n",
              "      <td>2016-07-13 05:42:14.963 UTC</td>\n",
              "      <td>182</td>\n",
              "      <td>1</td>\n",
              "      <td>0</td>\n",
              "      <td>14</td>\n",
              "    </tr>\n",
              "  </tbody>\n",
              "</table>\n",
              "</div>"
            ],
            "text/plain": [
              "              id display_name  ... down_votes views\n",
              "5341        6277         Evan  ...         10  5651\n",
              "5683         667         Evan  ...          9   171\n",
              "138235   4343254         Evan  ...          0    12\n",
              "177374     37422         Evan  ...          2   134\n",
              "248931     64237         Evan  ...          0    45\n",
              "317681     67035         Evan  ...          4    93\n",
              "427643    292604         Evan  ...          0    22\n",
              "466932    204455         Evan  ...          0    13\n",
              "501777     63804         Evan  ...          6  1746\n",
              "501843    482938         Evan  ...          0    12\n",
              "555438    107106         Evan  ...          3   107\n",
              "565041    307515         Evan  ...          0     0\n",
              "574869    164643         Evan  ...          4    51\n",
              "628135    350406         Evan  ...         14   305\n",
              "677294    229273         Evan  ...          0   219\n",
              "737769    780306         Evan  ...          0    10\n",
              "752685    864551         Evan  ...          0     3\n",
              "878093    641922         Evan  ...          4   167\n",
              "907172    777125         Evan  ...          0     1\n",
              "915174    736987         Evan  ...          2    83\n",
              "925376    708942         Evan  ...          0    36\n",
              "945303    793472         Evan  ...          0   151\n",
              "959969    691986         Evan  ...          2    86\n",
              "968242    839359         Evan  ...         11   642\n",
              "1000547   857054         Evan  ...          1    12\n",
              "1037527   579173         Evan  ...          0     2\n",
              "1048500   740747         Evan  ...          1   157\n",
              "1101144  2332804         Evan  ...          4    75\n",
              "1200740  5622252         Evan  ...          0    27\n",
              "1250608   650358         Evan  ...          5    44\n",
              "1285001   175858         Evan  ...          3    50\n",
              "1328881  1907191         Evan  ...          1    12\n",
              "1361523  1832367         Evan  ...          0    53\n",
              "1379994  2117656         Evan  ...          0     1\n",
              "1520173  2786463         Evan  ...          0    12\n",
              "1536423  2280630         Evan  ...         15    76\n",
              "1551749  3018065         Evan  ...          0    16\n",
              "1551768   591145         Evan  ...          0     2\n",
              "1563988  2892454         Evan  ...         13    29\n",
              "1610140  2803602         Evan  ...          1    60\n",
              "1612223  3738599         Evan  ...          0     1\n",
              "1629257  3179857         Evan  ...          2   373\n",
              "1640563  1447008         Evan  ...          1    47\n",
              "1646859  3523411         Evan  ...          0     6\n",
              "1660028  6907534         Evan  ...          5    20\n",
              "1672931  3762138         Evan  ...          0    26\n",
              "1691749  3893470         Evan  ...          0    28\n",
              "1715639   499280         Evan  ...          1   207\n",
              "1835866  2497001         Evan  ...          1    75\n",
              "1844224  4109034         Evan  ...          0     7\n",
              "1865761  5377552         Evan  ...          0     1\n",
              "1898856  4212270         Evan  ...         35    53\n",
              "1942843  3965841         Evan  ...          0    14\n",
              "\n",
              "[53 rows x 8 columns]"
            ]
          },
          "metadata": {
            "tags": []
          },
          "execution_count": 29
        }
      ]
    },
    {
      "cell_type": "markdown",
      "metadata": {
        "id": "zlDu22VLGrUu",
        "colab_type": "text"
      },
      "source": [
        "## Data Clean Up & Rename Headers for better readability and Merge"
      ]
    },
    {
      "cell_type": "code",
      "metadata": {
        "id": "fB38zjtCFCcf",
        "colab_type": "code",
        "outputId": "1690712a-4e3e-49c5-d15d-34bb82d9a1fe",
        "colab": {
          "base_uri": "https://localhost:8080/",
          "height": 204
        }
      },
      "source": [
        "questionsds.rename(columns = {'Id':'QuestionId', 'OwnerUserId':'QuestionOwnerUserId', 'CreationDate':'QuestionCreationDate', 'Score':'QuestionScore', 'Body':'QuestionBody'}, inplace = True) \n",
        "questionsds.head()"
      ],
      "execution_count": 0,
      "outputs": [
        {
          "output_type": "execute_result",
          "data": {
            "text/html": [
              "<div>\n",
              "<style scoped>\n",
              "    .dataframe tbody tr th:only-of-type {\n",
              "        vertical-align: middle;\n",
              "    }\n",
              "\n",
              "    .dataframe tbody tr th {\n",
              "        vertical-align: top;\n",
              "    }\n",
              "\n",
              "    .dataframe thead th {\n",
              "        text-align: right;\n",
              "    }\n",
              "</style>\n",
              "<table border=\"1\" class=\"dataframe\">\n",
              "  <thead>\n",
              "    <tr style=\"text-align: right;\">\n",
              "      <th></th>\n",
              "      <th>QuestionId</th>\n",
              "      <th>QuestionOwnerUserId</th>\n",
              "      <th>QuestionCreationDate</th>\n",
              "      <th>QuestionScore</th>\n",
              "      <th>Title</th>\n",
              "      <th>QuestionBody</th>\n",
              "    </tr>\n",
              "  </thead>\n",
              "  <tbody>\n",
              "    <tr>\n",
              "      <th>0</th>\n",
              "      <td>80</td>\n",
              "      <td>26.0</td>\n",
              "      <td>2008-08-01T13:57:07Z</td>\n",
              "      <td>26</td>\n",
              "      <td>SQLStatement.execute() - multiple queries in o...</td>\n",
              "      <td>&lt;p&gt;I've written a database generation script i...</td>\n",
              "    </tr>\n",
              "    <tr>\n",
              "      <th>1</th>\n",
              "      <td>90</td>\n",
              "      <td>58.0</td>\n",
              "      <td>2008-08-01T14:41:24Z</td>\n",
              "      <td>144</td>\n",
              "      <td>Good branching and merging tutorials for Torto...</td>\n",
              "      <td>&lt;p&gt;Are there any really good tutorials explain...</td>\n",
              "    </tr>\n",
              "    <tr>\n",
              "      <th>2</th>\n",
              "      <td>120</td>\n",
              "      <td>83.0</td>\n",
              "      <td>2008-08-01T15:50:08Z</td>\n",
              "      <td>21</td>\n",
              "      <td>ASP.NET Site Maps</td>\n",
              "      <td>&lt;p&gt;Has anyone got experience creating &lt;strong&gt;...</td>\n",
              "    </tr>\n",
              "    <tr>\n",
              "      <th>3</th>\n",
              "      <td>180</td>\n",
              "      <td>2089740.0</td>\n",
              "      <td>2008-08-01T18:42:19Z</td>\n",
              "      <td>53</td>\n",
              "      <td>Function for creating color wheels</td>\n",
              "      <td>&lt;p&gt;This is something I've pseudo-solved many t...</td>\n",
              "    </tr>\n",
              "    <tr>\n",
              "      <th>4</th>\n",
              "      <td>260</td>\n",
              "      <td>91.0</td>\n",
              "      <td>2008-08-01T23:22:08Z</td>\n",
              "      <td>49</td>\n",
              "      <td>Adding scripting functionality to .NET applica...</td>\n",
              "      <td>&lt;p&gt;I have a little game written in C#. It uses...</td>\n",
              "    </tr>\n",
              "  </tbody>\n",
              "</table>\n",
              "</div>"
            ],
            "text/plain": [
              "   QuestionId  ...                                       QuestionBody\n",
              "0          80  ...  <p>I've written a database generation script i...\n",
              "1          90  ...  <p>Are there any really good tutorials explain...\n",
              "2         120  ...  <p>Has anyone got experience creating <strong>...\n",
              "3         180  ...  <p>This is something I've pseudo-solved many t...\n",
              "4         260  ...  <p>I have a little game written in C#. It uses...\n",
              "\n",
              "[5 rows x 6 columns]"
            ]
          },
          "metadata": {
            "tags": []
          },
          "execution_count": 30
        }
      ]
    },
    {
      "cell_type": "code",
      "metadata": {
        "id": "4KXf2SSqHRDH",
        "colab_type": "code",
        "outputId": "96501978-8604-42e5-f84d-df92972c4b68",
        "colab": {
          "base_uri": "https://localhost:8080/",
          "height": 204
        }
      },
      "source": [
        "answerds.rename(columns = {'Id':'AnswerId', 'OwnerUserId':'AnswerOwnerUserId', 'CreationDate':'AnswerCreationDate', 'ParentId':'QuestionId', 'Score':'AnswerScore','Body':'AnswerBody'}, inplace = True) \n",
        "answerds.head()"
      ],
      "execution_count": 0,
      "outputs": [
        {
          "output_type": "execute_result",
          "data": {
            "text/html": [
              "<div>\n",
              "<style scoped>\n",
              "    .dataframe tbody tr th:only-of-type {\n",
              "        vertical-align: middle;\n",
              "    }\n",
              "\n",
              "    .dataframe tbody tr th {\n",
              "        vertical-align: top;\n",
              "    }\n",
              "\n",
              "    .dataframe thead th {\n",
              "        text-align: right;\n",
              "    }\n",
              "</style>\n",
              "<table border=\"1\" class=\"dataframe\">\n",
              "  <thead>\n",
              "    <tr style=\"text-align: right;\">\n",
              "      <th></th>\n",
              "      <th>AnswerId</th>\n",
              "      <th>AnswerOwnerUserId</th>\n",
              "      <th>AnswerCreationDate</th>\n",
              "      <th>QuestionId</th>\n",
              "      <th>AnswerScore</th>\n",
              "      <th>AnswerBody</th>\n",
              "    </tr>\n",
              "  </thead>\n",
              "  <tbody>\n",
              "    <tr>\n",
              "      <th>0</th>\n",
              "      <td>92</td>\n",
              "      <td>61.0</td>\n",
              "      <td>2008-08-01T14:45:37Z</td>\n",
              "      <td>90</td>\n",
              "      <td>13</td>\n",
              "      <td>&lt;p&gt;&lt;a href=\"http://svnbook.red-bean.com/\"&gt;Vers...</td>\n",
              "    </tr>\n",
              "    <tr>\n",
              "      <th>1</th>\n",
              "      <td>124</td>\n",
              "      <td>26.0</td>\n",
              "      <td>2008-08-01T16:09:47Z</td>\n",
              "      <td>80</td>\n",
              "      <td>12</td>\n",
              "      <td>&lt;p&gt;I wound up using this. It is a kind of a ha...</td>\n",
              "    </tr>\n",
              "    <tr>\n",
              "      <th>2</th>\n",
              "      <td>199</td>\n",
              "      <td>50.0</td>\n",
              "      <td>2008-08-01T19:36:46Z</td>\n",
              "      <td>180</td>\n",
              "      <td>1</td>\n",
              "      <td>&lt;p&gt;I've read somewhere the human eye can't dis...</td>\n",
              "    </tr>\n",
              "    <tr>\n",
              "      <th>3</th>\n",
              "      <td>269</td>\n",
              "      <td>91.0</td>\n",
              "      <td>2008-08-01T23:49:57Z</td>\n",
              "      <td>260</td>\n",
              "      <td>4</td>\n",
              "      <td>&lt;p&gt;Yes, I thought about that, but I soon figur...</td>\n",
              "    </tr>\n",
              "    <tr>\n",
              "      <th>4</th>\n",
              "      <td>307</td>\n",
              "      <td>49.0</td>\n",
              "      <td>2008-08-02T01:49:46Z</td>\n",
              "      <td>260</td>\n",
              "      <td>28</td>\n",
              "      <td>&lt;p&gt;&lt;a href=\"http://www.codeproject.com/Article...</td>\n",
              "    </tr>\n",
              "  </tbody>\n",
              "</table>\n",
              "</div>"
            ],
            "text/plain": [
              "   AnswerId  ...                                         AnswerBody\n",
              "0        92  ...  <p><a href=\"http://svnbook.red-bean.com/\">Vers...\n",
              "1       124  ...  <p>I wound up using this. It is a kind of a ha...\n",
              "2       199  ...  <p>I've read somewhere the human eye can't dis...\n",
              "3       269  ...  <p>Yes, I thought about that, but I soon figur...\n",
              "4       307  ...  <p><a href=\"http://www.codeproject.com/Article...\n",
              "\n",
              "[5 rows x 6 columns]"
            ]
          },
          "metadata": {
            "tags": []
          },
          "execution_count": 31
        }
      ]
    },
    {
      "cell_type": "code",
      "metadata": {
        "id": "xkK3jR0uIRXw",
        "colab_type": "code",
        "outputId": "6d3b97e8-1122-4036-ed41-dda5abd0ec33",
        "colab": {
          "base_uri": "https://localhost:8080/",
          "height": 204
        }
      },
      "source": [
        "tagsds.rename(columns = {'Id':'QuestionId'}, inplace = True)\n",
        "tagsds.head()"
      ],
      "execution_count": 0,
      "outputs": [
        {
          "output_type": "execute_result",
          "data": {
            "text/html": [
              "<div>\n",
              "<style scoped>\n",
              "    .dataframe tbody tr th:only-of-type {\n",
              "        vertical-align: middle;\n",
              "    }\n",
              "\n",
              "    .dataframe tbody tr th {\n",
              "        vertical-align: top;\n",
              "    }\n",
              "\n",
              "    .dataframe thead th {\n",
              "        text-align: right;\n",
              "    }\n",
              "</style>\n",
              "<table border=\"1\" class=\"dataframe\">\n",
              "  <thead>\n",
              "    <tr style=\"text-align: right;\">\n",
              "      <th></th>\n",
              "      <th>QuestionId</th>\n",
              "      <th>Tag</th>\n",
              "    </tr>\n",
              "  </thead>\n",
              "  <tbody>\n",
              "    <tr>\n",
              "      <th>0</th>\n",
              "      <td>80</td>\n",
              "      <td>flex</td>\n",
              "    </tr>\n",
              "    <tr>\n",
              "      <th>1</th>\n",
              "      <td>80</td>\n",
              "      <td>actionscript-3</td>\n",
              "    </tr>\n",
              "    <tr>\n",
              "      <th>2</th>\n",
              "      <td>80</td>\n",
              "      <td>air</td>\n",
              "    </tr>\n",
              "    <tr>\n",
              "      <th>3</th>\n",
              "      <td>90</td>\n",
              "      <td>svn</td>\n",
              "    </tr>\n",
              "    <tr>\n",
              "      <th>4</th>\n",
              "      <td>90</td>\n",
              "      <td>tortoisesvn</td>\n",
              "    </tr>\n",
              "  </tbody>\n",
              "</table>\n",
              "</div>"
            ],
            "text/plain": [
              "   QuestionId             Tag\n",
              "0          80            flex\n",
              "1          80  actionscript-3\n",
              "2          80             air\n",
              "3          90             svn\n",
              "4          90     tortoisesvn"
            ]
          },
          "metadata": {
            "tags": []
          },
          "execution_count": 32
        }
      ]
    },
    {
      "cell_type": "code",
      "metadata": {
        "id": "FCU_IZvCOsUG",
        "colab_type": "code",
        "outputId": "3db7b6b3-0112-4c81-9f97-dbc5b6134182",
        "colab": {
          "base_uri": "https://localhost:8080/",
          "height": 204
        }
      },
      "source": [
        "questionUserds = usersds.rename(columns = {'id':'QuestionOwnerUserId','display_name':'QuestionUserDisplayName','creation_date':'QuestionUserCreationDate'})\n",
        "questionUserds.drop(questionUserds.columns[[3,4,5,6,7]], axis =1, inplace= True)\n",
        "questionUserds.head()\n"
      ],
      "execution_count": 0,
      "outputs": [
        {
          "output_type": "execute_result",
          "data": {
            "text/html": [
              "<div>\n",
              "<style scoped>\n",
              "    .dataframe tbody tr th:only-of-type {\n",
              "        vertical-align: middle;\n",
              "    }\n",
              "\n",
              "    .dataframe tbody tr th {\n",
              "        vertical-align: top;\n",
              "    }\n",
              "\n",
              "    .dataframe thead th {\n",
              "        text-align: right;\n",
              "    }\n",
              "</style>\n",
              "<table border=\"1\" class=\"dataframe\">\n",
              "  <thead>\n",
              "    <tr style=\"text-align: right;\">\n",
              "      <th></th>\n",
              "      <th>QuestionOwnerUserId</th>\n",
              "      <th>QuestionUserDisplayName</th>\n",
              "      <th>QuestionUserCreationDate</th>\n",
              "    </tr>\n",
              "  </thead>\n",
              "  <tbody>\n",
              "    <tr>\n",
              "      <th>26</th>\n",
              "      <td>26</td>\n",
              "      <td>Shawn</td>\n",
              "      <td>2008-08-01 12:18:14.52 UTC</td>\n",
              "    </tr>\n",
              "    <tr>\n",
              "      <th>84</th>\n",
              "      <td>1109</td>\n",
              "      <td>Theo</td>\n",
              "      <td>2008-08-12 12:16:58.61 UTC</td>\n",
              "    </tr>\n",
              "    <tr>\n",
              "      <th>86</th>\n",
              "      <td>364174</td>\n",
              "      <td>stats</td>\n",
              "      <td>2010-06-11 03:34:57.137 UTC</td>\n",
              "    </tr>\n",
              "    <tr>\n",
              "      <th>96</th>\n",
              "      <td>61</td>\n",
              "      <td>Bernard</td>\n",
              "      <td>2008-08-01 14:21:00.573 UTC</td>\n",
              "    </tr>\n",
              "    <tr>\n",
              "      <th>98</th>\n",
              "      <td>20709</td>\n",
              "      <td>Black Horus</td>\n",
              "      <td>2008-09-22 20:03:39.71 UTC</td>\n",
              "    </tr>\n",
              "  </tbody>\n",
              "</table>\n",
              "</div>"
            ],
            "text/plain": [
              "    QuestionOwnerUserId QuestionUserDisplayName     QuestionUserCreationDate\n",
              "26                   26                   Shawn   2008-08-01 12:18:14.52 UTC\n",
              "84                 1109                    Theo   2008-08-12 12:16:58.61 UTC\n",
              "86               364174                   stats  2010-06-11 03:34:57.137 UTC\n",
              "96                   61                 Bernard  2008-08-01 14:21:00.573 UTC\n",
              "98                20709             Black Horus   2008-09-22 20:03:39.71 UTC"
            ]
          },
          "metadata": {
            "tags": []
          },
          "execution_count": 33
        }
      ]
    },
    {
      "cell_type": "code",
      "metadata": {
        "id": "XvOUsoEoYWYx",
        "colab_type": "code",
        "outputId": "75fe37eb-24d3-43f0-f091-1ee382637fdb",
        "colab": {
          "base_uri": "https://localhost:8080/",
          "height": 258
        }
      },
      "source": [
        "answerUserds = usersds.rename(columns = {'id':'AnswerOwnerUserId','display_name':'AnswerUserDisplayName','creation_date':'AnswerUserCreationDate','last_access_date':'AnswerUserLastAccessDate','reputation':'AnswerUserReputation','up_votes':'AnswerUserUpVotes','down_votes':'AnswerUserDownVotes','views':'AnswerUserViews'})\n",
        "answerUserds.head()"
      ],
      "execution_count": 0,
      "outputs": [
        {
          "output_type": "execute_result",
          "data": {
            "text/html": [
              "<div>\n",
              "<style scoped>\n",
              "    .dataframe tbody tr th:only-of-type {\n",
              "        vertical-align: middle;\n",
              "    }\n",
              "\n",
              "    .dataframe tbody tr th {\n",
              "        vertical-align: top;\n",
              "    }\n",
              "\n",
              "    .dataframe thead th {\n",
              "        text-align: right;\n",
              "    }\n",
              "</style>\n",
              "<table border=\"1\" class=\"dataframe\">\n",
              "  <thead>\n",
              "    <tr style=\"text-align: right;\">\n",
              "      <th></th>\n",
              "      <th>AnswerOwnerUserId</th>\n",
              "      <th>AnswerUserDisplayName</th>\n",
              "      <th>AnswerUserCreationDate</th>\n",
              "      <th>AnswerUserLastAccessDate</th>\n",
              "      <th>AnswerUserReputation</th>\n",
              "      <th>AnswerUserUpVotes</th>\n",
              "      <th>AnswerUserDownVotes</th>\n",
              "      <th>AnswerUserViews</th>\n",
              "    </tr>\n",
              "  </thead>\n",
              "  <tbody>\n",
              "    <tr>\n",
              "      <th>26</th>\n",
              "      <td>26</td>\n",
              "      <td>Shawn</td>\n",
              "      <td>2008-08-01 12:18:14.52 UTC</td>\n",
              "      <td>2018-04-11 04:40:35.66 UTC</td>\n",
              "      <td>11820</td>\n",
              "      <td>565</td>\n",
              "      <td>67</td>\n",
              "      <td>3547</td>\n",
              "    </tr>\n",
              "    <tr>\n",
              "      <th>84</th>\n",
              "      <td>1109</td>\n",
              "      <td>Theo</td>\n",
              "      <td>2008-08-12 12:16:58.61 UTC</td>\n",
              "      <td>2019-08-31 11:39:52.28 UTC</td>\n",
              "      <td>116072</td>\n",
              "      <td>457</td>\n",
              "      <td>136</td>\n",
              "      <td>6905</td>\n",
              "    </tr>\n",
              "    <tr>\n",
              "      <th>86</th>\n",
              "      <td>364174</td>\n",
              "      <td>stats</td>\n",
              "      <td>2010-06-11 03:34:57.137 UTC</td>\n",
              "      <td>2019-08-29 18:37:35.027 UTC</td>\n",
              "      <td>325</td>\n",
              "      <td>25</td>\n",
              "      <td>1</td>\n",
              "      <td>60</td>\n",
              "    </tr>\n",
              "    <tr>\n",
              "      <th>96</th>\n",
              "      <td>61</td>\n",
              "      <td>Bernard</td>\n",
              "      <td>2008-08-01 14:21:00.573 UTC</td>\n",
              "      <td>2019-08-30 07:11:58.297 UTC</td>\n",
              "      <td>22779</td>\n",
              "      <td>1321</td>\n",
              "      <td>219</td>\n",
              "      <td>1731</td>\n",
              "    </tr>\n",
              "    <tr>\n",
              "      <th>98</th>\n",
              "      <td>20709</td>\n",
              "      <td>Black Horus</td>\n",
              "      <td>2008-09-22 20:03:39.71 UTC</td>\n",
              "      <td>2019-09-01 01:17:38.133 UTC</td>\n",
              "      <td>978</td>\n",
              "      <td>73</td>\n",
              "      <td>2</td>\n",
              "      <td>96</td>\n",
              "    </tr>\n",
              "  </tbody>\n",
              "</table>\n",
              "</div>"
            ],
            "text/plain": [
              "    AnswerOwnerUserId  ... AnswerUserViews\n",
              "26                 26  ...            3547\n",
              "84               1109  ...            6905\n",
              "86             364174  ...              60\n",
              "96                 61  ...            1731\n",
              "98              20709  ...              96\n",
              "\n",
              "[5 rows x 8 columns]"
            ]
          },
          "metadata": {
            "tags": []
          },
          "execution_count": 34
        }
      ]
    },
    {
      "cell_type": "code",
      "metadata": {
        "id": "qi1eQovAJKnz",
        "colab_type": "code",
        "outputId": "b500891d-94fd-4e7b-a74a-f040ee026027",
        "colab": {
          "base_uri": "https://localhost:8080/",
          "height": 136
        }
      },
      "source": [
        "groupDs = tagsds.groupby('QuestionId')\n",
        "tagsdsModified = groupDs['Tag'].unique()\n",
        "tagsdsModified.head()"
      ],
      "execution_count": 0,
      "outputs": [
        {
          "output_type": "execute_result",
          "data": {
            "text/plain": [
              "QuestionId\n",
              "80                           [flex, actionscript-3, air]\n",
              "90     [svn, tortoisesvn, branch, branching-and-merging]\n",
              "120                              [sql, asp.net, sitemap]\n",
              "180    [algorithm, language-agnostic, colors, color-s...\n",
              "260         [c#, .net, scripting, compiler-construction]\n",
              "Name: Tag, dtype: object"
            ]
          },
          "metadata": {
            "tags": []
          },
          "execution_count": 35
        }
      ]
    },
    {
      "cell_type": "markdown",
      "metadata": {
        "id": "-dbP1gh5aQgN",
        "colab_type": "text"
      },
      "source": [
        "## Do Merge"
      ]
    },
    {
      "cell_type": "code",
      "metadata": {
        "id": "1LZRKGRPHVlb",
        "colab_type": "code",
        "outputId": "c23ae07b-8684-414e-8211-253b48e9c377",
        "colab": {
          "base_uri": "https://localhost:8080/",
          "height": 1000
        }
      },
      "source": [
        "QuestionAnswer = pd.merge(questionsds, answerds, on='QuestionId', how='left')\n",
        "QuestionAnswer.head(20)"
      ],
      "execution_count": 0,
      "outputs": [
        {
          "output_type": "execute_result",
          "data": {
            "text/html": [
              "<div>\n",
              "<style scoped>\n",
              "    .dataframe tbody tr th:only-of-type {\n",
              "        vertical-align: middle;\n",
              "    }\n",
              "\n",
              "    .dataframe tbody tr th {\n",
              "        vertical-align: top;\n",
              "    }\n",
              "\n",
              "    .dataframe thead th {\n",
              "        text-align: right;\n",
              "    }\n",
              "</style>\n",
              "<table border=\"1\" class=\"dataframe\">\n",
              "  <thead>\n",
              "    <tr style=\"text-align: right;\">\n",
              "      <th></th>\n",
              "      <th>QuestionId</th>\n",
              "      <th>QuestionOwnerUserId</th>\n",
              "      <th>QuestionCreationDate</th>\n",
              "      <th>QuestionScore</th>\n",
              "      <th>Title</th>\n",
              "      <th>QuestionBody</th>\n",
              "      <th>AnswerId</th>\n",
              "      <th>AnswerOwnerUserId</th>\n",
              "      <th>AnswerCreationDate</th>\n",
              "      <th>AnswerScore</th>\n",
              "      <th>AnswerBody</th>\n",
              "    </tr>\n",
              "  </thead>\n",
              "  <tbody>\n",
              "    <tr>\n",
              "      <th>0</th>\n",
              "      <td>80</td>\n",
              "      <td>26.0</td>\n",
              "      <td>2008-08-01T13:57:07Z</td>\n",
              "      <td>26</td>\n",
              "      <td>SQLStatement.execute() - multiple queries in o...</td>\n",
              "      <td>&lt;p&gt;I've written a database generation script i...</td>\n",
              "      <td>124.0</td>\n",
              "      <td>26.0</td>\n",
              "      <td>2008-08-01T16:09:47Z</td>\n",
              "      <td>12.0</td>\n",
              "      <td>&lt;p&gt;I wound up using this. It is a kind of a ha...</td>\n",
              "    </tr>\n",
              "    <tr>\n",
              "      <th>1</th>\n",
              "      <td>80</td>\n",
              "      <td>26.0</td>\n",
              "      <td>2008-08-01T13:57:07Z</td>\n",
              "      <td>26</td>\n",
              "      <td>SQLStatement.execute() - multiple queries in o...</td>\n",
              "      <td>&lt;p&gt;I've written a database generation script i...</td>\n",
              "      <td>10008.0</td>\n",
              "      <td>1109.0</td>\n",
              "      <td>2008-08-13T16:09:09Z</td>\n",
              "      <td>6.0</td>\n",
              "      <td>&lt;p&gt;The &lt;a href=\"http://en.wikipedia.org/wiki/S...</td>\n",
              "    </tr>\n",
              "    <tr>\n",
              "      <th>2</th>\n",
              "      <td>80</td>\n",
              "      <td>26.0</td>\n",
              "      <td>2008-08-01T13:57:07Z</td>\n",
              "      <td>26</td>\n",
              "      <td>SQLStatement.execute() - multiple queries in o...</td>\n",
              "      <td>&lt;p&gt;I've written a database generation script i...</td>\n",
              "      <td>3770976.0</td>\n",
              "      <td>364174.0</td>\n",
              "      <td>2010-09-22T15:37:30Z</td>\n",
              "      <td>1.0</td>\n",
              "      <td>&lt;p&gt;What about making your delimiter something ...</td>\n",
              "    </tr>\n",
              "    <tr>\n",
              "      <th>3</th>\n",
              "      <td>90</td>\n",
              "      <td>58.0</td>\n",
              "      <td>2008-08-01T14:41:24Z</td>\n",
              "      <td>144</td>\n",
              "      <td>Good branching and merging tutorials for Torto...</td>\n",
              "      <td>&lt;p&gt;Are there any really good tutorials explain...</td>\n",
              "      <td>92.0</td>\n",
              "      <td>61.0</td>\n",
              "      <td>2008-08-01T14:45:37Z</td>\n",
              "      <td>13.0</td>\n",
              "      <td>&lt;p&gt;&lt;a href=\"http://svnbook.red-bean.com/\"&gt;Vers...</td>\n",
              "    </tr>\n",
              "    <tr>\n",
              "      <th>4</th>\n",
              "      <td>90</td>\n",
              "      <td>58.0</td>\n",
              "      <td>2008-08-01T14:41:24Z</td>\n",
              "      <td>144</td>\n",
              "      <td>Good branching and merging tutorials for Torto...</td>\n",
              "      <td>&lt;p&gt;Are there any really good tutorials explain...</td>\n",
              "      <td>202317.0</td>\n",
              "      <td>20709.0</td>\n",
              "      <td>2008-10-14T18:41:45Z</td>\n",
              "      <td>2.0</td>\n",
              "      <td>&lt;p&gt;You can also try &lt;em&gt;&lt;a href=\"http://www.co...</td>\n",
              "    </tr>\n",
              "    <tr>\n",
              "      <th>5</th>\n",
              "      <td>90</td>\n",
              "      <td>58.0</td>\n",
              "      <td>2008-08-01T14:41:24Z</td>\n",
              "      <td>144</td>\n",
              "      <td>Good branching and merging tutorials for Torto...</td>\n",
              "      <td>&lt;p&gt;Are there any really good tutorials explain...</td>\n",
              "      <td>1466832.0</td>\n",
              "      <td>16012.0</td>\n",
              "      <td>2009-09-23T15:40:46Z</td>\n",
              "      <td>19.0</td>\n",
              "      <td>&lt;p&gt;My easy click-by-click instructions (&lt;stron...</td>\n",
              "    </tr>\n",
              "    <tr>\n",
              "      <th>6</th>\n",
              "      <td>120</td>\n",
              "      <td>83.0</td>\n",
              "      <td>2008-08-01T15:50:08Z</td>\n",
              "      <td>21</td>\n",
              "      <td>ASP.NET Site Maps</td>\n",
              "      <td>&lt;p&gt;Has anyone got experience creating &lt;strong&gt;...</td>\n",
              "      <td>124363.0</td>\n",
              "      <td>12734.0</td>\n",
              "      <td>2008-09-23T22:41:11Z</td>\n",
              "      <td>9.0</td>\n",
              "      <td>&lt;p&gt;The Jeff Prosise version from MSDN magazine...</td>\n",
              "    </tr>\n",
              "    <tr>\n",
              "      <th>7</th>\n",
              "      <td>180</td>\n",
              "      <td>2089740.0</td>\n",
              "      <td>2008-08-01T18:42:19Z</td>\n",
              "      <td>53</td>\n",
              "      <td>Function for creating color wheels</td>\n",
              "      <td>&lt;p&gt;This is something I've pseudo-solved many t...</td>\n",
              "      <td>199.0</td>\n",
              "      <td>50.0</td>\n",
              "      <td>2008-08-01T19:36:46Z</td>\n",
              "      <td>1.0</td>\n",
              "      <td>&lt;p&gt;I've read somewhere the human eye can't dis...</td>\n",
              "    </tr>\n",
              "    <tr>\n",
              "      <th>8</th>\n",
              "      <td>180</td>\n",
              "      <td>2089740.0</td>\n",
              "      <td>2008-08-01T18:42:19Z</td>\n",
              "      <td>53</td>\n",
              "      <td>Function for creating color wheels</td>\n",
              "      <td>&lt;p&gt;This is something I've pseudo-solved many t...</td>\n",
              "      <td>529.0</td>\n",
              "      <td>86.0</td>\n",
              "      <td>2008-08-02T18:16:07Z</td>\n",
              "      <td>3.0</td>\n",
              "      <td>&lt;p&gt;Isn't it also a factor which order you set ...</td>\n",
              "    </tr>\n",
              "    <tr>\n",
              "      <th>9</th>\n",
              "      <td>180</td>\n",
              "      <td>2089740.0</td>\n",
              "      <td>2008-08-01T18:42:19Z</td>\n",
              "      <td>53</td>\n",
              "      <td>Function for creating color wheels</td>\n",
              "      <td>&lt;p&gt;This is something I've pseudo-solved many t...</td>\n",
              "      <td>539.0</td>\n",
              "      <td>157.0</td>\n",
              "      <td>2008-08-02T19:03:52Z</td>\n",
              "      <td>21.0</td>\n",
              "      <td>&lt;p&gt;My first thought on this is \"how generate N...</td>\n",
              "    </tr>\n",
              "    <tr>\n",
              "      <th>10</th>\n",
              "      <td>180</td>\n",
              "      <td>2089740.0</td>\n",
              "      <td>2008-08-01T18:42:19Z</td>\n",
              "      <td>53</td>\n",
              "      <td>Function for creating color wheels</td>\n",
              "      <td>&lt;p&gt;This is something I've pseudo-solved many t...</td>\n",
              "      <td>59760.0</td>\n",
              "      <td>5845.0</td>\n",
              "      <td>2008-09-12T19:00:13Z</td>\n",
              "      <td>17.0</td>\n",
              "      <td>&lt;p&gt;It would be best to find colors maximally d...</td>\n",
              "    </tr>\n",
              "    <tr>\n",
              "      <th>11</th>\n",
              "      <td>180</td>\n",
              "      <td>2089740.0</td>\n",
              "      <td>2008-08-01T18:42:19Z</td>\n",
              "      <td>53</td>\n",
              "      <td>Function for creating color wheels</td>\n",
              "      <td>&lt;p&gt;This is something I've pseudo-solved many t...</td>\n",
              "      <td>93908.0</td>\n",
              "      <td>16632.0</td>\n",
              "      <td>2008-09-18T16:01:24Z</td>\n",
              "      <td>7.0</td>\n",
              "      <td>&lt;p&gt;Some related resources:&lt;/p&gt;\\n\\n&lt;p&gt;&lt;a href=\"...</td>\n",
              "    </tr>\n",
              "    <tr>\n",
              "      <th>12</th>\n",
              "      <td>180</td>\n",
              "      <td>2089740.0</td>\n",
              "      <td>2008-08-01T18:42:19Z</td>\n",
              "      <td>53</td>\n",
              "      <td>Function for creating color wheels</td>\n",
              "      <td>&lt;p&gt;This is something I've pseudo-solved many t...</td>\n",
              "      <td>143966.0</td>\n",
              "      <td>16582.0</td>\n",
              "      <td>2008-09-27T16:39:09Z</td>\n",
              "      <td>4.0</td>\n",
              "      <td>&lt;p&gt;Here is some code to allocate RGB colors ev...</td>\n",
              "    </tr>\n",
              "    <tr>\n",
              "      <th>13</th>\n",
              "      <td>180</td>\n",
              "      <td>2089740.0</td>\n",
              "      <td>2008-08-01T18:42:19Z</td>\n",
              "      <td>53</td>\n",
              "      <td>Function for creating color wheels</td>\n",
              "      <td>&lt;p&gt;This is something I've pseudo-solved many t...</td>\n",
              "      <td>1499720.0</td>\n",
              "      <td>115432.0</td>\n",
              "      <td>2009-09-30T18:00:26Z</td>\n",
              "      <td>0.0</td>\n",
              "      <td>&lt;p&gt;Last I checked &lt;a href=\"http://www.jfree.or...</td>\n",
              "    </tr>\n",
              "    <tr>\n",
              "      <th>14</th>\n",
              "      <td>180</td>\n",
              "      <td>2089740.0</td>\n",
              "      <td>2008-08-01T18:42:19Z</td>\n",
              "      <td>53</td>\n",
              "      <td>Function for creating color wheels</td>\n",
              "      <td>&lt;p&gt;This is something I've pseudo-solved many t...</td>\n",
              "      <td>7815745.0</td>\n",
              "      <td>678455.0</td>\n",
              "      <td>2011-10-19T01:58:23Z</td>\n",
              "      <td>1.0</td>\n",
              "      <td>&lt;p&gt;I know this an old post but I found it whil...</td>\n",
              "    </tr>\n",
              "    <tr>\n",
              "      <th>15</th>\n",
              "      <td>180</td>\n",
              "      <td>2089740.0</td>\n",
              "      <td>2008-08-01T18:42:19Z</td>\n",
              "      <td>53</td>\n",
              "      <td>Function for creating color wheels</td>\n",
              "      <td>&lt;p&gt;This is something I've pseudo-solved many t...</td>\n",
              "      <td>21634390.0</td>\n",
              "      <td>135862.0</td>\n",
              "      <td>2014-02-07T17:43:13Z</td>\n",
              "      <td>0.0</td>\n",
              "      <td>&lt;p&gt;To achieve \"most distinguishable\" we need t...</td>\n",
              "    </tr>\n",
              "    <tr>\n",
              "      <th>16</th>\n",
              "      <td>260</td>\n",
              "      <td>91.0</td>\n",
              "      <td>2008-08-01T23:22:08Z</td>\n",
              "      <td>49</td>\n",
              "      <td>Adding scripting functionality to .NET applica...</td>\n",
              "      <td>&lt;p&gt;I have a little game written in C#. It uses...</td>\n",
              "      <td>269.0</td>\n",
              "      <td>91.0</td>\n",
              "      <td>2008-08-01T23:49:57Z</td>\n",
              "      <td>4.0</td>\n",
              "      <td>&lt;p&gt;Yes, I thought about that, but I soon figur...</td>\n",
              "    </tr>\n",
              "    <tr>\n",
              "      <th>17</th>\n",
              "      <td>260</td>\n",
              "      <td>91.0</td>\n",
              "      <td>2008-08-01T23:22:08Z</td>\n",
              "      <td>49</td>\n",
              "      <td>Adding scripting functionality to .NET applica...</td>\n",
              "      <td>&lt;p&gt;I have a little game written in C#. It uses...</td>\n",
              "      <td>307.0</td>\n",
              "      <td>49.0</td>\n",
              "      <td>2008-08-02T01:49:46Z</td>\n",
              "      <td>28.0</td>\n",
              "      <td>&lt;p&gt;&lt;a href=\"http://www.codeproject.com/Article...</td>\n",
              "    </tr>\n",
              "    <tr>\n",
              "      <th>18</th>\n",
              "      <td>260</td>\n",
              "      <td>91.0</td>\n",
              "      <td>2008-08-01T23:22:08Z</td>\n",
              "      <td>49</td>\n",
              "      <td>Adding scripting functionality to .NET applica...</td>\n",
              "      <td>&lt;p&gt;I have a little game written in C#. It uses...</td>\n",
              "      <td>344.0</td>\n",
              "      <td>100.0</td>\n",
              "      <td>2008-08-02T04:18:15Z</td>\n",
              "      <td>6.0</td>\n",
              "      <td>&lt;p&gt;You might be able to use IronRuby for that....</td>\n",
              "    </tr>\n",
              "    <tr>\n",
              "      <th>19</th>\n",
              "      <td>260</td>\n",
              "      <td>91.0</td>\n",
              "      <td>2008-08-01T23:22:08Z</td>\n",
              "      <td>49</td>\n",
              "      <td>Adding scripting functionality to .NET applica...</td>\n",
              "      <td>&lt;p&gt;I have a little game written in C#. It uses...</td>\n",
              "      <td>359.0</td>\n",
              "      <td>119.0</td>\n",
              "      <td>2008-08-02T06:16:23Z</td>\n",
              "      <td>5.0</td>\n",
              "      <td>&lt;P&gt;You could use any of the DLR languages, whi...</td>\n",
              "    </tr>\n",
              "  </tbody>\n",
              "</table>\n",
              "</div>"
            ],
            "text/plain": [
              "    QuestionId  ...                                         AnswerBody\n",
              "0           80  ...  <p>I wound up using this. It is a kind of a ha...\n",
              "1           80  ...  <p>The <a href=\"http://en.wikipedia.org/wiki/S...\n",
              "2           80  ...  <p>What about making your delimiter something ...\n",
              "3           90  ...  <p><a href=\"http://svnbook.red-bean.com/\">Vers...\n",
              "4           90  ...  <p>You can also try <em><a href=\"http://www.co...\n",
              "5           90  ...  <p>My easy click-by-click instructions (<stron...\n",
              "6          120  ...  <p>The Jeff Prosise version from MSDN magazine...\n",
              "7          180  ...  <p>I've read somewhere the human eye can't dis...\n",
              "8          180  ...  <p>Isn't it also a factor which order you set ...\n",
              "9          180  ...  <p>My first thought on this is \"how generate N...\n",
              "10         180  ...  <p>It would be best to find colors maximally d...\n",
              "11         180  ...  <p>Some related resources:</p>\\n\\n<p><a href=\"...\n",
              "12         180  ...  <p>Here is some code to allocate RGB colors ev...\n",
              "13         180  ...  <p>Last I checked <a href=\"http://www.jfree.or...\n",
              "14         180  ...  <p>I know this an old post but I found it whil...\n",
              "15         180  ...  <p>To achieve \"most distinguishable\" we need t...\n",
              "16         260  ...  <p>Yes, I thought about that, but I soon figur...\n",
              "17         260  ...  <p><a href=\"http://www.codeproject.com/Article...\n",
              "18         260  ...  <p>You might be able to use IronRuby for that....\n",
              "19         260  ...  <P>You could use any of the DLR languages, whi...\n",
              "\n",
              "[20 rows x 11 columns]"
            ]
          },
          "metadata": {
            "tags": []
          },
          "execution_count": 36
        }
      ]
    },
    {
      "cell_type": "code",
      "metadata": {
        "id": "-IjaZD1dLk7N",
        "colab_type": "code",
        "outputId": "03dc4a3a-2755-4009-b8da-dc32ad6f2ee7",
        "colab": {
          "base_uri": "https://localhost:8080/",
          "height": 547
        }
      },
      "source": [
        "QuestionAnswerwithTag = pd.merge(QuestionAnswer, tagsdsModified, on='QuestionId', how='left')\n",
        "QuestionAnswerwithTag.head()"
      ],
      "execution_count": 0,
      "outputs": [
        {
          "output_type": "execute_result",
          "data": {
            "text/html": [
              "<div>\n",
              "<style scoped>\n",
              "    .dataframe tbody tr th:only-of-type {\n",
              "        vertical-align: middle;\n",
              "    }\n",
              "\n",
              "    .dataframe tbody tr th {\n",
              "        vertical-align: top;\n",
              "    }\n",
              "\n",
              "    .dataframe thead th {\n",
              "        text-align: right;\n",
              "    }\n",
              "</style>\n",
              "<table border=\"1\" class=\"dataframe\">\n",
              "  <thead>\n",
              "    <tr style=\"text-align: right;\">\n",
              "      <th></th>\n",
              "      <th>QuestionId</th>\n",
              "      <th>QuestionOwnerUserId</th>\n",
              "      <th>QuestionCreationDate</th>\n",
              "      <th>QuestionScore</th>\n",
              "      <th>Title</th>\n",
              "      <th>QuestionBody</th>\n",
              "      <th>AnswerId</th>\n",
              "      <th>AnswerOwnerUserId</th>\n",
              "      <th>AnswerCreationDate</th>\n",
              "      <th>AnswerScore</th>\n",
              "      <th>AnswerBody</th>\n",
              "      <th>Tag</th>\n",
              "    </tr>\n",
              "  </thead>\n",
              "  <tbody>\n",
              "    <tr>\n",
              "      <th>0</th>\n",
              "      <td>80</td>\n",
              "      <td>26.0</td>\n",
              "      <td>2008-08-01T13:57:07Z</td>\n",
              "      <td>26</td>\n",
              "      <td>SQLStatement.execute() - multiple queries in o...</td>\n",
              "      <td>&lt;p&gt;I've written a database generation script i...</td>\n",
              "      <td>124.0</td>\n",
              "      <td>26.0</td>\n",
              "      <td>2008-08-01T16:09:47Z</td>\n",
              "      <td>12.0</td>\n",
              "      <td>&lt;p&gt;I wound up using this. It is a kind of a ha...</td>\n",
              "      <td>[flex, actionscript-3, air]</td>\n",
              "    </tr>\n",
              "    <tr>\n",
              "      <th>1</th>\n",
              "      <td>80</td>\n",
              "      <td>26.0</td>\n",
              "      <td>2008-08-01T13:57:07Z</td>\n",
              "      <td>26</td>\n",
              "      <td>SQLStatement.execute() - multiple queries in o...</td>\n",
              "      <td>&lt;p&gt;I've written a database generation script i...</td>\n",
              "      <td>10008.0</td>\n",
              "      <td>1109.0</td>\n",
              "      <td>2008-08-13T16:09:09Z</td>\n",
              "      <td>6.0</td>\n",
              "      <td>&lt;p&gt;The &lt;a href=\"http://en.wikipedia.org/wiki/S...</td>\n",
              "      <td>[flex, actionscript-3, air]</td>\n",
              "    </tr>\n",
              "    <tr>\n",
              "      <th>2</th>\n",
              "      <td>80</td>\n",
              "      <td>26.0</td>\n",
              "      <td>2008-08-01T13:57:07Z</td>\n",
              "      <td>26</td>\n",
              "      <td>SQLStatement.execute() - multiple queries in o...</td>\n",
              "      <td>&lt;p&gt;I've written a database generation script i...</td>\n",
              "      <td>3770976.0</td>\n",
              "      <td>364174.0</td>\n",
              "      <td>2010-09-22T15:37:30Z</td>\n",
              "      <td>1.0</td>\n",
              "      <td>&lt;p&gt;What about making your delimiter something ...</td>\n",
              "      <td>[flex, actionscript-3, air]</td>\n",
              "    </tr>\n",
              "    <tr>\n",
              "      <th>3</th>\n",
              "      <td>90</td>\n",
              "      <td>58.0</td>\n",
              "      <td>2008-08-01T14:41:24Z</td>\n",
              "      <td>144</td>\n",
              "      <td>Good branching and merging tutorials for Torto...</td>\n",
              "      <td>&lt;p&gt;Are there any really good tutorials explain...</td>\n",
              "      <td>92.0</td>\n",
              "      <td>61.0</td>\n",
              "      <td>2008-08-01T14:45:37Z</td>\n",
              "      <td>13.0</td>\n",
              "      <td>&lt;p&gt;&lt;a href=\"http://svnbook.red-bean.com/\"&gt;Vers...</td>\n",
              "      <td>[svn, tortoisesvn, branch, branching-and-merging]</td>\n",
              "    </tr>\n",
              "    <tr>\n",
              "      <th>4</th>\n",
              "      <td>90</td>\n",
              "      <td>58.0</td>\n",
              "      <td>2008-08-01T14:41:24Z</td>\n",
              "      <td>144</td>\n",
              "      <td>Good branching and merging tutorials for Torto...</td>\n",
              "      <td>&lt;p&gt;Are there any really good tutorials explain...</td>\n",
              "      <td>202317.0</td>\n",
              "      <td>20709.0</td>\n",
              "      <td>2008-10-14T18:41:45Z</td>\n",
              "      <td>2.0</td>\n",
              "      <td>&lt;p&gt;You can also try &lt;em&gt;&lt;a href=\"http://www.co...</td>\n",
              "      <td>[svn, tortoisesvn, branch, branching-and-merging]</td>\n",
              "    </tr>\n",
              "  </tbody>\n",
              "</table>\n",
              "</div>"
            ],
            "text/plain": [
              "   QuestionId  ...                                                Tag\n",
              "0          80  ...                        [flex, actionscript-3, air]\n",
              "1          80  ...                        [flex, actionscript-3, air]\n",
              "2          80  ...                        [flex, actionscript-3, air]\n",
              "3          90  ...  [svn, tortoisesvn, branch, branching-and-merging]\n",
              "4          90  ...  [svn, tortoisesvn, branch, branching-and-merging]\n",
              "\n",
              "[5 rows x 12 columns]"
            ]
          },
          "metadata": {
            "tags": []
          },
          "execution_count": 37
        }
      ]
    },
    {
      "cell_type": "code",
      "metadata": {
        "id": "XHxTU_WpRuOQ",
        "colab_type": "code",
        "outputId": "08592798-7bba-4664-88d9-16069928864c",
        "colab": {
          "base_uri": "https://localhost:8080/",
          "height": 547
        }
      },
      "source": [
        "QuestionAnswerwithTagandUser = pd.merge(QuestionAnswerwithTag, questionUserds, on='QuestionOwnerUserId', how='left')\n",
        "QuestionAnswerwithTagandUser.head() "
      ],
      "execution_count": 0,
      "outputs": [
        {
          "output_type": "execute_result",
          "data": {
            "text/html": [
              "<div>\n",
              "<style scoped>\n",
              "    .dataframe tbody tr th:only-of-type {\n",
              "        vertical-align: middle;\n",
              "    }\n",
              "\n",
              "    .dataframe tbody tr th {\n",
              "        vertical-align: top;\n",
              "    }\n",
              "\n",
              "    .dataframe thead th {\n",
              "        text-align: right;\n",
              "    }\n",
              "</style>\n",
              "<table border=\"1\" class=\"dataframe\">\n",
              "  <thead>\n",
              "    <tr style=\"text-align: right;\">\n",
              "      <th></th>\n",
              "      <th>QuestionId</th>\n",
              "      <th>QuestionOwnerUserId</th>\n",
              "      <th>QuestionCreationDate</th>\n",
              "      <th>QuestionScore</th>\n",
              "      <th>Title</th>\n",
              "      <th>QuestionBody</th>\n",
              "      <th>AnswerId</th>\n",
              "      <th>AnswerOwnerUserId</th>\n",
              "      <th>AnswerCreationDate</th>\n",
              "      <th>AnswerScore</th>\n",
              "      <th>AnswerBody</th>\n",
              "      <th>Tag</th>\n",
              "      <th>QuestionUserDisplayName</th>\n",
              "      <th>QuestionUserCreationDate</th>\n",
              "    </tr>\n",
              "  </thead>\n",
              "  <tbody>\n",
              "    <tr>\n",
              "      <th>0</th>\n",
              "      <td>80</td>\n",
              "      <td>26.0</td>\n",
              "      <td>2008-08-01T13:57:07Z</td>\n",
              "      <td>26</td>\n",
              "      <td>SQLStatement.execute() - multiple queries in o...</td>\n",
              "      <td>&lt;p&gt;I've written a database generation script i...</td>\n",
              "      <td>124.0</td>\n",
              "      <td>26.0</td>\n",
              "      <td>2008-08-01T16:09:47Z</td>\n",
              "      <td>12.0</td>\n",
              "      <td>&lt;p&gt;I wound up using this. It is a kind of a ha...</td>\n",
              "      <td>[flex, actionscript-3, air]</td>\n",
              "      <td>Shawn</td>\n",
              "      <td>2008-08-01 12:18:14.52 UTC</td>\n",
              "    </tr>\n",
              "    <tr>\n",
              "      <th>1</th>\n",
              "      <td>80</td>\n",
              "      <td>26.0</td>\n",
              "      <td>2008-08-01T13:57:07Z</td>\n",
              "      <td>26</td>\n",
              "      <td>SQLStatement.execute() - multiple queries in o...</td>\n",
              "      <td>&lt;p&gt;I've written a database generation script i...</td>\n",
              "      <td>10008.0</td>\n",
              "      <td>1109.0</td>\n",
              "      <td>2008-08-13T16:09:09Z</td>\n",
              "      <td>6.0</td>\n",
              "      <td>&lt;p&gt;The &lt;a href=\"http://en.wikipedia.org/wiki/S...</td>\n",
              "      <td>[flex, actionscript-3, air]</td>\n",
              "      <td>Shawn</td>\n",
              "      <td>2008-08-01 12:18:14.52 UTC</td>\n",
              "    </tr>\n",
              "    <tr>\n",
              "      <th>2</th>\n",
              "      <td>80</td>\n",
              "      <td>26.0</td>\n",
              "      <td>2008-08-01T13:57:07Z</td>\n",
              "      <td>26</td>\n",
              "      <td>SQLStatement.execute() - multiple queries in o...</td>\n",
              "      <td>&lt;p&gt;I've written a database generation script i...</td>\n",
              "      <td>3770976.0</td>\n",
              "      <td>364174.0</td>\n",
              "      <td>2010-09-22T15:37:30Z</td>\n",
              "      <td>1.0</td>\n",
              "      <td>&lt;p&gt;What about making your delimiter something ...</td>\n",
              "      <td>[flex, actionscript-3, air]</td>\n",
              "      <td>Shawn</td>\n",
              "      <td>2008-08-01 12:18:14.52 UTC</td>\n",
              "    </tr>\n",
              "    <tr>\n",
              "      <th>3</th>\n",
              "      <td>90</td>\n",
              "      <td>58.0</td>\n",
              "      <td>2008-08-01T14:41:24Z</td>\n",
              "      <td>144</td>\n",
              "      <td>Good branching and merging tutorials for Torto...</td>\n",
              "      <td>&lt;p&gt;Are there any really good tutorials explain...</td>\n",
              "      <td>92.0</td>\n",
              "      <td>61.0</td>\n",
              "      <td>2008-08-01T14:45:37Z</td>\n",
              "      <td>13.0</td>\n",
              "      <td>&lt;p&gt;&lt;a href=\"http://svnbook.red-bean.com/\"&gt;Vers...</td>\n",
              "      <td>[svn, tortoisesvn, branch, branching-and-merging]</td>\n",
              "      <td>cmcculloh</td>\n",
              "      <td>2008-08-01 13:56:33.807 UTC</td>\n",
              "    </tr>\n",
              "    <tr>\n",
              "      <th>4</th>\n",
              "      <td>90</td>\n",
              "      <td>58.0</td>\n",
              "      <td>2008-08-01T14:41:24Z</td>\n",
              "      <td>144</td>\n",
              "      <td>Good branching and merging tutorials for Torto...</td>\n",
              "      <td>&lt;p&gt;Are there any really good tutorials explain...</td>\n",
              "      <td>202317.0</td>\n",
              "      <td>20709.0</td>\n",
              "      <td>2008-10-14T18:41:45Z</td>\n",
              "      <td>2.0</td>\n",
              "      <td>&lt;p&gt;You can also try &lt;em&gt;&lt;a href=\"http://www.co...</td>\n",
              "      <td>[svn, tortoisesvn, branch, branching-and-merging]</td>\n",
              "      <td>cmcculloh</td>\n",
              "      <td>2008-08-01 13:56:33.807 UTC</td>\n",
              "    </tr>\n",
              "  </tbody>\n",
              "</table>\n",
              "</div>"
            ],
            "text/plain": [
              "   QuestionId  ...     QuestionUserCreationDate\n",
              "0          80  ...   2008-08-01 12:18:14.52 UTC\n",
              "1          80  ...   2008-08-01 12:18:14.52 UTC\n",
              "2          80  ...   2008-08-01 12:18:14.52 UTC\n",
              "3          90  ...  2008-08-01 13:56:33.807 UTC\n",
              "4          90  ...  2008-08-01 13:56:33.807 UTC\n",
              "\n",
              "[5 rows x 14 columns]"
            ]
          },
          "metadata": {
            "tags": []
          },
          "execution_count": 38
        }
      ]
    },
    {
      "cell_type": "code",
      "metadata": {
        "id": "jqxwAvKjZGVt",
        "colab_type": "code",
        "outputId": "65592a8e-f2d2-4ce0-a311-4b51bb297bf0",
        "colab": {
          "base_uri": "https://localhost:8080/",
          "height": 547
        }
      },
      "source": [
        "QuestionAnswerwithTagandUsers = pd.merge(QuestionAnswerwithTagandUser, answerUserds, on='AnswerOwnerUserId', how='left')\n",
        "QuestionAnswerwithTagandUsers.head() "
      ],
      "execution_count": 0,
      "outputs": [
        {
          "output_type": "execute_result",
          "data": {
            "text/html": [
              "<div>\n",
              "<style scoped>\n",
              "    .dataframe tbody tr th:only-of-type {\n",
              "        vertical-align: middle;\n",
              "    }\n",
              "\n",
              "    .dataframe tbody tr th {\n",
              "        vertical-align: top;\n",
              "    }\n",
              "\n",
              "    .dataframe thead th {\n",
              "        text-align: right;\n",
              "    }\n",
              "</style>\n",
              "<table border=\"1\" class=\"dataframe\">\n",
              "  <thead>\n",
              "    <tr style=\"text-align: right;\">\n",
              "      <th></th>\n",
              "      <th>QuestionId</th>\n",
              "      <th>QuestionOwnerUserId</th>\n",
              "      <th>QuestionCreationDate</th>\n",
              "      <th>QuestionScore</th>\n",
              "      <th>Title</th>\n",
              "      <th>QuestionBody</th>\n",
              "      <th>AnswerId</th>\n",
              "      <th>AnswerOwnerUserId</th>\n",
              "      <th>AnswerCreationDate</th>\n",
              "      <th>AnswerScore</th>\n",
              "      <th>AnswerBody</th>\n",
              "      <th>Tag</th>\n",
              "      <th>QuestionUserDisplayName</th>\n",
              "      <th>QuestionUserCreationDate</th>\n",
              "      <th>AnswerUserDisplayName</th>\n",
              "      <th>AnswerUserCreationDate</th>\n",
              "      <th>AnswerUserLastAccessDate</th>\n",
              "      <th>AnswerUserReputation</th>\n",
              "      <th>AnswerUserUpVotes</th>\n",
              "      <th>AnswerUserDownVotes</th>\n",
              "      <th>AnswerUserViews</th>\n",
              "    </tr>\n",
              "  </thead>\n",
              "  <tbody>\n",
              "    <tr>\n",
              "      <th>0</th>\n",
              "      <td>80</td>\n",
              "      <td>26.0</td>\n",
              "      <td>2008-08-01T13:57:07Z</td>\n",
              "      <td>26</td>\n",
              "      <td>SQLStatement.execute() - multiple queries in o...</td>\n",
              "      <td>&lt;p&gt;I've written a database generation script i...</td>\n",
              "      <td>124.0</td>\n",
              "      <td>26.0</td>\n",
              "      <td>2008-08-01T16:09:47Z</td>\n",
              "      <td>12.0</td>\n",
              "      <td>&lt;p&gt;I wound up using this. It is a kind of a ha...</td>\n",
              "      <td>[flex, actionscript-3, air]</td>\n",
              "      <td>Shawn</td>\n",
              "      <td>2008-08-01 12:18:14.52 UTC</td>\n",
              "      <td>Shawn</td>\n",
              "      <td>2008-08-01 12:18:14.52 UTC</td>\n",
              "      <td>2018-04-11 04:40:35.66 UTC</td>\n",
              "      <td>11820.0</td>\n",
              "      <td>565.0</td>\n",
              "      <td>67.0</td>\n",
              "      <td>3547.0</td>\n",
              "    </tr>\n",
              "    <tr>\n",
              "      <th>1</th>\n",
              "      <td>80</td>\n",
              "      <td>26.0</td>\n",
              "      <td>2008-08-01T13:57:07Z</td>\n",
              "      <td>26</td>\n",
              "      <td>SQLStatement.execute() - multiple queries in o...</td>\n",
              "      <td>&lt;p&gt;I've written a database generation script i...</td>\n",
              "      <td>10008.0</td>\n",
              "      <td>1109.0</td>\n",
              "      <td>2008-08-13T16:09:09Z</td>\n",
              "      <td>6.0</td>\n",
              "      <td>&lt;p&gt;The &lt;a href=\"http://en.wikipedia.org/wiki/S...</td>\n",
              "      <td>[flex, actionscript-3, air]</td>\n",
              "      <td>Shawn</td>\n",
              "      <td>2008-08-01 12:18:14.52 UTC</td>\n",
              "      <td>Theo</td>\n",
              "      <td>2008-08-12 12:16:58.61 UTC</td>\n",
              "      <td>2019-08-31 11:39:52.28 UTC</td>\n",
              "      <td>116072.0</td>\n",
              "      <td>457.0</td>\n",
              "      <td>136.0</td>\n",
              "      <td>6905.0</td>\n",
              "    </tr>\n",
              "    <tr>\n",
              "      <th>2</th>\n",
              "      <td>80</td>\n",
              "      <td>26.0</td>\n",
              "      <td>2008-08-01T13:57:07Z</td>\n",
              "      <td>26</td>\n",
              "      <td>SQLStatement.execute() - multiple queries in o...</td>\n",
              "      <td>&lt;p&gt;I've written a database generation script i...</td>\n",
              "      <td>3770976.0</td>\n",
              "      <td>364174.0</td>\n",
              "      <td>2010-09-22T15:37:30Z</td>\n",
              "      <td>1.0</td>\n",
              "      <td>&lt;p&gt;What about making your delimiter something ...</td>\n",
              "      <td>[flex, actionscript-3, air]</td>\n",
              "      <td>Shawn</td>\n",
              "      <td>2008-08-01 12:18:14.52 UTC</td>\n",
              "      <td>stats</td>\n",
              "      <td>2010-06-11 03:34:57.137 UTC</td>\n",
              "      <td>2019-08-29 18:37:35.027 UTC</td>\n",
              "      <td>325.0</td>\n",
              "      <td>25.0</td>\n",
              "      <td>1.0</td>\n",
              "      <td>60.0</td>\n",
              "    </tr>\n",
              "    <tr>\n",
              "      <th>3</th>\n",
              "      <td>90</td>\n",
              "      <td>58.0</td>\n",
              "      <td>2008-08-01T14:41:24Z</td>\n",
              "      <td>144</td>\n",
              "      <td>Good branching and merging tutorials for Torto...</td>\n",
              "      <td>&lt;p&gt;Are there any really good tutorials explain...</td>\n",
              "      <td>92.0</td>\n",
              "      <td>61.0</td>\n",
              "      <td>2008-08-01T14:45:37Z</td>\n",
              "      <td>13.0</td>\n",
              "      <td>&lt;p&gt;&lt;a href=\"http://svnbook.red-bean.com/\"&gt;Vers...</td>\n",
              "      <td>[svn, tortoisesvn, branch, branching-and-merging]</td>\n",
              "      <td>cmcculloh</td>\n",
              "      <td>2008-08-01 13:56:33.807 UTC</td>\n",
              "      <td>Bernard</td>\n",
              "      <td>2008-08-01 14:21:00.573 UTC</td>\n",
              "      <td>2019-08-30 07:11:58.297 UTC</td>\n",
              "      <td>22779.0</td>\n",
              "      <td>1321.0</td>\n",
              "      <td>219.0</td>\n",
              "      <td>1731.0</td>\n",
              "    </tr>\n",
              "    <tr>\n",
              "      <th>4</th>\n",
              "      <td>90</td>\n",
              "      <td>58.0</td>\n",
              "      <td>2008-08-01T14:41:24Z</td>\n",
              "      <td>144</td>\n",
              "      <td>Good branching and merging tutorials for Torto...</td>\n",
              "      <td>&lt;p&gt;Are there any really good tutorials explain...</td>\n",
              "      <td>202317.0</td>\n",
              "      <td>20709.0</td>\n",
              "      <td>2008-10-14T18:41:45Z</td>\n",
              "      <td>2.0</td>\n",
              "      <td>&lt;p&gt;You can also try &lt;em&gt;&lt;a href=\"http://www.co...</td>\n",
              "      <td>[svn, tortoisesvn, branch, branching-and-merging]</td>\n",
              "      <td>cmcculloh</td>\n",
              "      <td>2008-08-01 13:56:33.807 UTC</td>\n",
              "      <td>Black Horus</td>\n",
              "      <td>2008-09-22 20:03:39.71 UTC</td>\n",
              "      <td>2019-09-01 01:17:38.133 UTC</td>\n",
              "      <td>978.0</td>\n",
              "      <td>73.0</td>\n",
              "      <td>2.0</td>\n",
              "      <td>96.0</td>\n",
              "    </tr>\n",
              "  </tbody>\n",
              "</table>\n",
              "</div>"
            ],
            "text/plain": [
              "   QuestionId  QuestionOwnerUserId  ... AnswerUserDownVotes  AnswerUserViews\n",
              "0          80                 26.0  ...                67.0           3547.0\n",
              "1          80                 26.0  ...               136.0           6905.0\n",
              "2          80                 26.0  ...                 1.0             60.0\n",
              "3          90                 58.0  ...               219.0           1731.0\n",
              "4          90                 58.0  ...                 2.0             96.0\n",
              "\n",
              "[5 rows x 21 columns]"
            ]
          },
          "metadata": {
            "tags": []
          },
          "execution_count": 39
        }
      ]
    },
    {
      "cell_type": "code",
      "metadata": {
        "id": "BM1hZ_LXZgtF",
        "colab_type": "code",
        "outputId": "a9a784f9-d671-4913-f438-96421a4ab2ea",
        "colab": {
          "base_uri": "https://localhost:8080/",
          "height": 547
        }
      },
      "source": [
        "QuestionAnswerwithTagandUsers.sort_values(\"QuestionId\", inplace = True)\n",
        "QuestionAnswerwithTagandUsers.head()"
      ],
      "execution_count": 0,
      "outputs": [
        {
          "output_type": "execute_result",
          "data": {
            "text/html": [
              "<div>\n",
              "<style scoped>\n",
              "    .dataframe tbody tr th:only-of-type {\n",
              "        vertical-align: middle;\n",
              "    }\n",
              "\n",
              "    .dataframe tbody tr th {\n",
              "        vertical-align: top;\n",
              "    }\n",
              "\n",
              "    .dataframe thead th {\n",
              "        text-align: right;\n",
              "    }\n",
              "</style>\n",
              "<table border=\"1\" class=\"dataframe\">\n",
              "  <thead>\n",
              "    <tr style=\"text-align: right;\">\n",
              "      <th></th>\n",
              "      <th>QuestionId</th>\n",
              "      <th>QuestionOwnerUserId</th>\n",
              "      <th>QuestionCreationDate</th>\n",
              "      <th>QuestionScore</th>\n",
              "      <th>Title</th>\n",
              "      <th>QuestionBody</th>\n",
              "      <th>AnswerId</th>\n",
              "      <th>AnswerOwnerUserId</th>\n",
              "      <th>AnswerCreationDate</th>\n",
              "      <th>AnswerScore</th>\n",
              "      <th>AnswerBody</th>\n",
              "      <th>Tag</th>\n",
              "      <th>QuestionUserDisplayName</th>\n",
              "      <th>QuestionUserCreationDate</th>\n",
              "      <th>AnswerUserDisplayName</th>\n",
              "      <th>AnswerUserCreationDate</th>\n",
              "      <th>AnswerUserLastAccessDate</th>\n",
              "      <th>AnswerUserReputation</th>\n",
              "      <th>AnswerUserUpVotes</th>\n",
              "      <th>AnswerUserDownVotes</th>\n",
              "      <th>AnswerUserViews</th>\n",
              "    </tr>\n",
              "  </thead>\n",
              "  <tbody>\n",
              "    <tr>\n",
              "      <th>0</th>\n",
              "      <td>80</td>\n",
              "      <td>26.0</td>\n",
              "      <td>2008-08-01T13:57:07Z</td>\n",
              "      <td>26</td>\n",
              "      <td>SQLStatement.execute() - multiple queries in o...</td>\n",
              "      <td>&lt;p&gt;I've written a database generation script i...</td>\n",
              "      <td>124.0</td>\n",
              "      <td>26.0</td>\n",
              "      <td>2008-08-01T16:09:47Z</td>\n",
              "      <td>12.0</td>\n",
              "      <td>&lt;p&gt;I wound up using this. It is a kind of a ha...</td>\n",
              "      <td>[flex, actionscript-3, air]</td>\n",
              "      <td>Shawn</td>\n",
              "      <td>2008-08-01 12:18:14.52 UTC</td>\n",
              "      <td>Shawn</td>\n",
              "      <td>2008-08-01 12:18:14.52 UTC</td>\n",
              "      <td>2018-04-11 04:40:35.66 UTC</td>\n",
              "      <td>11820.0</td>\n",
              "      <td>565.0</td>\n",
              "      <td>67.0</td>\n",
              "      <td>3547.0</td>\n",
              "    </tr>\n",
              "    <tr>\n",
              "      <th>1</th>\n",
              "      <td>80</td>\n",
              "      <td>26.0</td>\n",
              "      <td>2008-08-01T13:57:07Z</td>\n",
              "      <td>26</td>\n",
              "      <td>SQLStatement.execute() - multiple queries in o...</td>\n",
              "      <td>&lt;p&gt;I've written a database generation script i...</td>\n",
              "      <td>10008.0</td>\n",
              "      <td>1109.0</td>\n",
              "      <td>2008-08-13T16:09:09Z</td>\n",
              "      <td>6.0</td>\n",
              "      <td>&lt;p&gt;The &lt;a href=\"http://en.wikipedia.org/wiki/S...</td>\n",
              "      <td>[flex, actionscript-3, air]</td>\n",
              "      <td>Shawn</td>\n",
              "      <td>2008-08-01 12:18:14.52 UTC</td>\n",
              "      <td>Theo</td>\n",
              "      <td>2008-08-12 12:16:58.61 UTC</td>\n",
              "      <td>2019-08-31 11:39:52.28 UTC</td>\n",
              "      <td>116072.0</td>\n",
              "      <td>457.0</td>\n",
              "      <td>136.0</td>\n",
              "      <td>6905.0</td>\n",
              "    </tr>\n",
              "    <tr>\n",
              "      <th>2</th>\n",
              "      <td>80</td>\n",
              "      <td>26.0</td>\n",
              "      <td>2008-08-01T13:57:07Z</td>\n",
              "      <td>26</td>\n",
              "      <td>SQLStatement.execute() - multiple queries in o...</td>\n",
              "      <td>&lt;p&gt;I've written a database generation script i...</td>\n",
              "      <td>3770976.0</td>\n",
              "      <td>364174.0</td>\n",
              "      <td>2010-09-22T15:37:30Z</td>\n",
              "      <td>1.0</td>\n",
              "      <td>&lt;p&gt;What about making your delimiter something ...</td>\n",
              "      <td>[flex, actionscript-3, air]</td>\n",
              "      <td>Shawn</td>\n",
              "      <td>2008-08-01 12:18:14.52 UTC</td>\n",
              "      <td>stats</td>\n",
              "      <td>2010-06-11 03:34:57.137 UTC</td>\n",
              "      <td>2019-08-29 18:37:35.027 UTC</td>\n",
              "      <td>325.0</td>\n",
              "      <td>25.0</td>\n",
              "      <td>1.0</td>\n",
              "      <td>60.0</td>\n",
              "    </tr>\n",
              "    <tr>\n",
              "      <th>3</th>\n",
              "      <td>90</td>\n",
              "      <td>58.0</td>\n",
              "      <td>2008-08-01T14:41:24Z</td>\n",
              "      <td>144</td>\n",
              "      <td>Good branching and merging tutorials for Torto...</td>\n",
              "      <td>&lt;p&gt;Are there any really good tutorials explain...</td>\n",
              "      <td>92.0</td>\n",
              "      <td>61.0</td>\n",
              "      <td>2008-08-01T14:45:37Z</td>\n",
              "      <td>13.0</td>\n",
              "      <td>&lt;p&gt;&lt;a href=\"http://svnbook.red-bean.com/\"&gt;Vers...</td>\n",
              "      <td>[svn, tortoisesvn, branch, branching-and-merging]</td>\n",
              "      <td>cmcculloh</td>\n",
              "      <td>2008-08-01 13:56:33.807 UTC</td>\n",
              "      <td>Bernard</td>\n",
              "      <td>2008-08-01 14:21:00.573 UTC</td>\n",
              "      <td>2019-08-30 07:11:58.297 UTC</td>\n",
              "      <td>22779.0</td>\n",
              "      <td>1321.0</td>\n",
              "      <td>219.0</td>\n",
              "      <td>1731.0</td>\n",
              "    </tr>\n",
              "    <tr>\n",
              "      <th>4</th>\n",
              "      <td>90</td>\n",
              "      <td>58.0</td>\n",
              "      <td>2008-08-01T14:41:24Z</td>\n",
              "      <td>144</td>\n",
              "      <td>Good branching and merging tutorials for Torto...</td>\n",
              "      <td>&lt;p&gt;Are there any really good tutorials explain...</td>\n",
              "      <td>202317.0</td>\n",
              "      <td>20709.0</td>\n",
              "      <td>2008-10-14T18:41:45Z</td>\n",
              "      <td>2.0</td>\n",
              "      <td>&lt;p&gt;You can also try &lt;em&gt;&lt;a href=\"http://www.co...</td>\n",
              "      <td>[svn, tortoisesvn, branch, branching-and-merging]</td>\n",
              "      <td>cmcculloh</td>\n",
              "      <td>2008-08-01 13:56:33.807 UTC</td>\n",
              "      <td>Black Horus</td>\n",
              "      <td>2008-09-22 20:03:39.71 UTC</td>\n",
              "      <td>2019-09-01 01:17:38.133 UTC</td>\n",
              "      <td>978.0</td>\n",
              "      <td>73.0</td>\n",
              "      <td>2.0</td>\n",
              "      <td>96.0</td>\n",
              "    </tr>\n",
              "  </tbody>\n",
              "</table>\n",
              "</div>"
            ],
            "text/plain": [
              "   QuestionId  QuestionOwnerUserId  ... AnswerUserDownVotes  AnswerUserViews\n",
              "0          80                 26.0  ...                67.0           3547.0\n",
              "1          80                 26.0  ...               136.0           6905.0\n",
              "2          80                 26.0  ...                 1.0             60.0\n",
              "3          90                 58.0  ...               219.0           1731.0\n",
              "4          90                 58.0  ...                 2.0             96.0\n",
              "\n",
              "[5 rows x 21 columns]"
            ]
          },
          "metadata": {
            "tags": []
          },
          "execution_count": 40
        }
      ]
    },
    {
      "cell_type": "code",
      "metadata": {
        "id": "z84zOfQE6pMR",
        "colab_type": "code",
        "outputId": "7bc0d2e3-d17d-4b63-8cfc-4142d973e06b",
        "colab": {
          "base_uri": "https://localhost:8080/",
          "height": 34
        }
      },
      "source": [
        "type(QuestionAnswerwithTagandUsers.QuestionCreationDate[0])"
      ],
      "execution_count": 0,
      "outputs": [
        {
          "output_type": "execute_result",
          "data": {
            "text/plain": [
              "str"
            ]
          },
          "metadata": {
            "tags": []
          },
          "execution_count": 41
        }
      ]
    },
    {
      "cell_type": "code",
      "metadata": {
        "id": "K6eFC19bFE0k",
        "colab_type": "code",
        "outputId": "743ff914-8cf9-4d64-807d-0a2443d47748",
        "colab": {
          "base_uri": "https://localhost:8080/",
          "height": 34
        }
      },
      "source": [
        "QuestionAnswerwithTagandUsers.shape"
      ],
      "execution_count": 0,
      "outputs": [
        {
          "output_type": "execute_result",
          "data": {
            "text/plain": [
              "(2176164, 21)"
            ]
          },
          "metadata": {
            "tags": []
          },
          "execution_count": 42
        }
      ]
    },
    {
      "cell_type": "code",
      "metadata": {
        "id": "o4wcac62FYoD",
        "colab_type": "code",
        "outputId": "e5c848c4-cc27-4bc6-b8e0-fac3f72668f8",
        "colab": {
          "base_uri": "https://localhost:8080/",
          "height": 468
        }
      },
      "source": [
        "CheckOneData = QuestionAnswerwithTagandUsers[QuestionAnswerwithTagandUsers.QuestionId == 90]\n",
        "CheckOneData"
      ],
      "execution_count": 0,
      "outputs": [
        {
          "output_type": "execute_result",
          "data": {
            "text/html": [
              "<div>\n",
              "<style scoped>\n",
              "    .dataframe tbody tr th:only-of-type {\n",
              "        vertical-align: middle;\n",
              "    }\n",
              "\n",
              "    .dataframe tbody tr th {\n",
              "        vertical-align: top;\n",
              "    }\n",
              "\n",
              "    .dataframe thead th {\n",
              "        text-align: right;\n",
              "    }\n",
              "</style>\n",
              "<table border=\"1\" class=\"dataframe\">\n",
              "  <thead>\n",
              "    <tr style=\"text-align: right;\">\n",
              "      <th></th>\n",
              "      <th>QuestionId</th>\n",
              "      <th>QuestionOwnerUserId</th>\n",
              "      <th>QuestionCreationDate</th>\n",
              "      <th>QuestionScore</th>\n",
              "      <th>Title</th>\n",
              "      <th>QuestionBody</th>\n",
              "      <th>AnswerId</th>\n",
              "      <th>AnswerOwnerUserId</th>\n",
              "      <th>AnswerCreationDate</th>\n",
              "      <th>AnswerScore</th>\n",
              "      <th>AnswerBody</th>\n",
              "      <th>Tag</th>\n",
              "      <th>QuestionUserDisplayName</th>\n",
              "      <th>QuestionUserCreationDate</th>\n",
              "      <th>AnswerUserDisplayName</th>\n",
              "      <th>AnswerUserCreationDate</th>\n",
              "      <th>AnswerUserLastAccessDate</th>\n",
              "      <th>AnswerUserReputation</th>\n",
              "      <th>AnswerUserUpVotes</th>\n",
              "      <th>AnswerUserDownVotes</th>\n",
              "      <th>AnswerUserViews</th>\n",
              "    </tr>\n",
              "  </thead>\n",
              "  <tbody>\n",
              "    <tr>\n",
              "      <th>3</th>\n",
              "      <td>90</td>\n",
              "      <td>58.0</td>\n",
              "      <td>2008-08-01T14:41:24Z</td>\n",
              "      <td>144</td>\n",
              "      <td>Good branching and merging tutorials for Torto...</td>\n",
              "      <td>&lt;p&gt;Are there any really good tutorials explain...</td>\n",
              "      <td>92.0</td>\n",
              "      <td>61.0</td>\n",
              "      <td>2008-08-01T14:45:37Z</td>\n",
              "      <td>13.0</td>\n",
              "      <td>&lt;p&gt;&lt;a href=\"http://svnbook.red-bean.com/\"&gt;Vers...</td>\n",
              "      <td>[svn, tortoisesvn, branch, branching-and-merging]</td>\n",
              "      <td>cmcculloh</td>\n",
              "      <td>2008-08-01 13:56:33.807 UTC</td>\n",
              "      <td>Bernard</td>\n",
              "      <td>2008-08-01 14:21:00.573 UTC</td>\n",
              "      <td>2019-08-30 07:11:58.297 UTC</td>\n",
              "      <td>22779.0</td>\n",
              "      <td>1321.0</td>\n",
              "      <td>219.0</td>\n",
              "      <td>1731.0</td>\n",
              "    </tr>\n",
              "    <tr>\n",
              "      <th>4</th>\n",
              "      <td>90</td>\n",
              "      <td>58.0</td>\n",
              "      <td>2008-08-01T14:41:24Z</td>\n",
              "      <td>144</td>\n",
              "      <td>Good branching and merging tutorials for Torto...</td>\n",
              "      <td>&lt;p&gt;Are there any really good tutorials explain...</td>\n",
              "      <td>202317.0</td>\n",
              "      <td>20709.0</td>\n",
              "      <td>2008-10-14T18:41:45Z</td>\n",
              "      <td>2.0</td>\n",
              "      <td>&lt;p&gt;You can also try &lt;em&gt;&lt;a href=\"http://www.co...</td>\n",
              "      <td>[svn, tortoisesvn, branch, branching-and-merging]</td>\n",
              "      <td>cmcculloh</td>\n",
              "      <td>2008-08-01 13:56:33.807 UTC</td>\n",
              "      <td>Black Horus</td>\n",
              "      <td>2008-09-22 20:03:39.71 UTC</td>\n",
              "      <td>2019-09-01 01:17:38.133 UTC</td>\n",
              "      <td>978.0</td>\n",
              "      <td>73.0</td>\n",
              "      <td>2.0</td>\n",
              "      <td>96.0</td>\n",
              "    </tr>\n",
              "    <tr>\n",
              "      <th>5</th>\n",
              "      <td>90</td>\n",
              "      <td>58.0</td>\n",
              "      <td>2008-08-01T14:41:24Z</td>\n",
              "      <td>144</td>\n",
              "      <td>Good branching and merging tutorials for Torto...</td>\n",
              "      <td>&lt;p&gt;Are there any really good tutorials explain...</td>\n",
              "      <td>1466832.0</td>\n",
              "      <td>16012.0</td>\n",
              "      <td>2009-09-23T15:40:46Z</td>\n",
              "      <td>19.0</td>\n",
              "      <td>&lt;p&gt;My easy click-by-click instructions (&lt;stron...</td>\n",
              "      <td>[svn, tortoisesvn, branch, branching-and-merging]</td>\n",
              "      <td>cmcculloh</td>\n",
              "      <td>2008-08-01 13:56:33.807 UTC</td>\n",
              "      <td>JoelFan</td>\n",
              "      <td>2008-09-17 14:05:17.36 UTC</td>\n",
              "      <td>2019-08-25 04:38:51.397 UTC</td>\n",
              "      <td>19888.0</td>\n",
              "      <td>484.0</td>\n",
              "      <td>30.0</td>\n",
              "      <td>1823.0</td>\n",
              "    </tr>\n",
              "  </tbody>\n",
              "</table>\n",
              "</div>"
            ],
            "text/plain": [
              "   QuestionId  QuestionOwnerUserId  ... AnswerUserDownVotes  AnswerUserViews\n",
              "3          90                 58.0  ...               219.0           1731.0\n",
              "4          90                 58.0  ...                 2.0             96.0\n",
              "5          90                 58.0  ...                30.0           1823.0\n",
              "\n",
              "[3 rows x 21 columns]"
            ]
          },
          "metadata": {
            "tags": []
          },
          "execution_count": 43
        }
      ]
    },
    {
      "cell_type": "code",
      "metadata": {
        "id": "8YFDlBcMHdgF",
        "colab_type": "code",
        "outputId": "0a6a4c57-c175-4e4e-91bb-4f89fe3097ca",
        "colab": {
          "base_uri": "https://localhost:8080/",
          "height": 379
        }
      },
      "source": [
        "QuestionAnswerwithTagandUsers.corr()"
      ],
      "execution_count": 0,
      "outputs": [
        {
          "output_type": "execute_result",
          "data": {
            "text/html": [
              "<div>\n",
              "<style scoped>\n",
              "    .dataframe tbody tr th:only-of-type {\n",
              "        vertical-align: middle;\n",
              "    }\n",
              "\n",
              "    .dataframe tbody tr th {\n",
              "        vertical-align: top;\n",
              "    }\n",
              "\n",
              "    .dataframe thead th {\n",
              "        text-align: right;\n",
              "    }\n",
              "</style>\n",
              "<table border=\"1\" class=\"dataframe\">\n",
              "  <thead>\n",
              "    <tr style=\"text-align: right;\">\n",
              "      <th></th>\n",
              "      <th>QuestionId</th>\n",
              "      <th>QuestionOwnerUserId</th>\n",
              "      <th>QuestionScore</th>\n",
              "      <th>AnswerId</th>\n",
              "      <th>AnswerOwnerUserId</th>\n",
              "      <th>AnswerScore</th>\n",
              "      <th>AnswerUserReputation</th>\n",
              "      <th>AnswerUserUpVotes</th>\n",
              "      <th>AnswerUserDownVotes</th>\n",
              "      <th>AnswerUserViews</th>\n",
              "    </tr>\n",
              "  </thead>\n",
              "  <tbody>\n",
              "    <tr>\n",
              "      <th>QuestionId</th>\n",
              "      <td>1.000000</td>\n",
              "      <td>0.747525</td>\n",
              "      <td>-0.116177</td>\n",
              "      <td>0.936482</td>\n",
              "      <td>0.594112</td>\n",
              "      <td>-0.083845</td>\n",
              "      <td>-0.081908</td>\n",
              "      <td>-0.045219</td>\n",
              "      <td>0.015171</td>\n",
              "      <td>-0.040848</td>\n",
              "    </tr>\n",
              "    <tr>\n",
              "      <th>QuestionOwnerUserId</th>\n",
              "      <td>0.747525</td>\n",
              "      <td>1.000000</td>\n",
              "      <td>-0.089346</td>\n",
              "      <td>0.702515</td>\n",
              "      <td>0.527476</td>\n",
              "      <td>-0.071440</td>\n",
              "      <td>-0.068630</td>\n",
              "      <td>-0.040222</td>\n",
              "      <td>0.011904</td>\n",
              "      <td>-0.032789</td>\n",
              "    </tr>\n",
              "    <tr>\n",
              "      <th>QuestionScore</th>\n",
              "      <td>-0.116177</td>\n",
              "      <td>-0.089346</td>\n",
              "      <td>1.000000</td>\n",
              "      <td>-0.045234</td>\n",
              "      <td>-0.028707</td>\n",
              "      <td>0.297210</td>\n",
              "      <td>-0.005413</td>\n",
              "      <td>-0.006156</td>\n",
              "      <td>-0.011273</td>\n",
              "      <td>-0.001012</td>\n",
              "    </tr>\n",
              "    <tr>\n",
              "      <th>AnswerId</th>\n",
              "      <td>0.936482</td>\n",
              "      <td>0.702515</td>\n",
              "      <td>-0.045234</td>\n",
              "      <td>1.000000</td>\n",
              "      <td>0.643907</td>\n",
              "      <td>-0.082733</td>\n",
              "      <td>-0.111407</td>\n",
              "      <td>-0.070814</td>\n",
              "      <td>-0.000755</td>\n",
              "      <td>-0.050732</td>\n",
              "    </tr>\n",
              "    <tr>\n",
              "      <th>AnswerOwnerUserId</th>\n",
              "      <td>0.594112</td>\n",
              "      <td>0.527476</td>\n",
              "      <td>-0.028707</td>\n",
              "      <td>0.643907</td>\n",
              "      <td>1.000000</td>\n",
              "      <td>-0.065165</td>\n",
              "      <td>-0.226894</td>\n",
              "      <td>-0.208628</td>\n",
              "      <td>-0.084080</td>\n",
              "      <td>-0.087569</td>\n",
              "    </tr>\n",
              "    <tr>\n",
              "      <th>AnswerScore</th>\n",
              "      <td>-0.083845</td>\n",
              "      <td>-0.071440</td>\n",
              "      <td>0.297210</td>\n",
              "      <td>-0.082733</td>\n",
              "      <td>-0.065165</td>\n",
              "      <td>1.000000</td>\n",
              "      <td>0.047050</td>\n",
              "      <td>0.028631</td>\n",
              "      <td>0.008794</td>\n",
              "      <td>0.025643</td>\n",
              "    </tr>\n",
              "    <tr>\n",
              "      <th>AnswerUserReputation</th>\n",
              "      <td>-0.081908</td>\n",
              "      <td>-0.068630</td>\n",
              "      <td>-0.005413</td>\n",
              "      <td>-0.111407</td>\n",
              "      <td>-0.226894</td>\n",
              "      <td>0.047050</td>\n",
              "      <td>1.000000</td>\n",
              "      <td>0.674891</td>\n",
              "      <td>0.412526</td>\n",
              "      <td>0.607751</td>\n",
              "    </tr>\n",
              "    <tr>\n",
              "      <th>AnswerUserUpVotes</th>\n",
              "      <td>-0.045219</td>\n",
              "      <td>-0.040222</td>\n",
              "      <td>-0.006156</td>\n",
              "      <td>-0.070814</td>\n",
              "      <td>-0.208628</td>\n",
              "      <td>0.028631</td>\n",
              "      <td>0.674891</td>\n",
              "      <td>1.000000</td>\n",
              "      <td>0.324743</td>\n",
              "      <td>0.338565</td>\n",
              "    </tr>\n",
              "    <tr>\n",
              "      <th>AnswerUserDownVotes</th>\n",
              "      <td>0.015171</td>\n",
              "      <td>0.011904</td>\n",
              "      <td>-0.011273</td>\n",
              "      <td>-0.000755</td>\n",
              "      <td>-0.084080</td>\n",
              "      <td>0.008794</td>\n",
              "      <td>0.412526</td>\n",
              "      <td>0.324743</td>\n",
              "      <td>1.000000</td>\n",
              "      <td>0.198074</td>\n",
              "    </tr>\n",
              "    <tr>\n",
              "      <th>AnswerUserViews</th>\n",
              "      <td>-0.040848</td>\n",
              "      <td>-0.032789</td>\n",
              "      <td>-0.001012</td>\n",
              "      <td>-0.050732</td>\n",
              "      <td>-0.087569</td>\n",
              "      <td>0.025643</td>\n",
              "      <td>0.607751</td>\n",
              "      <td>0.338565</td>\n",
              "      <td>0.198074</td>\n",
              "      <td>1.000000</td>\n",
              "    </tr>\n",
              "  </tbody>\n",
              "</table>\n",
              "</div>"
            ],
            "text/plain": [
              "                      QuestionId  ...  AnswerUserViews\n",
              "QuestionId              1.000000  ...        -0.040848\n",
              "QuestionOwnerUserId     0.747525  ...        -0.032789\n",
              "QuestionScore          -0.116177  ...        -0.001012\n",
              "AnswerId                0.936482  ...        -0.050732\n",
              "AnswerOwnerUserId       0.594112  ...        -0.087569\n",
              "AnswerScore            -0.083845  ...         0.025643\n",
              "AnswerUserReputation   -0.081908  ...         0.607751\n",
              "AnswerUserUpVotes      -0.045219  ...         0.338565\n",
              "AnswerUserDownVotes     0.015171  ...         0.198074\n",
              "AnswerUserViews        -0.040848  ...         1.000000\n",
              "\n",
              "[10 rows x 10 columns]"
            ]
          },
          "metadata": {
            "tags": []
          },
          "execution_count": 44
        }
      ]
    },
    {
      "cell_type": "code",
      "metadata": {
        "id": "oQ1hENlGupl2",
        "colab_type": "code",
        "outputId": "a69d5a25-1645-4f63-c059-3e56cae13ab9",
        "colab": {
          "base_uri": "https://localhost:8080/",
          "height": 500
        }
      },
      "source": [
        "plt.figure(figsize=(10,6))\n",
        "sns.heatmap(QuestionAnswerwithTagandUsers.corr(),cmap='Blues',annot=False) "
      ],
      "execution_count": 0,
      "outputs": [
        {
          "output_type": "execute_result",
          "data": {
            "text/plain": [
              "<matplotlib.axes._subplots.AxesSubplot at 0x7fe5c4f31860>"
            ]
          },
          "metadata": {
            "tags": []
          },
          "execution_count": 45
        },
        {
          "output_type": "display_data",
          "data": {
            "image/png": "[encoded data removed]",
            "text/plain": [
              "<Figure size 720x432 with 2 Axes>"
            ]
          },
          "metadata": {
            "tags": [],
            "needs_background": "light"
          }
        }
      ]
    },
    {
      "cell_type": "code",
      "metadata": {
        "id": "BpYcemo3y4st",
        "colab_type": "code",
        "outputId": "385d58a2-1cd0-4e23-969f-b4b66c1cce5a",
        "colab": {
          "base_uri": "https://localhost:8080/",
          "height": 289
        }
      },
      "source": [
        "QuestionandTag = pd.merge(questionsds, tagsds, on='QuestionId', how='left')\n",
        "QuestionandTag.head()"
      ],
      "execution_count": 0,
      "outputs": [
        {
          "output_type": "execute_result",
          "data": {
            "text/html": [
              "<div>\n",
              "<style scoped>\n",
              "    .dataframe tbody tr th:only-of-type {\n",
              "        vertical-align: middle;\n",
              "    }\n",
              "\n",
              "    .dataframe tbody tr th {\n",
              "        vertical-align: top;\n",
              "    }\n",
              "\n",
              "    .dataframe thead th {\n",
              "        text-align: right;\n",
              "    }\n",
              "</style>\n",
              "<table border=\"1\" class=\"dataframe\">\n",
              "  <thead>\n",
              "    <tr style=\"text-align: right;\">\n",
              "      <th></th>\n",
              "      <th>QuestionId</th>\n",
              "      <th>QuestionOwnerUserId</th>\n",
              "      <th>QuestionCreationDate</th>\n",
              "      <th>QuestionScore</th>\n",
              "      <th>Title</th>\n",
              "      <th>QuestionBody</th>\n",
              "      <th>Tag</th>\n",
              "    </tr>\n",
              "  </thead>\n",
              "  <tbody>\n",
              "    <tr>\n",
              "      <th>0</th>\n",
              "      <td>80</td>\n",
              "      <td>26.0</td>\n",
              "      <td>2008-08-01T13:57:07Z</td>\n",
              "      <td>26</td>\n",
              "      <td>SQLStatement.execute() - multiple queries in o...</td>\n",
              "      <td>&lt;p&gt;I've written a database generation script i...</td>\n",
              "      <td>flex</td>\n",
              "    </tr>\n",
              "    <tr>\n",
              "      <th>1</th>\n",
              "      <td>80</td>\n",
              "      <td>26.0</td>\n",
              "      <td>2008-08-01T13:57:07Z</td>\n",
              "      <td>26</td>\n",
              "      <td>SQLStatement.execute() - multiple queries in o...</td>\n",
              "      <td>&lt;p&gt;I've written a database generation script i...</td>\n",
              "      <td>actionscript-3</td>\n",
              "    </tr>\n",
              "    <tr>\n",
              "      <th>2</th>\n",
              "      <td>80</td>\n",
              "      <td>26.0</td>\n",
              "      <td>2008-08-01T13:57:07Z</td>\n",
              "      <td>26</td>\n",
              "      <td>SQLStatement.execute() - multiple queries in o...</td>\n",
              "      <td>&lt;p&gt;I've written a database generation script i...</td>\n",
              "      <td>air</td>\n",
              "    </tr>\n",
              "    <tr>\n",
              "      <th>3</th>\n",
              "      <td>90</td>\n",
              "      <td>58.0</td>\n",
              "      <td>2008-08-01T14:41:24Z</td>\n",
              "      <td>144</td>\n",
              "      <td>Good branching and merging tutorials for Torto...</td>\n",
              "      <td>&lt;p&gt;Are there any really good tutorials explain...</td>\n",
              "      <td>svn</td>\n",
              "    </tr>\n",
              "    <tr>\n",
              "      <th>4</th>\n",
              "      <td>90</td>\n",
              "      <td>58.0</td>\n",
              "      <td>2008-08-01T14:41:24Z</td>\n",
              "      <td>144</td>\n",
              "      <td>Good branching and merging tutorials for Torto...</td>\n",
              "      <td>&lt;p&gt;Are there any really good tutorials explain...</td>\n",
              "      <td>tortoisesvn</td>\n",
              "    </tr>\n",
              "  </tbody>\n",
              "</table>\n",
              "</div>"
            ],
            "text/plain": [
              "   QuestionId  ...             Tag\n",
              "0          80  ...            flex\n",
              "1          80  ...  actionscript-3\n",
              "2          80  ...             air\n",
              "3          90  ...             svn\n",
              "4          90  ...     tortoisesvn\n",
              "\n",
              "[5 rows x 7 columns]"
            ]
          },
          "metadata": {
            "tags": []
          },
          "execution_count": 46
        }
      ]
    },
    {
      "cell_type": "code",
      "metadata": {
        "id": "po7VJRfqnuv9",
        "colab_type": "code",
        "outputId": "db78bba8-519c-4cc4-8081-6446308b8e50",
        "colab": {
          "base_uri": "https://localhost:8080/",
          "height": 204
        }
      },
      "source": [
        "QuestionandTag.drop(QuestionandTag.columns[[1,2,3,5]], axis =1, inplace= True)\n",
        "QuestionandTag.head()"
      ],
      "execution_count": 0,
      "outputs": [
        {
          "output_type": "execute_result",
          "data": {
            "text/html": [
              "<div>\n",
              "<style scoped>\n",
              "    .dataframe tbody tr th:only-of-type {\n",
              "        vertical-align: middle;\n",
              "    }\n",
              "\n",
              "    .dataframe tbody tr th {\n",
              "        vertical-align: top;\n",
              "    }\n",
              "\n",
              "    .dataframe thead th {\n",
              "        text-align: right;\n",
              "    }\n",
              "</style>\n",
              "<table border=\"1\" class=\"dataframe\">\n",
              "  <thead>\n",
              "    <tr style=\"text-align: right;\">\n",
              "      <th></th>\n",
              "      <th>QuestionId</th>\n",
              "      <th>Title</th>\n",
              "      <th>Tag</th>\n",
              "    </tr>\n",
              "  </thead>\n",
              "  <tbody>\n",
              "    <tr>\n",
              "      <th>0</th>\n",
              "      <td>80</td>\n",
              "      <td>SQLStatement.execute() - multiple queries in o...</td>\n",
              "      <td>flex</td>\n",
              "    </tr>\n",
              "    <tr>\n",
              "      <th>1</th>\n",
              "      <td>80</td>\n",
              "      <td>SQLStatement.execute() - multiple queries in o...</td>\n",
              "      <td>actionscript-3</td>\n",
              "    </tr>\n",
              "    <tr>\n",
              "      <th>2</th>\n",
              "      <td>80</td>\n",
              "      <td>SQLStatement.execute() - multiple queries in o...</td>\n",
              "      <td>air</td>\n",
              "    </tr>\n",
              "    <tr>\n",
              "      <th>3</th>\n",
              "      <td>90</td>\n",
              "      <td>Good branching and merging tutorials for Torto...</td>\n",
              "      <td>svn</td>\n",
              "    </tr>\n",
              "    <tr>\n",
              "      <th>4</th>\n",
              "      <td>90</td>\n",
              "      <td>Good branching and merging tutorials for Torto...</td>\n",
              "      <td>tortoisesvn</td>\n",
              "    </tr>\n",
              "  </tbody>\n",
              "</table>\n",
              "</div>"
            ],
            "text/plain": [
              "   QuestionId  ...             Tag\n",
              "0          80  ...            flex\n",
              "1          80  ...  actionscript-3\n",
              "2          80  ...             air\n",
              "3          90  ...             svn\n",
              "4          90  ...     tortoisesvn\n",
              "\n",
              "[5 rows x 3 columns]"
            ]
          },
          "metadata": {
            "tags": []
          },
          "execution_count": 47
        }
      ]
    },
    {
      "cell_type": "code",
      "metadata": {
        "id": "fe3qf3CRyHBJ",
        "colab_type": "code",
        "outputId": "762297e3-4e7b-49f0-d42f-827387931e13",
        "colab": {
          "base_uri": "https://localhost:8080/",
          "height": 391
        }
      },
      "source": [
        "QuestionAnswerwithTagandUsers.isnull().sum()"
      ],
      "execution_count": 0,
      "outputs": [
        {
          "output_type": "execute_result",
          "data": {
            "text/plain": [
              "QuestionId                        0\n",
              "QuestionOwnerUserId           32423\n",
              "QuestionCreationDate              0\n",
              "QuestionScore                     0\n",
              "Title                             0\n",
              "QuestionBody                      0\n",
              "AnswerId                     161648\n",
              "AnswerOwnerUserId            174848\n",
              "AnswerCreationDate           161648\n",
              "AnswerScore                  161648\n",
              "AnswerBody                   161648\n",
              "Tag                               0\n",
              "QuestionUserDisplayName     1070909\n",
              "QuestionUserCreationDate    1070805\n",
              "AnswerUserDisplayName        185820\n",
              "AnswerUserCreationDate       185684\n",
              "AnswerUserLastAccessDate     185684\n",
              "AnswerUserReputation         185684\n",
              "AnswerUserUpVotes            185684\n",
              "AnswerUserDownVotes          185684\n",
              "AnswerUserViews              185684\n",
              "dtype: int64"
            ]
          },
          "metadata": {
            "tags": []
          },
          "execution_count": 48
        }
      ]
    },
    {
      "cell_type": "code",
      "metadata": {
        "id": "wxPVzDtNzVcx",
        "colab_type": "code",
        "outputId": "1d2b95af-1328-457b-ce0d-96639320822b",
        "colab": {
          "base_uri": "https://localhost:8080/",
          "height": 34
        }
      },
      "source": [
        "missingPercForQuesUDN = (QuestionAnswerwithTagandUsers.QuestionUserDisplayName.isnull().sum()/len(QuestionAnswerwithTagandUsers.QuestionUserDisplayName)) * 100\n",
        "print (missingPercForQuesUDN)"
      ],
      "execution_count": 0,
      "outputs": [
        {
          "output_type": "stream",
          "text": [
            "49.21085910804516\n"
          ],
          "name": "stdout"
        }
      ]
    },
    {
      "cell_type": "code",
      "metadata": {
        "id": "eB2dpJsUB4wX",
        "colab_type": "code",
        "outputId": "a19ab969-ff34-4b32-80a1-fa7dee8af396",
        "colab": {
          "base_uri": "https://localhost:8080/",
          "height": 34
        }
      },
      "source": [
        "missingPercForANsUCD = (QuestionAnswerwithTagandUsers.AnswerUserCreationDate.isnull().sum()/len(QuestionAnswerwithTagandUsers.AnswerUserCreationDate)) * 100\n",
        "print (missingPercForANsUCD)"
      ],
      "execution_count": 0,
      "outputs": [
        {
          "output_type": "stream",
          "text": [
            "8.532628974654484\n"
          ],
          "name": "stdout"
        }
      ]
    },
    {
      "cell_type": "code",
      "metadata": {
        "id": "gflm2knBAuB8",
        "colab_type": "code",
        "outputId": "2f70cd4d-6476-468b-b6f4-01aeff625846",
        "colab": {
          "base_uri": "https://localhost:8080/",
          "height": 547
        }
      },
      "source": [
        "QuestionAnswerwithTagandUsers.drop(['QuestionUserDisplayName','QuestionUserCreationDate'], axis =1, inplace= True)\n",
        "QuestionAnswerwithTagandUsers.head()"
      ],
      "execution_count": 0,
      "outputs": [
        {
          "output_type": "execute_result",
          "data": {
            "text/html": [
              "<div>\n",
              "<style scoped>\n",
              "    .dataframe tbody tr th:only-of-type {\n",
              "        vertical-align: middle;\n",
              "    }\n",
              "\n",
              "    .dataframe tbody tr th {\n",
              "        vertical-align: top;\n",
              "    }\n",
              "\n",
              "    .dataframe thead th {\n",
              "        text-align: right;\n",
              "    }\n",
              "</style>\n",
              "<table border=\"1\" class=\"dataframe\">\n",
              "  <thead>\n",
              "    <tr style=\"text-align: right;\">\n",
              "      <th></th>\n",
              "      <th>QuestionId</th>\n",
              "      <th>QuestionOwnerUserId</th>\n",
              "      <th>QuestionCreationDate</th>\n",
              "      <th>QuestionScore</th>\n",
              "      <th>Title</th>\n",
              "      <th>QuestionBody</th>\n",
              "      <th>AnswerId</th>\n",
              "      <th>AnswerOwnerUserId</th>\n",
              "      <th>AnswerCreationDate</th>\n",
              "      <th>AnswerScore</th>\n",
              "      <th>AnswerBody</th>\n",
              "      <th>Tag</th>\n",
              "      <th>AnswerUserDisplayName</th>\n",
              "      <th>AnswerUserCreationDate</th>\n",
              "      <th>AnswerUserLastAccessDate</th>\n",
              "      <th>AnswerUserReputation</th>\n",
              "      <th>AnswerUserUpVotes</th>\n",
              "      <th>AnswerUserDownVotes</th>\n",
              "      <th>AnswerUserViews</th>\n",
              "    </tr>\n",
              "  </thead>\n",
              "  <tbody>\n",
              "    <tr>\n",
              "      <th>0</th>\n",
              "      <td>80</td>\n",
              "      <td>26.0</td>\n",
              "      <td>2008-08-01T13:57:07Z</td>\n",
              "      <td>26</td>\n",
              "      <td>SQLStatement.execute() - multiple queries in o...</td>\n",
              "      <td>&lt;p&gt;I've written a database generation script i...</td>\n",
              "      <td>124.0</td>\n",
              "      <td>26.0</td>\n",
              "      <td>2008-08-01T16:09:47Z</td>\n",
              "      <td>12.0</td>\n",
              "      <td>&lt;p&gt;I wound up using this. It is a kind of a ha...</td>\n",
              "      <td>[flex, actionscript-3, air]</td>\n",
              "      <td>Shawn</td>\n",
              "      <td>2008-08-01 12:18:14.52 UTC</td>\n",
              "      <td>2018-04-11 04:40:35.66 UTC</td>\n",
              "      <td>11820.0</td>\n",
              "      <td>565.0</td>\n",
              "      <td>67.0</td>\n",
              "      <td>3547.0</td>\n",
              "    </tr>\n",
              "    <tr>\n",
              "      <th>1</th>\n",
              "      <td>80</td>\n",
              "      <td>26.0</td>\n",
              "      <td>2008-08-01T13:57:07Z</td>\n",
              "      <td>26</td>\n",
              "      <td>SQLStatement.execute() - multiple queries in o...</td>\n",
              "      <td>&lt;p&gt;I've written a database generation script i...</td>\n",
              "      <td>10008.0</td>\n",
              "      <td>1109.0</td>\n",
              "      <td>2008-08-13T16:09:09Z</td>\n",
              "      <td>6.0</td>\n",
              "      <td>&lt;p&gt;The &lt;a href=\"http://en.wikipedia.org/wiki/S...</td>\n",
              "      <td>[flex, actionscript-3, air]</td>\n",
              "      <td>Theo</td>\n",
              "      <td>2008-08-12 12:16:58.61 UTC</td>\n",
              "      <td>2019-08-31 11:39:52.28 UTC</td>\n",
              "      <td>116072.0</td>\n",
              "      <td>457.0</td>\n",
              "      <td>136.0</td>\n",
              "      <td>6905.0</td>\n",
              "    </tr>\n",
              "    <tr>\n",
              "      <th>2</th>\n",
              "      <td>80</td>\n",
              "      <td>26.0</td>\n",
              "      <td>2008-08-01T13:57:07Z</td>\n",
              "      <td>26</td>\n",
              "      <td>SQLStatement.execute() - multiple queries in o...</td>\n",
              "      <td>&lt;p&gt;I've written a database generation script i...</td>\n",
              "      <td>3770976.0</td>\n",
              "      <td>364174.0</td>\n",
              "      <td>2010-09-22T15:37:30Z</td>\n",
              "      <td>1.0</td>\n",
              "      <td>&lt;p&gt;What about making your delimiter something ...</td>\n",
              "      <td>[flex, actionscript-3, air]</td>\n",
              "      <td>stats</td>\n",
              "      <td>2010-06-11 03:34:57.137 UTC</td>\n",
              "      <td>2019-08-29 18:37:35.027 UTC</td>\n",
              "      <td>325.0</td>\n",
              "      <td>25.0</td>\n",
              "      <td>1.0</td>\n",
              "      <td>60.0</td>\n",
              "    </tr>\n",
              "    <tr>\n",
              "      <th>3</th>\n",
              "      <td>90</td>\n",
              "      <td>58.0</td>\n",
              "      <td>2008-08-01T14:41:24Z</td>\n",
              "      <td>144</td>\n",
              "      <td>Good branching and merging tutorials for Torto...</td>\n",
              "      <td>&lt;p&gt;Are there any really good tutorials explain...</td>\n",
              "      <td>92.0</td>\n",
              "      <td>61.0</td>\n",
              "      <td>2008-08-01T14:45:37Z</td>\n",
              "      <td>13.0</td>\n",
              "      <td>&lt;p&gt;&lt;a href=\"http://svnbook.red-bean.com/\"&gt;Vers...</td>\n",
              "      <td>[svn, tortoisesvn, branch, branching-and-merging]</td>\n",
              "      <td>Bernard</td>\n",
              "      <td>2008-08-01 14:21:00.573 UTC</td>\n",
              "      <td>2019-08-30 07:11:58.297 UTC</td>\n",
              "      <td>22779.0</td>\n",
              "      <td>1321.0</td>\n",
              "      <td>219.0</td>\n",
              "      <td>1731.0</td>\n",
              "    </tr>\n",
              "    <tr>\n",
              "      <th>4</th>\n",
              "      <td>90</td>\n",
              "      <td>58.0</td>\n",
              "      <td>2008-08-01T14:41:24Z</td>\n",
              "      <td>144</td>\n",
              "      <td>Good branching and merging tutorials for Torto...</td>\n",
              "      <td>&lt;p&gt;Are there any really good tutorials explain...</td>\n",
              "      <td>202317.0</td>\n",
              "      <td>20709.0</td>\n",
              "      <td>2008-10-14T18:41:45Z</td>\n",
              "      <td>2.0</td>\n",
              "      <td>&lt;p&gt;You can also try &lt;em&gt;&lt;a href=\"http://www.co...</td>\n",
              "      <td>[svn, tortoisesvn, branch, branching-and-merging]</td>\n",
              "      <td>Black Horus</td>\n",
              "      <td>2008-09-22 20:03:39.71 UTC</td>\n",
              "      <td>2019-09-01 01:17:38.133 UTC</td>\n",
              "      <td>978.0</td>\n",
              "      <td>73.0</td>\n",
              "      <td>2.0</td>\n",
              "      <td>96.0</td>\n",
              "    </tr>\n",
              "  </tbody>\n",
              "</table>\n",
              "</div>"
            ],
            "text/plain": [
              "   QuestionId  QuestionOwnerUserId  ... AnswerUserDownVotes  AnswerUserViews\n",
              "0          80                 26.0  ...                67.0           3547.0\n",
              "1          80                 26.0  ...               136.0           6905.0\n",
              "2          80                 26.0  ...                 1.0             60.0\n",
              "3          90                 58.0  ...               219.0           1731.0\n",
              "4          90                 58.0  ...                 2.0             96.0\n",
              "\n",
              "[5 rows x 19 columns]"
            ]
          },
          "metadata": {
            "tags": []
          },
          "execution_count": 51
        }
      ]
    },
    {
      "cell_type": "code",
      "metadata": {
        "id": "J4B6aQe08W6c",
        "colab_type": "code",
        "outputId": "3a39bcad-331f-4e9d-dd63-13938752ec42",
        "colab": {
          "base_uri": "https://localhost:8080/",
          "height": 34
        }
      },
      "source": [
        "QuestionAnswerwithTagandUsers = QuestionAnswerwithTagandUsers[QuestionAnswerwithTagandUsers['AnswerId'].notna()]\n",
        "QuestionAnswerwithTagandUsers.shape"
      ],
      "execution_count": 0,
      "outputs": [
        {
          "output_type": "execute_result",
          "data": {
            "text/plain": [
              "(2014516, 19)"
            ]
          },
          "metadata": {
            "tags": []
          },
          "execution_count": 91
        }
      ]
    },
    {
      "cell_type": "markdown",
      "metadata": {
        "id": "Zpf54GfC9zhU",
        "colab_type": "text"
      },
      "source": [
        "##EDA Analysis and framing important values"
      ]
    },
    {
      "cell_type": "code",
      "metadata": {
        "id": "TN4d5rQO93TT",
        "colab_type": "code",
        "outputId": "5be49d25-f080-483c-abd1-37a6cb755d8a",
        "colab": {
          "base_uri": "https://localhost:8080/",
          "height": 34
        }
      },
      "source": [
        "tagsds.Tag.value_counts().mean()"
      ],
      "execution_count": 0,
      "outputs": [
        {
          "output_type": "execute_result",
          "data": {
            "text/plain": [
              "101.25508991737323"
            ]
          },
          "metadata": {
            "tags": []
          },
          "execution_count": 65
        }
      ]
    },
    {
      "cell_type": "code",
      "metadata": {
        "id": "Rgz_IZHQOCSe",
        "colab_type": "code",
        "outputId": "df9f0fb3-8361-4f2a-e099-ee7f8d9ea43a",
        "colab": {
          "base_uri": "https://localhost:8080/",
          "height": 204
        }
      },
      "source": [
        "tagsds.head()"
      ],
      "execution_count": 0,
      "outputs": [
        {
          "output_type": "execute_result",
          "data": {
            "text/html": [
              "<div>\n",
              "<style scoped>\n",
              "    .dataframe tbody tr th:only-of-type {\n",
              "        vertical-align: middle;\n",
              "    }\n",
              "\n",
              "    .dataframe tbody tr th {\n",
              "        vertical-align: top;\n",
              "    }\n",
              "\n",
              "    .dataframe thead th {\n",
              "        text-align: right;\n",
              "    }\n",
              "</style>\n",
              "<table border=\"1\" class=\"dataframe\">\n",
              "  <thead>\n",
              "    <tr style=\"text-align: right;\">\n",
              "      <th></th>\n",
              "      <th>QuestionId</th>\n",
              "      <th>Tag</th>\n",
              "    </tr>\n",
              "  </thead>\n",
              "  <tbody>\n",
              "    <tr>\n",
              "      <th>0</th>\n",
              "      <td>80</td>\n",
              "      <td>flex</td>\n",
              "    </tr>\n",
              "    <tr>\n",
              "      <th>1</th>\n",
              "      <td>80</td>\n",
              "      <td>actionscript-3</td>\n",
              "    </tr>\n",
              "    <tr>\n",
              "      <th>2</th>\n",
              "      <td>80</td>\n",
              "      <td>air</td>\n",
              "    </tr>\n",
              "    <tr>\n",
              "      <th>3</th>\n",
              "      <td>90</td>\n",
              "      <td>svn</td>\n",
              "    </tr>\n",
              "    <tr>\n",
              "      <th>4</th>\n",
              "      <td>90</td>\n",
              "      <td>tortoisesvn</td>\n",
              "    </tr>\n",
              "  </tbody>\n",
              "</table>\n",
              "</div>"
            ],
            "text/plain": [
              "   QuestionId             Tag\n",
              "0          80            flex\n",
              "1          80  actionscript-3\n",
              "2          80             air\n",
              "3          90             svn\n",
              "4          90     tortoisesvn"
            ]
          },
          "metadata": {
            "tags": []
          },
          "execution_count": 73
        }
      ]
    },
    {
      "cell_type": "code",
      "metadata": {
        "id": "iymzP_WnCshT",
        "colab_type": "code",
        "outputId": "5cb5a661-40d7-4507-cb23-1fd8387be727",
        "colab": {
          "base_uri": "https://localhost:8080/",
          "height": 297
        }
      },
      "source": [
        "tags = tagsds\n",
        "tags.drop(['QuestionId'], axis =1, inplace= True)\n",
        "count = tags.Tag.value_counts()\n",
        "count = count.to_frame() \n",
        "count.describe()"
      ],
      "execution_count": 0,
      "outputs": [
        {
          "output_type": "execute_result",
          "data": {
            "text/html": [
              "<div>\n",
              "<style scoped>\n",
              "    .dataframe tbody tr th:only-of-type {\n",
              "        vertical-align: middle;\n",
              "    }\n",
              "\n",
              "    .dataframe tbody tr th {\n",
              "        vertical-align: top;\n",
              "    }\n",
              "\n",
              "    .dataframe thead th {\n",
              "        text-align: right;\n",
              "    }\n",
              "</style>\n",
              "<table border=\"1\" class=\"dataframe\">\n",
              "  <thead>\n",
              "    <tr style=\"text-align: right;\">\n",
              "      <th></th>\n",
              "      <th>Tag</th>\n",
              "    </tr>\n",
              "  </thead>\n",
              "  <tbody>\n",
              "    <tr>\n",
              "      <th>count</th>\n",
              "      <td>37034.000000</td>\n",
              "    </tr>\n",
              "    <tr>\n",
              "      <th>mean</th>\n",
              "      <td>101.255090</td>\n",
              "    </tr>\n",
              "    <tr>\n",
              "      <th>std</th>\n",
              "      <td>1578.834319</td>\n",
              "    </tr>\n",
              "    <tr>\n",
              "      <th>min</th>\n",
              "      <td>1.000000</td>\n",
              "    </tr>\n",
              "    <tr>\n",
              "      <th>25%</th>\n",
              "      <td>2.000000</td>\n",
              "    </tr>\n",
              "    <tr>\n",
              "      <th>50%</th>\n",
              "      <td>6.000000</td>\n",
              "    </tr>\n",
              "    <tr>\n",
              "      <th>75%</th>\n",
              "      <td>22.000000</td>\n",
              "    </tr>\n",
              "    <tr>\n",
              "      <th>max</th>\n",
              "      <td>124155.000000</td>\n",
              "    </tr>\n",
              "  </tbody>\n",
              "</table>\n",
              "</div>"
            ],
            "text/plain": [
              "                 Tag\n",
              "count   37034.000000\n",
              "mean      101.255090\n",
              "std      1578.834319\n",
              "min         1.000000\n",
              "25%         2.000000\n",
              "50%         6.000000\n",
              "75%        22.000000\n",
              "max    124155.000000"
            ]
          },
          "metadata": {
            "tags": []
          },
          "execution_count": 119
        }
      ]
    },
    {
      "cell_type": "code",
      "metadata": {
        "id": "TzBwz4Pffyyr",
        "colab_type": "code",
        "outputId": "14df13b2-2aa5-489c-e86c-690065ace181",
        "colab": {
          "base_uri": "https://localhost:8080/",
          "height": 204
        }
      },
      "source": [
        "count.reset_index(inplace = True)\n",
        "count.head()"
      ],
      "execution_count": 0,
      "outputs": [
        {
          "output_type": "execute_result",
          "data": {
            "text/html": [
              "<div>\n",
              "<style scoped>\n",
              "    .dataframe tbody tr th:only-of-type {\n",
              "        vertical-align: middle;\n",
              "    }\n",
              "\n",
              "    .dataframe tbody tr th {\n",
              "        vertical-align: top;\n",
              "    }\n",
              "\n",
              "    .dataframe thead th {\n",
              "        text-align: right;\n",
              "    }\n",
              "</style>\n",
              "<table border=\"1\" class=\"dataframe\">\n",
              "  <thead>\n",
              "    <tr style=\"text-align: right;\">\n",
              "      <th></th>\n",
              "      <th>index</th>\n",
              "      <th>Tag</th>\n",
              "    </tr>\n",
              "  </thead>\n",
              "  <tbody>\n",
              "    <tr>\n",
              "      <th>0</th>\n",
              "      <td>javascript</td>\n",
              "      <td>124155</td>\n",
              "    </tr>\n",
              "    <tr>\n",
              "      <th>1</th>\n",
              "      <td>java</td>\n",
              "      <td>115212</td>\n",
              "    </tr>\n",
              "    <tr>\n",
              "      <th>2</th>\n",
              "      <td>c#</td>\n",
              "      <td>101186</td>\n",
              "    </tr>\n",
              "    <tr>\n",
              "      <th>3</th>\n",
              "      <td>php</td>\n",
              "      <td>98808</td>\n",
              "    </tr>\n",
              "    <tr>\n",
              "      <th>4</th>\n",
              "      <td>android</td>\n",
              "      <td>90659</td>\n",
              "    </tr>\n",
              "  </tbody>\n",
              "</table>\n",
              "</div>"
            ],
            "text/plain": [
              "        index     Tag\n",
              "0  javascript  124155\n",
              "1        java  115212\n",
              "2          c#  101186\n",
              "3         php   98808\n",
              "4     android   90659"
            ]
          },
          "metadata": {
            "tags": []
          },
          "execution_count": 121
        }
      ]
    },
    {
      "cell_type": "code",
      "metadata": {
        "id": "FLTqfpxYgJ8C",
        "colab_type": "code",
        "outputId": "c014de5d-32fa-4e1d-aca8-dbacd467def0",
        "colab": {
          "base_uri": "https://localhost:8080/",
          "height": 204
        }
      },
      "source": [
        "count.rename(columns = {'Tag':'NumberOfOccurrences', 'index':'Tag'}, inplace = True) \n",
        "count.head()"
      ],
      "execution_count": 0,
      "outputs": [
        {
          "output_type": "execute_result",
          "data": {
            "text/html": [
              "<div>\n",
              "<style scoped>\n",
              "    .dataframe tbody tr th:only-of-type {\n",
              "        vertical-align: middle;\n",
              "    }\n",
              "\n",
              "    .dataframe tbody tr th {\n",
              "        vertical-align: top;\n",
              "    }\n",
              "\n",
              "    .dataframe thead th {\n",
              "        text-align: right;\n",
              "    }\n",
              "</style>\n",
              "<table border=\"1\" class=\"dataframe\">\n",
              "  <thead>\n",
              "    <tr style=\"text-align: right;\">\n",
              "      <th></th>\n",
              "      <th>Tag</th>\n",
              "      <th>NumberOfOccurrences</th>\n",
              "    </tr>\n",
              "  </thead>\n",
              "  <tbody>\n",
              "    <tr>\n",
              "      <th>0</th>\n",
              "      <td>javascript</td>\n",
              "      <td>124155</td>\n",
              "    </tr>\n",
              "    <tr>\n",
              "      <th>1</th>\n",
              "      <td>java</td>\n",
              "      <td>115212</td>\n",
              "    </tr>\n",
              "    <tr>\n",
              "      <th>2</th>\n",
              "      <td>c#</td>\n",
              "      <td>101186</td>\n",
              "    </tr>\n",
              "    <tr>\n",
              "      <th>3</th>\n",
              "      <td>php</td>\n",
              "      <td>98808</td>\n",
              "    </tr>\n",
              "    <tr>\n",
              "      <th>4</th>\n",
              "      <td>android</td>\n",
              "      <td>90659</td>\n",
              "    </tr>\n",
              "  </tbody>\n",
              "</table>\n",
              "</div>"
            ],
            "text/plain": [
              "          Tag  NumberOfOccurrences\n",
              "0  javascript               124155\n",
              "1        java               115212\n",
              "2          c#               101186\n",
              "3         php                98808\n",
              "4     android                90659"
            ]
          },
          "metadata": {
            "tags": []
          },
          "execution_count": 122
        }
      ]
    },
    {
      "cell_type": "code",
      "metadata": {
        "id": "5G4cKMNPiwyQ",
        "colab_type": "code",
        "colab": {}
      },
      "source": [
        "count['NumberOfOccurrences'] = count['NumberOfOccurrences'].astype(int)"
      ],
      "execution_count": 0,
      "outputs": []
    },
    {
      "cell_type": "code",
      "metadata": {
        "id": "_MJE2ML6kM7R",
        "colab_type": "code",
        "outputId": "fcf3ce93-78f1-4bfb-8fbb-d492ec055452",
        "colab": {
          "base_uri": "https://localhost:8080/",
          "height": 297
        }
      },
      "source": [
        "count.describe()"
      ],
      "execution_count": 0,
      "outputs": [
        {
          "output_type": "execute_result",
          "data": {
            "text/html": [
              "<div>\n",
              "<style scoped>\n",
              "    .dataframe tbody tr th:only-of-type {\n",
              "        vertical-align: middle;\n",
              "    }\n",
              "\n",
              "    .dataframe tbody tr th {\n",
              "        vertical-align: top;\n",
              "    }\n",
              "\n",
              "    .dataframe thead th {\n",
              "        text-align: right;\n",
              "    }\n",
              "</style>\n",
              "<table border=\"1\" class=\"dataframe\">\n",
              "  <thead>\n",
              "    <tr style=\"text-align: right;\">\n",
              "      <th></th>\n",
              "      <th>NumberOfOccurrences</th>\n",
              "    </tr>\n",
              "  </thead>\n",
              "  <tbody>\n",
              "    <tr>\n",
              "      <th>count</th>\n",
              "      <td>37034.000000</td>\n",
              "    </tr>\n",
              "    <tr>\n",
              "      <th>mean</th>\n",
              "      <td>101.255090</td>\n",
              "    </tr>\n",
              "    <tr>\n",
              "      <th>std</th>\n",
              "      <td>1578.834319</td>\n",
              "    </tr>\n",
              "    <tr>\n",
              "      <th>min</th>\n",
              "      <td>1.000000</td>\n",
              "    </tr>\n",
              "    <tr>\n",
              "      <th>25%</th>\n",
              "      <td>2.000000</td>\n",
              "    </tr>\n",
              "    <tr>\n",
              "      <th>50%</th>\n",
              "      <td>6.000000</td>\n",
              "    </tr>\n",
              "    <tr>\n",
              "      <th>75%</th>\n",
              "      <td>22.000000</td>\n",
              "    </tr>\n",
              "    <tr>\n",
              "      <th>max</th>\n",
              "      <td>124155.000000</td>\n",
              "    </tr>\n",
              "  </tbody>\n",
              "</table>\n",
              "</div>"
            ],
            "text/plain": [
              "       NumberOfOccurrences\n",
              "count         37034.000000\n",
              "mean            101.255090\n",
              "std            1578.834319\n",
              "min               1.000000\n",
              "25%               2.000000\n",
              "50%               6.000000\n",
              "75%              22.000000\n",
              "max          124155.000000"
            ]
          },
          "metadata": {
            "tags": []
          },
          "execution_count": 137
        }
      ]
    },
    {
      "cell_type": "code",
      "metadata": {
        "id": "acZrRoU-OXBv",
        "colab_type": "code",
        "outputId": "b836b67c-cc55-418c-c44a-d4dd1e80f30b",
        "colab": {
          "base_uri": "https://localhost:8080/",
          "height": 171
        }
      },
      "source": [
        "plt.figure(figsize = (20,2))\n",
        "sns.boxplot(count.NumberOfOccurrences)\n",
        "plt.show()"
      ],
      "execution_count": 0,
      "outputs": [
        {
          "output_type": "display_data",
          "data": {
            "image/png": "[encoded data removed]",
            "text/plain": [
              "<Figure size 1440x144 with 1 Axes>"
            ]
          },
          "metadata": {
            "tags": [],
            "needs_background": "light"
          }
        }
      ]
    },
    {
      "cell_type": "code",
      "metadata": {
        "id": "WWUeYcruoLPi",
        "colab_type": "code",
        "outputId": "4ea60cf0-6f7f-439b-896d-d990418babe4",
        "colab": {
          "base_uri": "https://localhost:8080/",
          "height": 34
        }
      },
      "source": [
        "morethanmean = count[count['NumberOfOccurrences'] > count['NumberOfOccurrences'].mean()]\n",
        "morethanmean.shape"
      ],
      "execution_count": 0,
      "outputs": [
        {
          "output_type": "execute_result",
          "data": {
            "text/plain": [
              "(3364, 2)"
            ]
          },
          "metadata": {
            "tags": []
          },
          "execution_count": 138
        }
      ]
    },
    {
      "cell_type": "markdown",
      "metadata": {
        "id": "DtSErIVno2oM",
        "colab_type": "text"
      },
      "source": [
        ""
      ]
    },
    {
      "cell_type": "code",
      "metadata": {
        "id": "3l5RtfjhSIyF",
        "colab_type": "code",
        "colab": {}
      },
      "source": [
        "tagsdsModified = tagsdsModified.to_frame() \n"
      ],
      "execution_count": 0,
      "outputs": []
    },
    {
      "cell_type": "code",
      "metadata": {
        "id": "4Cn_DMdkTkiP",
        "colab_type": "code",
        "outputId": "8584d81d-74e4-436e-fbf6-96c1f7def255",
        "colab": {
          "base_uri": "https://localhost:8080/",
          "height": 187
        }
      },
      "source": [
        "tagsdsModified.reset_index(inplace = True)\n",
        "tagsdsModified.info()"
      ],
      "execution_count": 0,
      "outputs": [
        {
          "output_type": "stream",
          "text": [
            "<class 'pandas.core.frame.DataFrame'>\n",
            "RangeIndex: 1264216 entries, 0 to 1264215\n",
            "Data columns (total 3 columns):\n",
            " #   Column      Non-Null Count    Dtype \n",
            "---  ------      --------------    ----- \n",
            " 0   index       1264216 non-null  int64 \n",
            " 1   QuestionId  1264216 non-null  int64 \n",
            " 2   Tag         1264216 non-null  object\n",
            "dtypes: int64(2), object(1)\n",
            "memory usage: 28.9+ MB\n"
          ],
          "name": "stdout"
        }
      ]
    },
    {
      "cell_type": "code",
      "metadata": {
        "id": "iys59-_rT2Np",
        "colab_type": "code",
        "outputId": "cf7c8881-4e19-4677-9061-c153996b1296",
        "colab": {
          "base_uri": "https://localhost:8080/",
          "height": 283
        }
      },
      "source": [
        "sns.boxplot(data=QuestionAnswerwithTagandUsers, x=\"QuestionScore\",y=\"AnswerScore\")\n",
        "plt.show()"
      ],
      "execution_count": 0,
      "outputs": [
        {
          "output_type": "display_data",
          "data": {
            "image/png": "[encoded data removed]",
            "text/plain": [
              "<Figure size 432x288 with 1 Axes>"
            ]
          },
          "metadata": {
            "tags": [],
            "needs_background": "light"
          }
        }
      ]
    },
    {
      "cell_type": "code",
      "metadata": {
        "id": "lYd1WjIJVhPt",
        "colab_type": "code",
        "outputId": "58546229-7f14-4c5e-ffde-ab0a8289fecb",
        "colab": {
          "base_uri": "https://localhost:8080/",
          "height": 500
        }
      },
      "source": [
        "plt.figure(figsize=(10,6))\n",
        "sns.heatmap(QuestionAnswerwithTagandUsers.corr(),cmap='Blues',annot=False) "
      ],
      "execution_count": 0,
      "outputs": [
        {
          "output_type": "execute_result",
          "data": {
            "text/plain": [
              "<matplotlib.axes._subplots.AxesSubplot at 0x7fe5b5e980f0>"
            ]
          },
          "metadata": {
            "tags": []
          },
          "execution_count": 93
        },
        {
          "output_type": "display_data",
          "data": {
            "image/png": "[encoded data removed]",
            "text/plain": [
              "<Figure size 720x432 with 2 Axes>"
            ]
          },
          "metadata": {
            "tags": [],
            "needs_background": "light"
          }
        }
      ]
    },
    {
      "cell_type": "code",
      "metadata": {
        "id": "43feYawLWTK_",
        "colab_type": "code",
        "outputId": "3ce9f05e-ccd1-4908-b992-1bc7c25569a4",
        "colab": {
          "base_uri": "https://localhost:8080/",
          "height": 221
        }
      },
      "source": [
        "QuestionAnswerwithTagandUsers['AnswerCreationDate'] = pd.to_datetime(QuestionAnswerwithTagandUsers['AnswerCreationDate'])\n",
        "QuestionAnswerwithTagandUsers['QuestionCreationDate'] = pd.to_datetime(QuestionAnswerwithTagandUsers['QuestionCreationDate'])"
      ],
      "execution_count": 0,
      "outputs": [
        {
          "output_type": "stream",
          "text": [
            "/usr/local/lib/python3.6/dist-packages/ipykernel_launcher.py:1: SettingWithCopyWarning: \n",
            "A value is trying to be set on a copy of a slice from a DataFrame.\n",
            "Try using .loc[row_indexer,col_indexer] = value instead\n",
            "\n",
            "See the caveats in the documentation: https://pandas.pydata.org/pandas-docs/stable/user_guide/indexing.html#returning-a-view-versus-a-copy\n",
            "  \"\"\"Entry point for launching an IPython kernel.\n",
            "/usr/local/lib/python3.6/dist-packages/ipykernel_launcher.py:2: SettingWithCopyWarning: \n",
            "A value is trying to be set on a copy of a slice from a DataFrame.\n",
            "Try using .loc[row_indexer,col_indexer] = value instead\n",
            "\n",
            "See the caveats in the documentation: https://pandas.pydata.org/pandas-docs/stable/user_guide/indexing.html#returning-a-view-versus-a-copy\n",
            "  \n"
          ],
          "name": "stderr"
        }
      ]
    },
    {
      "cell_type": "code",
      "metadata": {
        "id": "deBRmTGvV4eR",
        "colab_type": "code",
        "outputId": "8c25958e-1688-4335-b49b-c48c3553a5e3",
        "colab": {
          "base_uri": "https://localhost:8080/",
          "height": 751
        }
      },
      "source": [
        "QuestionAnswerwithTagandUsers['TimeTaken'] = QuestionAnswerwithTagandUsers['AnswerCreationDate'] - QuestionAnswerwithTagandUsers['QuestionCreationDate']\n",
        "QuestionAnswerwithTagandUsers['TimeTaken']=QuestionAnswerwithTagandUsers['TimeTaken']/np.timedelta64(1,'h')\n",
        "QuestionAnswerwithTagandUsers.head()"
      ],
      "execution_count": 0,
      "outputs": [
        {
          "output_type": "stream",
          "text": [
            "/usr/local/lib/python3.6/dist-packages/ipykernel_launcher.py:1: SettingWithCopyWarning: \n",
            "A value is trying to be set on a copy of a slice from a DataFrame.\n",
            "Try using .loc[row_indexer,col_indexer] = value instead\n",
            "\n",
            "See the caveats in the documentation: https://pandas.pydata.org/pandas-docs/stable/user_guide/indexing.html#returning-a-view-versus-a-copy\n",
            "  \"\"\"Entry point for launching an IPython kernel.\n",
            "/usr/local/lib/python3.6/dist-packages/ipykernel_launcher.py:2: SettingWithCopyWarning: \n",
            "A value is trying to be set on a copy of a slice from a DataFrame.\n",
            "Try using .loc[row_indexer,col_indexer] = value instead\n",
            "\n",
            "See the caveats in the documentation: https://pandas.pydata.org/pandas-docs/stable/user_guide/indexing.html#returning-a-view-versus-a-copy\n",
            "  \n"
          ],
          "name": "stderr"
        },
        {
          "output_type": "execute_result",
          "data": {
            "text/html": [
              "<div>\n",
              "<style scoped>\n",
              "    .dataframe tbody tr th:only-of-type {\n",
              "        vertical-align: middle;\n",
              "    }\n",
              "\n",
              "    .dataframe tbody tr th {\n",
              "        vertical-align: top;\n",
              "    }\n",
              "\n",
              "    .dataframe thead th {\n",
              "        text-align: right;\n",
              "    }\n",
              "</style>\n",
              "<table border=\"1\" class=\"dataframe\">\n",
              "  <thead>\n",
              "    <tr style=\"text-align: right;\">\n",
              "      <th></th>\n",
              "      <th>QuestionId</th>\n",
              "      <th>QuestionOwnerUserId</th>\n",
              "      <th>QuestionCreationDate</th>\n",
              "      <th>QuestionScore</th>\n",
              "      <th>Title</th>\n",
              "      <th>QuestionBody</th>\n",
              "      <th>AnswerId</th>\n",
              "      <th>AnswerOwnerUserId</th>\n",
              "      <th>AnswerCreationDate</th>\n",
              "      <th>AnswerScore</th>\n",
              "      <th>AnswerBody</th>\n",
              "      <th>Tag</th>\n",
              "      <th>AnswerUserDisplayName</th>\n",
              "      <th>AnswerUserCreationDate</th>\n",
              "      <th>AnswerUserLastAccessDate</th>\n",
              "      <th>AnswerUserReputation</th>\n",
              "      <th>AnswerUserUpVotes</th>\n",
              "      <th>AnswerUserDownVotes</th>\n",
              "      <th>AnswerUserViews</th>\n",
              "      <th>TimeTaken</th>\n",
              "    </tr>\n",
              "  </thead>\n",
              "  <tbody>\n",
              "    <tr>\n",
              "      <th>0</th>\n",
              "      <td>80</td>\n",
              "      <td>26.0</td>\n",
              "      <td>2008-08-01 13:57:07+00:00</td>\n",
              "      <td>26</td>\n",
              "      <td>SQLStatement.execute() - multiple queries in o...</td>\n",
              "      <td>&lt;p&gt;I've written a database generation script i...</td>\n",
              "      <td>124.0</td>\n",
              "      <td>26.0</td>\n",
              "      <td>2008-08-01 16:09:47+00:00</td>\n",
              "      <td>12.0</td>\n",
              "      <td>&lt;p&gt;I wound up using this. It is a kind of a ha...</td>\n",
              "      <td>[flex, actionscript-3, air]</td>\n",
              "      <td>Shawn</td>\n",
              "      <td>2008-08-01 12:18:14.52 UTC</td>\n",
              "      <td>2018-04-11 04:40:35.66 UTC</td>\n",
              "      <td>11820.0</td>\n",
              "      <td>565.0</td>\n",
              "      <td>67.0</td>\n",
              "      <td>3547.0</td>\n",
              "      <td>2.211111</td>\n",
              "    </tr>\n",
              "    <tr>\n",
              "      <th>1</th>\n",
              "      <td>80</td>\n",
              "      <td>26.0</td>\n",
              "      <td>2008-08-01 13:57:07+00:00</td>\n",
              "      <td>26</td>\n",
              "      <td>SQLStatement.execute() - multiple queries in o...</td>\n",
              "      <td>&lt;p&gt;I've written a database generation script i...</td>\n",
              "      <td>10008.0</td>\n",
              "      <td>1109.0</td>\n",
              "      <td>2008-08-13 16:09:09+00:00</td>\n",
              "      <td>6.0</td>\n",
              "      <td>&lt;p&gt;The &lt;a href=\"http://en.wikipedia.org/wiki/S...</td>\n",
              "      <td>[flex, actionscript-3, air]</td>\n",
              "      <td>Theo</td>\n",
              "      <td>2008-08-12 12:16:58.61 UTC</td>\n",
              "      <td>2019-08-31 11:39:52.28 UTC</td>\n",
              "      <td>116072.0</td>\n",
              "      <td>457.0</td>\n",
              "      <td>136.0</td>\n",
              "      <td>6905.0</td>\n",
              "      <td>290.200556</td>\n",
              "    </tr>\n",
              "    <tr>\n",
              "      <th>2</th>\n",
              "      <td>80</td>\n",
              "      <td>26.0</td>\n",
              "      <td>2008-08-01 13:57:07+00:00</td>\n",
              "      <td>26</td>\n",
              "      <td>SQLStatement.execute() - multiple queries in o...</td>\n",
              "      <td>&lt;p&gt;I've written a database generation script i...</td>\n",
              "      <td>3770976.0</td>\n",
              "      <td>364174.0</td>\n",
              "      <td>2010-09-22 15:37:30+00:00</td>\n",
              "      <td>1.0</td>\n",
              "      <td>&lt;p&gt;What about making your delimiter something ...</td>\n",
              "      <td>[flex, actionscript-3, air]</td>\n",
              "      <td>stats</td>\n",
              "      <td>2010-06-11 03:34:57.137 UTC</td>\n",
              "      <td>2019-08-29 18:37:35.027 UTC</td>\n",
              "      <td>325.0</td>\n",
              "      <td>25.0</td>\n",
              "      <td>1.0</td>\n",
              "      <td>60.0</td>\n",
              "      <td>18769.673056</td>\n",
              "    </tr>\n",
              "    <tr>\n",
              "      <th>3</th>\n",
              "      <td>90</td>\n",
              "      <td>58.0</td>\n",
              "      <td>2008-08-01 14:41:24+00:00</td>\n",
              "      <td>144</td>\n",
              "      <td>Good branching and merging tutorials for Torto...</td>\n",
              "      <td>&lt;p&gt;Are there any really good tutorials explain...</td>\n",
              "      <td>92.0</td>\n",
              "      <td>61.0</td>\n",
              "      <td>2008-08-01 14:45:37+00:00</td>\n",
              "      <td>13.0</td>\n",
              "      <td>&lt;p&gt;&lt;a href=\"http://svnbook.red-bean.com/\"&gt;Vers...</td>\n",
              "      <td>[svn, tortoisesvn, branch, branching-and-merging]</td>\n",
              "      <td>Bernard</td>\n",
              "      <td>2008-08-01 14:21:00.573 UTC</td>\n",
              "      <td>2019-08-30 07:11:58.297 UTC</td>\n",
              "      <td>22779.0</td>\n",
              "      <td>1321.0</td>\n",
              "      <td>219.0</td>\n",
              "      <td>1731.0</td>\n",
              "      <td>0.070278</td>\n",
              "    </tr>\n",
              "    <tr>\n",
              "      <th>4</th>\n",
              "      <td>90</td>\n",
              "      <td>58.0</td>\n",
              "      <td>2008-08-01 14:41:24+00:00</td>\n",
              "      <td>144</td>\n",
              "      <td>Good branching and merging tutorials for Torto...</td>\n",
              "      <td>&lt;p&gt;Are there any really good tutorials explain...</td>\n",
              "      <td>202317.0</td>\n",
              "      <td>20709.0</td>\n",
              "      <td>2008-10-14 18:41:45+00:00</td>\n",
              "      <td>2.0</td>\n",
              "      <td>&lt;p&gt;You can also try &lt;em&gt;&lt;a href=\"http://www.co...</td>\n",
              "      <td>[svn, tortoisesvn, branch, branching-and-merging]</td>\n",
              "      <td>Black Horus</td>\n",
              "      <td>2008-09-22 20:03:39.71 UTC</td>\n",
              "      <td>2019-09-01 01:17:38.133 UTC</td>\n",
              "      <td>978.0</td>\n",
              "      <td>73.0</td>\n",
              "      <td>2.0</td>\n",
              "      <td>96.0</td>\n",
              "      <td>1780.005833</td>\n",
              "    </tr>\n",
              "  </tbody>\n",
              "</table>\n",
              "</div>"
            ],
            "text/plain": [
              "   QuestionId  QuestionOwnerUserId  ... AnswerUserViews     TimeTaken\n",
              "0          80                 26.0  ...          3547.0      2.211111\n",
              "1          80                 26.0  ...          6905.0    290.200556\n",
              "2          80                 26.0  ...            60.0  18769.673056\n",
              "3          90                 58.0  ...          1731.0      0.070278\n",
              "4          90                 58.0  ...            96.0   1780.005833\n",
              "\n",
              "[5 rows x 20 columns]"
            ]
          },
          "metadata": {
            "tags": []
          },
          "execution_count": 98
        }
      ]
    },
    {
      "cell_type": "code",
      "metadata": {
        "id": "i_oKX9MuW2G-",
        "colab_type": "code",
        "outputId": "039fbe65-f097-4be9-e8c9-e5f82d81c1e9",
        "colab": {
          "base_uri": "https://localhost:8080/",
          "height": 581
        }
      },
      "source": [
        "QuestionAnswerwithTagandUsers.drop(['QuestionCreationDate','AnswerCreationDate','QuestionBody','AnswerBody','Title'], axis =1, inplace= True)\n",
        "QuestionAnswerwithTagandUsers.head()"
      ],
      "execution_count": 0,
      "outputs": [
        {
          "output_type": "stream",
          "text": [
            "/usr/local/lib/python3.6/dist-packages/pandas/core/frame.py:3997: SettingWithCopyWarning: \n",
            "A value is trying to be set on a copy of a slice from a DataFrame\n",
            "\n",
            "See the caveats in the documentation: https://pandas.pydata.org/pandas-docs/stable/user_guide/indexing.html#returning-a-view-versus-a-copy\n",
            "  errors=errors,\n"
          ],
          "name": "stderr"
        },
        {
          "output_type": "execute_result",
          "data": {
            "text/html": [
              "<div>\n",
              "<style scoped>\n",
              "    .dataframe tbody tr th:only-of-type {\n",
              "        vertical-align: middle;\n",
              "    }\n",
              "\n",
              "    .dataframe tbody tr th {\n",
              "        vertical-align: top;\n",
              "    }\n",
              "\n",
              "    .dataframe thead th {\n",
              "        text-align: right;\n",
              "    }\n",
              "</style>\n",
              "<table border=\"1\" class=\"dataframe\">\n",
              "  <thead>\n",
              "    <tr style=\"text-align: right;\">\n",
              "      <th></th>\n",
              "      <th>QuestionId</th>\n",
              "      <th>QuestionOwnerUserId</th>\n",
              "      <th>QuestionScore</th>\n",
              "      <th>AnswerId</th>\n",
              "      <th>AnswerOwnerUserId</th>\n",
              "      <th>AnswerScore</th>\n",
              "      <th>Tag</th>\n",
              "      <th>AnswerUserDisplayName</th>\n",
              "      <th>AnswerUserCreationDate</th>\n",
              "      <th>AnswerUserLastAccessDate</th>\n",
              "      <th>AnswerUserReputation</th>\n",
              "      <th>AnswerUserUpVotes</th>\n",
              "      <th>AnswerUserDownVotes</th>\n",
              "      <th>AnswerUserViews</th>\n",
              "      <th>TimeTaken</th>\n",
              "    </tr>\n",
              "  </thead>\n",
              "  <tbody>\n",
              "    <tr>\n",
              "      <th>0</th>\n",
              "      <td>80</td>\n",
              "      <td>26.0</td>\n",
              "      <td>26</td>\n",
              "      <td>124.0</td>\n",
              "      <td>26.0</td>\n",
              "      <td>12.0</td>\n",
              "      <td>[flex, actionscript-3, air]</td>\n",
              "      <td>Shawn</td>\n",
              "      <td>2008-08-01 12:18:14.52 UTC</td>\n",
              "      <td>2018-04-11 04:40:35.66 UTC</td>\n",
              "      <td>11820.0</td>\n",
              "      <td>565.0</td>\n",
              "      <td>67.0</td>\n",
              "      <td>3547.0</td>\n",
              "      <td>2.211111</td>\n",
              "    </tr>\n",
              "    <tr>\n",
              "      <th>1</th>\n",
              "      <td>80</td>\n",
              "      <td>26.0</td>\n",
              "      <td>26</td>\n",
              "      <td>10008.0</td>\n",
              "      <td>1109.0</td>\n",
              "      <td>6.0</td>\n",
              "      <td>[flex, actionscript-3, air]</td>\n",
              "      <td>Theo</td>\n",
              "      <td>2008-08-12 12:16:58.61 UTC</td>\n",
              "      <td>2019-08-31 11:39:52.28 UTC</td>\n",
              "      <td>116072.0</td>\n",
              "      <td>457.0</td>\n",
              "      <td>136.0</td>\n",
              "      <td>6905.0</td>\n",
              "      <td>290.200556</td>\n",
              "    </tr>\n",
              "    <tr>\n",
              "      <th>2</th>\n",
              "      <td>80</td>\n",
              "      <td>26.0</td>\n",
              "      <td>26</td>\n",
              "      <td>3770976.0</td>\n",
              "      <td>364174.0</td>\n",
              "      <td>1.0</td>\n",
              "      <td>[flex, actionscript-3, air]</td>\n",
              "      <td>stats</td>\n",
              "      <td>2010-06-11 03:34:57.137 UTC</td>\n",
              "      <td>2019-08-29 18:37:35.027 UTC</td>\n",
              "      <td>325.0</td>\n",
              "      <td>25.0</td>\n",
              "      <td>1.0</td>\n",
              "      <td>60.0</td>\n",
              "      <td>18769.673056</td>\n",
              "    </tr>\n",
              "    <tr>\n",
              "      <th>3</th>\n",
              "      <td>90</td>\n",
              "      <td>58.0</td>\n",
              "      <td>144</td>\n",
              "      <td>92.0</td>\n",
              "      <td>61.0</td>\n",
              "      <td>13.0</td>\n",
              "      <td>[svn, tortoisesvn, branch, branching-and-merging]</td>\n",
              "      <td>Bernard</td>\n",
              "      <td>2008-08-01 14:21:00.573 UTC</td>\n",
              "      <td>2019-08-30 07:11:58.297 UTC</td>\n",
              "      <td>22779.0</td>\n",
              "      <td>1321.0</td>\n",
              "      <td>219.0</td>\n",
              "      <td>1731.0</td>\n",
              "      <td>0.070278</td>\n",
              "    </tr>\n",
              "    <tr>\n",
              "      <th>4</th>\n",
              "      <td>90</td>\n",
              "      <td>58.0</td>\n",
              "      <td>144</td>\n",
              "      <td>202317.0</td>\n",
              "      <td>20709.0</td>\n",
              "      <td>2.0</td>\n",
              "      <td>[svn, tortoisesvn, branch, branching-and-merging]</td>\n",
              "      <td>Black Horus</td>\n",
              "      <td>2008-09-22 20:03:39.71 UTC</td>\n",
              "      <td>2019-09-01 01:17:38.133 UTC</td>\n",
              "      <td>978.0</td>\n",
              "      <td>73.0</td>\n",
              "      <td>2.0</td>\n",
              "      <td>96.0</td>\n",
              "      <td>1780.005833</td>\n",
              "    </tr>\n",
              "  </tbody>\n",
              "</table>\n",
              "</div>"
            ],
            "text/plain": [
              "   QuestionId  QuestionOwnerUserId  ...  AnswerUserViews     TimeTaken\n",
              "0          80                 26.0  ...           3547.0      2.211111\n",
              "1          80                 26.0  ...           6905.0    290.200556\n",
              "2          80                 26.0  ...             60.0  18769.673056\n",
              "3          90                 58.0  ...           1731.0      0.070278\n",
              "4          90                 58.0  ...             96.0   1780.005833\n",
              "\n",
              "[5 rows x 15 columns]"
            ]
          },
          "metadata": {
            "tags": []
          },
          "execution_count": 99
        }
      ]
    },
    {
      "cell_type": "code",
      "metadata": {
        "id": "ev01lRvSYd2X",
        "colab_type": "code",
        "outputId": "83a92bca-1af2-42c4-ce8e-6a987fd33ca4",
        "colab": {
          "base_uri": "https://localhost:8080/",
          "height": 171
        }
      },
      "source": [
        "plt.figure(figsize = (20,2))\n",
        "sns.boxplot(QuestionAnswerwithTagandUsers.TimeTaken)\n",
        "plt.show()"
      ],
      "execution_count": 0,
      "outputs": [
        {
          "output_type": "display_data",
          "data": {
            "image/png": "[encoded data removed]",
            "text/plain": [
              "<Figure size 1440x144 with 1 Axes>"
            ]
          },
          "metadata": {
            "tags": [],
            "needs_background": "light"
          }
        }
      ]
    },
    {
      "cell_type": "code",
      "metadata": {
        "id": "BzDxX-ZMaqG4",
        "colab_type": "code",
        "outputId": "d6f7d817-ac0b-4e9d-e563-7659628f4a7c",
        "colab": {
          "base_uri": "https://localhost:8080/",
          "height": 394
        }
      },
      "source": [
        "newcombdf = QuestionAnswerwithTagandUsers\n",
        "newcombdf.sort_values(\"TimeTaken\", axis = 0, ascending = True, \n",
        "                 inplace = True, na_position ='first')\n",
        "newcombdf.head() "
      ],
      "execution_count": 0,
      "outputs": [
        {
          "output_type": "stream",
          "text": [
            "/usr/local/lib/python3.6/dist-packages/ipykernel_launcher.py:3: SettingWithCopyWarning: \n",
            "A value is trying to be set on a copy of a slice from a DataFrame\n",
            "\n",
            "See the caveats in the documentation: https://pandas.pydata.org/pandas-docs/stable/user_guide/indexing.html#returning-a-view-versus-a-copy\n",
            "  This is separate from the ipykernel package so we can avoid doing imports until\n"
          ],
          "name": "stderr"
        },
        {
          "output_type": "execute_result",
          "data": {
            "text/html": [
              "<div>\n",
              "<style scoped>\n",
              "    .dataframe tbody tr th:only-of-type {\n",
              "        vertical-align: middle;\n",
              "    }\n",
              "\n",
              "    .dataframe tbody tr th {\n",
              "        vertical-align: top;\n",
              "    }\n",
              "\n",
              "    .dataframe thead th {\n",
              "        text-align: right;\n",
              "    }\n",
              "</style>\n",
              "<table border=\"1\" class=\"dataframe\">\n",
              "  <thead>\n",
              "    <tr style=\"text-align: right;\">\n",
              "      <th></th>\n",
              "      <th>QuestionId</th>\n",
              "      <th>QuestionOwnerUserId</th>\n",
              "      <th>QuestionScore</th>\n",
              "      <th>AnswerId</th>\n",
              "      <th>AnswerOwnerUserId</th>\n",
              "      <th>AnswerScore</th>\n",
              "      <th>Tag</th>\n",
              "      <th>AnswerUserDisplayName</th>\n",
              "      <th>AnswerUserCreationDate</th>\n",
              "      <th>AnswerUserLastAccessDate</th>\n",
              "      <th>AnswerUserReputation</th>\n",
              "      <th>AnswerUserUpVotes</th>\n",
              "      <th>AnswerUserDownVotes</th>\n",
              "      <th>AnswerUserViews</th>\n",
              "      <th>TimeTaken</th>\n",
              "    </tr>\n",
              "  </thead>\n",
              "  <tbody>\n",
              "    <tr>\n",
              "      <th>807325</th>\n",
              "      <td>12887700</td>\n",
              "      <td>541686.0</td>\n",
              "      <td>528</td>\n",
              "      <td>579836.0</td>\n",
              "      <td>9530.0</td>\n",
              "      <td>29.0</td>\n",
              "      <td>[c++, c]</td>\n",
              "      <td>Adam Rosenfield</td>\n",
              "      <td>2008-09-15 19:04:15.067 UTC</td>\n",
              "      <td>2019-08-29 19:19:21.283 UTC</td>\n",
              "      <td>319161.0</td>\n",
              "      <td>9608.0</td>\n",
              "      <td>615.0</td>\n",
              "      <td>20037.0</td>\n",
              "      <td>-31896.541944</td>\n",
              "    </tr>\n",
              "    <tr>\n",
              "      <th>807326</th>\n",
              "      <td>12887700</td>\n",
              "      <td>541686.0</td>\n",
              "      <td>528</td>\n",
              "      <td>579945.0</td>\n",
              "      <td>2509.0</td>\n",
              "      <td>20.0</td>\n",
              "      <td>[c++, c]</td>\n",
              "      <td>dmckee</td>\n",
              "      <td>2008-08-22 15:36:54.363 UTC</td>\n",
              "      <td>2019-08-30 22:31:47.43 UTC</td>\n",
              "      <td>81684.0</td>\n",
              "      <td>5039.0</td>\n",
              "      <td>1385.0</td>\n",
              "      <td>11339.0</td>\n",
              "      <td>-31895.820833</td>\n",
              "    </tr>\n",
              "    <tr>\n",
              "      <th>807327</th>\n",
              "      <td>12887700</td>\n",
              "      <td>541686.0</td>\n",
              "      <td>528</td>\n",
              "      <td>579951.0</td>\n",
              "      <td>27727.0</td>\n",
              "      <td>20.0</td>\n",
              "      <td>[c++, c]</td>\n",
              "      <td>derobert</td>\n",
              "      <td>2008-10-14 05:13:00.58 UTC</td>\n",
              "      <td>2019-09-01 01:57:56.653 UTC</td>\n",
              "      <td>40718.0</td>\n",
              "      <td>1292.0</td>\n",
              "      <td>160.0</td>\n",
              "      <td>3112.0</td>\n",
              "      <td>-31895.780278</td>\n",
              "    </tr>\n",
              "    <tr>\n",
              "      <th>807328</th>\n",
              "      <td>12887700</td>\n",
              "      <td>541686.0</td>\n",
              "      <td>528</td>\n",
              "      <td>579955.0</td>\n",
              "      <td>NaN</td>\n",
              "      <td>12.0</td>\n",
              "      <td>[c++, c]</td>\n",
              "      <td>NaN</td>\n",
              "      <td>NaN</td>\n",
              "      <td>NaN</td>\n",
              "      <td>NaN</td>\n",
              "      <td>NaN</td>\n",
              "      <td>NaN</td>\n",
              "      <td>NaN</td>\n",
              "      <td>-31895.718056</td>\n",
              "    </tr>\n",
              "    <tr>\n",
              "      <th>807329</th>\n",
              "      <td>12887700</td>\n",
              "      <td>541686.0</td>\n",
              "      <td>528</td>\n",
              "      <td>579998.0</td>\n",
              "      <td>34509.0</td>\n",
              "      <td>13.0</td>\n",
              "      <td>[c++, c]</td>\n",
              "      <td>Johannes Schaub - litb</td>\n",
              "      <td>2008-11-05 00:38:23.89 UTC</td>\n",
              "      <td>2019-08-31 21:13:52.093 UTC</td>\n",
              "      <td>419663.0</td>\n",
              "      <td>5033.0</td>\n",
              "      <td>1992.0</td>\n",
              "      <td>104627.0</td>\n",
              "      <td>-31895.436111</td>\n",
              "    </tr>\n",
              "  </tbody>\n",
              "</table>\n",
              "</div>"
            ],
            "text/plain": [
              "        QuestionId  QuestionOwnerUserId  ...  AnswerUserViews     TimeTaken\n",
              "807325    12887700             541686.0  ...          20037.0 -31896.541944\n",
              "807326    12887700             541686.0  ...          11339.0 -31895.820833\n",
              "807327    12887700             541686.0  ...           3112.0 -31895.780278\n",
              "807328    12887700             541686.0  ...              NaN -31895.718056\n",
              "807329    12887700             541686.0  ...         104627.0 -31895.436111\n",
              "\n",
              "[5 rows x 15 columns]"
            ]
          },
          "metadata": {
            "tags": []
          },
          "execution_count": 105
        }
      ]
    },
    {
      "cell_type": "code",
      "metadata": {
        "id": "rAAhE9cKb5D-",
        "colab_type": "code",
        "outputId": "f981128a-e7e1-4078-9fb8-340ca38c08c1",
        "colab": {
          "base_uri": "https://localhost:8080/",
          "height": 545
        }
      },
      "source": [
        "CheckOneData2 = answerds[answerds.QuestionId == 12887700]\n",
        "CheckOneData2"
      ],
      "execution_count": 0,
      "outputs": [
        {
          "output_type": "execute_result",
          "data": {
            "text/html": [
              "<div>\n",
              "<style scoped>\n",
              "    .dataframe tbody tr th:only-of-type {\n",
              "        vertical-align: middle;\n",
              "    }\n",
              "\n",
              "    .dataframe tbody tr th {\n",
              "        vertical-align: top;\n",
              "    }\n",
              "\n",
              "    .dataframe thead th {\n",
              "        text-align: right;\n",
              "    }\n",
              "</style>\n",
              "<table border=\"1\" class=\"dataframe\">\n",
              "  <thead>\n",
              "    <tr style=\"text-align: right;\">\n",
              "      <th></th>\n",
              "      <th>AnswerId</th>\n",
              "      <th>AnswerOwnerUserId</th>\n",
              "      <th>AnswerCreationDate</th>\n",
              "      <th>QuestionId</th>\n",
              "      <th>AnswerScore</th>\n",
              "      <th>AnswerBody</th>\n",
              "    </tr>\n",
              "  </thead>\n",
              "  <tbody>\n",
              "    <tr>\n",
              "      <th>31973</th>\n",
              "      <td>579836</td>\n",
              "      <td>9530.0</td>\n",
              "      <td>2009-02-23T23:21:55Z</td>\n",
              "      <td>12887700</td>\n",
              "      <td>29</td>\n",
              "      <td>&lt;pre&gt;&lt;code&gt;#include &amp;lt;stdio.h&amp;gt;\\n\\nint mai...</td>\n",
              "    </tr>\n",
              "    <tr>\n",
              "      <th>31981</th>\n",
              "      <td>579945</td>\n",
              "      <td>2509.0</td>\n",
              "      <td>2009-02-24T00:05:11Z</td>\n",
              "      <td>12887700</td>\n",
              "      <td>20</td>\n",
              "      <td>&lt;p&gt;An old chestnut that depends on the C compi...</td>\n",
              "    </tr>\n",
              "    <tr>\n",
              "      <th>31982</th>\n",
              "      <td>579951</td>\n",
              "      <td>27727.0</td>\n",
              "      <td>2009-02-24T00:07:37Z</td>\n",
              "      <td>12887700</td>\n",
              "      <td>20</td>\n",
              "      <td>&lt;p&gt;&lt;em&gt;The C++ Programming Language (3rd Editi...</td>\n",
              "    </tr>\n",
              "    <tr>\n",
              "      <th>31983</th>\n",
              "      <td>579955</td>\n",
              "      <td>NaN</td>\n",
              "      <td>2009-02-24T00:11:21Z</td>\n",
              "      <td>12887700</td>\n",
              "      <td>12</td>\n",
              "      <td>&lt;pre&gt;&lt;code&gt;struct abort\\n{\\n    int x;\\n};\\n\\n...</td>\n",
              "    </tr>\n",
              "    <tr>\n",
              "      <th>31986</th>\n",
              "      <td>579998</td>\n",
              "      <td>34509.0</td>\n",
              "      <td>2009-02-24T00:28:16Z</td>\n",
              "      <td>12887700</td>\n",
              "      <td>13</td>\n",
              "      <td>&lt;p&gt;Another one listed by the C++ Standard:&lt;/p&gt;...</td>\n",
              "    </tr>\n",
              "    <tr>\n",
              "      <th>717867</th>\n",
              "      <td>12887719</td>\n",
              "      <td>968261.0</td>\n",
              "      <td>2012-10-14T23:57:11Z</td>\n",
              "      <td>12887700</td>\n",
              "      <td>315</td>\n",
              "      <td>&lt;p&gt;The following, valid in C and C++, is going...</td>\n",
              "    </tr>\n",
              "    <tr>\n",
              "      <th>717877</th>\n",
              "      <td>12887839</td>\n",
              "      <td>726361.0</td>\n",
              "      <td>2012-10-15T00:19:04Z</td>\n",
              "      <td>12887700</td>\n",
              "      <td>427</td>\n",
              "      <td>&lt;p&gt;Here is an example that takes advantage of ...</td>\n",
              "    </tr>\n",
              "    <tr>\n",
              "      <th>717886</th>\n",
              "      <td>12887996</td>\n",
              "      <td>1459996.0</td>\n",
              "      <td>2012-10-15T00:48:45Z</td>\n",
              "      <td>12887700</td>\n",
              "      <td>75</td>\n",
              "      <td>&lt;p&gt;Per C++11 standard:&lt;/p&gt;\\n\\n&lt;p&gt;&lt;strong&gt;a.&lt;/s...</td>\n",
              "    </tr>\n",
              "    <tr>\n",
              "      <th>717900</th>\n",
              "      <td>12888281</td>\n",
              "      <td>362938.0</td>\n",
              "      <td>2012-10-15T01:42:35Z</td>\n",
              "      <td>12887700</td>\n",
              "      <td>138</td>\n",
              "      <td>&lt;p&gt;C90 vs. C++11 (&lt;code&gt;int&lt;/code&gt; vs. &lt;code&gt;d...</td>\n",
              "    </tr>\n",
              "    <tr>\n",
              "      <th>717975</th>\n",
              "      <td>12890117</td>\n",
              "      <td>179910.0</td>\n",
              "      <td>2012-10-15T06:03:47Z</td>\n",
              "      <td>12887700</td>\n",
              "      <td>368</td>\n",
              "      <td>&lt;p&gt;For C++ vs. C90, there's at least one way t...</td>\n",
              "    </tr>\n",
              "    <tr>\n",
              "      <th>718183</th>\n",
              "      <td>12894377</td>\n",
              "      <td>986760.0</td>\n",
              "      <td>2012-10-15T11:11:09Z</td>\n",
              "      <td>12887700</td>\n",
              "      <td>15</td>\n",
              "      <td>&lt;p&gt;Inline functions in C default to external s...</td>\n",
              "    </tr>\n",
              "    <tr>\n",
              "      <th>718203</th>\n",
              "      <td>12894970</td>\n",
              "      <td>23643.0</td>\n",
              "      <td>2012-10-15T11:46:00Z</td>\n",
              "      <td>12887700</td>\n",
              "      <td>26</td>\n",
              "      <td>&lt;p&gt;Another &lt;code&gt;sizeof&lt;/code&gt; trap: boolean e...</td>\n",
              "    </tr>\n",
              "    <tr>\n",
              "      <th>719820</th>\n",
              "      <td>12926158</td>\n",
              "      <td>337899.0</td>\n",
              "      <td>2012-10-17T02:17:59Z</td>\n",
              "      <td>12887700</td>\n",
              "      <td>88</td>\n",
              "      <td>&lt;p&gt;Another example that I haven't seen mention...</td>\n",
              "    </tr>\n",
              "    <tr>\n",
              "      <th>769161</th>\n",
              "      <td>13889589</td>\n",
              "      <td>182463.0</td>\n",
              "      <td>2012-12-15T05:24:07Z</td>\n",
              "      <td>12887700</td>\n",
              "      <td>28</td>\n",
              "      <td>&lt;p&gt;This program prints &lt;code&gt;1&lt;/code&gt; in C++ a...</td>\n",
              "    </tr>\n",
              "    <tr>\n",
              "      <th>1378332</th>\n",
              "      <td>26421966</td>\n",
              "      <td>3816586.0</td>\n",
              "      <td>2014-10-17T09:27:43Z</td>\n",
              "      <td>12887700</td>\n",
              "      <td>2</td>\n",
              "      <td>&lt;p&gt;Don't forget the distinction between the C ...</td>\n",
              "    </tr>\n",
              "    <tr>\n",
              "      <th>1647438</th>\n",
              "      <td>32187257</td>\n",
              "      <td>3787875.0</td>\n",
              "      <td>2015-08-24T16:30:55Z</td>\n",
              "      <td>12887700</td>\n",
              "      <td>3</td>\n",
              "      <td>&lt;pre&gt;&lt;code&gt;#include &amp;lt;stdio.h&amp;gt;\\n\\nstruct ...</td>\n",
              "    </tr>\n",
              "  </tbody>\n",
              "</table>\n",
              "</div>"
            ],
            "text/plain": [
              "         AnswerId  ...                                         AnswerBody\n",
              "31973      579836  ...  <pre><code>#include &lt;stdio.h&gt;\\n\\nint mai...\n",
              "31981      579945  ...  <p>An old chestnut that depends on the C compi...\n",
              "31982      579951  ...  <p><em>The C++ Programming Language (3rd Editi...\n",
              "31983      579955  ...  <pre><code>struct abort\\n{\\n    int x;\\n};\\n\\n...\n",
              "31986      579998  ...  <p>Another one listed by the C++ Standard:</p>...\n",
              "717867   12887719  ...  <p>The following, valid in C and C++, is going...\n",
              "717877   12887839  ...  <p>Here is an example that takes advantage of ...\n",
              "717886   12887996  ...  <p>Per C++11 standard:</p>\\n\\n<p><strong>a.</s...\n",
              "717900   12888281  ...  <p>C90 vs. C++11 (<code>int</code> vs. <code>d...\n",
              "717975   12890117  ...  <p>For C++ vs. C90, there's at least one way t...\n",
              "718183   12894377  ...  <p>Inline functions in C default to external s...\n",
              "718203   12894970  ...  <p>Another <code>sizeof</code> trap: boolean e...\n",
              "719820   12926158  ...  <p>Another example that I haven't seen mention...\n",
              "769161   13889589  ...  <p>This program prints <code>1</code> in C++ a...\n",
              "1378332  26421966  ...  <p>Don't forget the distinction between the C ...\n",
              "1647438  32187257  ...  <pre><code>#include &lt;stdio.h&gt;\\n\\nstruct ...\n",
              "\n",
              "[16 rows x 6 columns]"
            ]
          },
          "metadata": {
            "tags": []
          },
          "execution_count": 111
        }
      ]
    },
    {
      "cell_type": "code",
      "metadata": {
        "id": "gsYqcFFdc3OQ",
        "colab_type": "code",
        "outputId": "696f0adf-7ed2-4bb5-d946-a4fbe0b7f867",
        "colab": {
          "base_uri": "https://localhost:8080/",
          "height": 80
        }
      },
      "source": [
        "CheckOneData3 = questionsds[questionsds.QuestionId == 12887700]\n",
        "CheckOneData3"
      ],
      "execution_count": 0,
      "outputs": [
        {
          "output_type": "execute_result",
          "data": {
            "text/html": [
              "<div>\n",
              "<style scoped>\n",
              "    .dataframe tbody tr th:only-of-type {\n",
              "        vertical-align: middle;\n",
              "    }\n",
              "\n",
              "    .dataframe tbody tr th {\n",
              "        vertical-align: top;\n",
              "    }\n",
              "\n",
              "    .dataframe thead th {\n",
              "        text-align: right;\n",
              "    }\n",
              "</style>\n",
              "<table border=\"1\" class=\"dataframe\">\n",
              "  <thead>\n",
              "    <tr style=\"text-align: right;\">\n",
              "      <th></th>\n",
              "      <th>QuestionId</th>\n",
              "      <th>QuestionOwnerUserId</th>\n",
              "      <th>QuestionCreationDate</th>\n",
              "      <th>QuestionScore</th>\n",
              "      <th>Title</th>\n",
              "      <th>QuestionBody</th>\n",
              "    </tr>\n",
              "  </thead>\n",
              "  <tbody>\n",
              "    <tr>\n",
              "      <th>360933</th>\n",
              "      <td>12887700</td>\n",
              "      <td>541686.0</td>\n",
              "      <td>2012-10-14T23:54:26Z</td>\n",
              "      <td>528</td>\n",
              "      <td>Can code that is valid in both C and C++ produ...</td>\n",
              "      <td>&lt;p&gt;C and C++ have many differences, and not al...</td>\n",
              "    </tr>\n",
              "  </tbody>\n",
              "</table>\n",
              "</div>"
            ],
            "text/plain": [
              "        QuestionId  ...                                       QuestionBody\n",
              "360933    12887700  ...  <p>C and C++ have many differences, and not al...\n",
              "\n",
              "[1 rows x 6 columns]"
            ]
          },
          "metadata": {
            "tags": []
          },
          "execution_count": 113
        }
      ]
    },
    {
      "cell_type": "code",
      "metadata": {
        "id": "zF8Ei4VYd32I",
        "colab_type": "code",
        "outputId": "184e6a19-5137-4a0b-cb78-8e896a611a82",
        "colab": {
          "base_uri": "https://localhost:8080/",
          "height": 272
        }
      },
      "source": [
        "answerUserds.info()"
      ],
      "execution_count": 0,
      "outputs": [
        {
          "output_type": "stream",
          "text": [
            "<class 'pandas.core.frame.DataFrame'>\n",
            "Int64Index: 465460 entries, 26 to 1990479\n",
            "Data columns (total 8 columns):\n",
            " #   Column                    Non-Null Count   Dtype \n",
            "---  ------                    --------------   ----- \n",
            " 0   AnswerOwnerUserId         465460 non-null  int64 \n",
            " 1   AnswerUserDisplayName     465436 non-null  object\n",
            " 2   AnswerUserCreationDate    465460 non-null  object\n",
            " 3   AnswerUserLastAccessDate  465460 non-null  object\n",
            " 4   AnswerUserReputation      465460 non-null  int64 \n",
            " 5   AnswerUserUpVotes         465460 non-null  int64 \n",
            " 6   AnswerUserDownVotes       465460 non-null  int64 \n",
            " 7   AnswerUserViews           465460 non-null  int64 \n",
            "dtypes: int64(5), object(3)\n",
            "memory usage: 32.0+ MB\n"
          ],
          "name": "stdout"
        }
      ]
    },
    {
      "cell_type": "code",
      "metadata": {
        "id": "tbEpbK5_eZWt",
        "colab_type": "code",
        "outputId": "8ee53945-2e94-48e0-8fee-6fa192a23a3b",
        "colab": {
          "base_uri": "https://localhost:8080/",
          "height": 258
        }
      },
      "source": [
        "answerUserds.head()"
      ],
      "execution_count": 0,
      "outputs": [
        {
          "output_type": "execute_result",
          "data": {
            "text/html": [
              "<div>\n",
              "<style scoped>\n",
              "    .dataframe tbody tr th:only-of-type {\n",
              "        vertical-align: middle;\n",
              "    }\n",
              "\n",
              "    .dataframe tbody tr th {\n",
              "        vertical-align: top;\n",
              "    }\n",
              "\n",
              "    .dataframe thead th {\n",
              "        text-align: right;\n",
              "    }\n",
              "</style>\n",
              "<table border=\"1\" class=\"dataframe\">\n",
              "  <thead>\n",
              "    <tr style=\"text-align: right;\">\n",
              "      <th></th>\n",
              "      <th>AnswerOwnerUserId</th>\n",
              "      <th>AnswerUserDisplayName</th>\n",
              "      <th>AnswerUserCreationDate</th>\n",
              "      <th>AnswerUserLastAccessDate</th>\n",
              "      <th>AnswerUserReputation</th>\n",
              "      <th>AnswerUserUpVotes</th>\n",
              "      <th>AnswerUserDownVotes</th>\n",
              "      <th>AnswerUserViews</th>\n",
              "    </tr>\n",
              "  </thead>\n",
              "  <tbody>\n",
              "    <tr>\n",
              "      <th>26</th>\n",
              "      <td>26</td>\n",
              "      <td>Shawn</td>\n",
              "      <td>2008-08-01 12:18:14.52 UTC</td>\n",
              "      <td>2018-04-11 04:40:35.66 UTC</td>\n",
              "      <td>11820</td>\n",
              "      <td>565</td>\n",
              "      <td>67</td>\n",
              "      <td>3547</td>\n",
              "    </tr>\n",
              "    <tr>\n",
              "      <th>84</th>\n",
              "      <td>1109</td>\n",
              "      <td>Theo</td>\n",
              "      <td>2008-08-12 12:16:58.61 UTC</td>\n",
              "      <td>2019-08-31 11:39:52.28 UTC</td>\n",
              "      <td>116072</td>\n",
              "      <td>457</td>\n",
              "      <td>136</td>\n",
              "      <td>6905</td>\n",
              "    </tr>\n",
              "    <tr>\n",
              "      <th>86</th>\n",
              "      <td>364174</td>\n",
              "      <td>stats</td>\n",
              "      <td>2010-06-11 03:34:57.137 UTC</td>\n",
              "      <td>2019-08-29 18:37:35.027 UTC</td>\n",
              "      <td>325</td>\n",
              "      <td>25</td>\n",
              "      <td>1</td>\n",
              "      <td>60</td>\n",
              "    </tr>\n",
              "    <tr>\n",
              "      <th>96</th>\n",
              "      <td>61</td>\n",
              "      <td>Bernard</td>\n",
              "      <td>2008-08-01 14:21:00.573 UTC</td>\n",
              "      <td>2019-08-30 07:11:58.297 UTC</td>\n",
              "      <td>22779</td>\n",
              "      <td>1321</td>\n",
              "      <td>219</td>\n",
              "      <td>1731</td>\n",
              "    </tr>\n",
              "    <tr>\n",
              "      <th>98</th>\n",
              "      <td>20709</td>\n",
              "      <td>Black Horus</td>\n",
              "      <td>2008-09-22 20:03:39.71 UTC</td>\n",
              "      <td>2019-09-01 01:17:38.133 UTC</td>\n",
              "      <td>978</td>\n",
              "      <td>73</td>\n",
              "      <td>2</td>\n",
              "      <td>96</td>\n",
              "    </tr>\n",
              "  </tbody>\n",
              "</table>\n",
              "</div>"
            ],
            "text/plain": [
              "    AnswerOwnerUserId  ... AnswerUserViews\n",
              "26                 26  ...            3547\n",
              "84               1109  ...            6905\n",
              "86             364174  ...              60\n",
              "96                 61  ...            1731\n",
              "98              20709  ...              96\n",
              "\n",
              "[5 rows x 8 columns]"
            ]
          },
          "metadata": {
            "tags": []
          },
          "execution_count": 117
        }
      ]
    },
    {
      "cell_type": "code",
      "metadata": {
        "id": "uNqrX6fOpolD",
        "colab_type": "code",
        "outputId": "9c73afa6-211b-467a-fb7d-03e940ac936b",
        "colab": {
          "base_uri": "https://localhost:8080/",
          "height": 500
        }
      },
      "source": [
        "plt.figure(figsize=(10,6))\n",
        "sns.heatmap(answerUserds.corr(),cmap='Blues',annot=False) "
      ],
      "execution_count": 0,
      "outputs": [
        {
          "output_type": "execute_result",
          "data": {
            "text/plain": [
              "<matplotlib.axes._subplots.AxesSubplot at 0x7fe52662b630>"
            ]
          },
          "metadata": {
            "tags": []
          },
          "execution_count": 140
        },
        {
          "output_type": "display_data",
          "data": {
            "image/png": "[encoded data removed]",
            "text/plain": [
              "<Figure size 720x432 with 2 Axes>"
            ]
          },
          "metadata": {
            "tags": [],
            "needs_background": "light"
          }
        }
      ]
    },
    {
      "cell_type": "code",
      "metadata": {
        "id": "FMb9yGd8puL_",
        "colab_type": "code",
        "outputId": "f5c1ddb3-9c8c-4dea-8dbd-d954b92842dd",
        "colab": {
          "base_uri": "https://localhost:8080/",
          "height": 479
        }
      },
      "source": [
        "QuestionAnswer.head()"
      ],
      "execution_count": 0,
      "outputs": [
        {
          "output_type": "execute_result",
          "data": {
            "text/html": [
              "<div>\n",
              "<style scoped>\n",
              "    .dataframe tbody tr th:only-of-type {\n",
              "        vertical-align: middle;\n",
              "    }\n",
              "\n",
              "    .dataframe tbody tr th {\n",
              "        vertical-align: top;\n",
              "    }\n",
              "\n",
              "    .dataframe thead th {\n",
              "        text-align: right;\n",
              "    }\n",
              "</style>\n",
              "<table border=\"1\" class=\"dataframe\">\n",
              "  <thead>\n",
              "    <tr style=\"text-align: right;\">\n",
              "      <th></th>\n",
              "      <th>QuestionId</th>\n",
              "      <th>QuestionOwnerUserId</th>\n",
              "      <th>QuestionCreationDate</th>\n",
              "      <th>QuestionScore</th>\n",
              "      <th>Title</th>\n",
              "      <th>QuestionBody</th>\n",
              "      <th>AnswerId</th>\n",
              "      <th>AnswerOwnerUserId</th>\n",
              "      <th>AnswerCreationDate</th>\n",
              "      <th>AnswerScore</th>\n",
              "      <th>AnswerBody</th>\n",
              "    </tr>\n",
              "  </thead>\n",
              "  <tbody>\n",
              "    <tr>\n",
              "      <th>0</th>\n",
              "      <td>80</td>\n",
              "      <td>26.0</td>\n",
              "      <td>2008-08-01T13:57:07Z</td>\n",
              "      <td>26</td>\n",
              "      <td>SQLStatement.execute() - multiple queries in o...</td>\n",
              "      <td>&lt;p&gt;I've written a database generation script i...</td>\n",
              "      <td>124.0</td>\n",
              "      <td>26.0</td>\n",
              "      <td>2008-08-01T16:09:47Z</td>\n",
              "      <td>12.0</td>\n",
              "      <td>&lt;p&gt;I wound up using this. It is a kind of a ha...</td>\n",
              "    </tr>\n",
              "    <tr>\n",
              "      <th>1</th>\n",
              "      <td>80</td>\n",
              "      <td>26.0</td>\n",
              "      <td>2008-08-01T13:57:07Z</td>\n",
              "      <td>26</td>\n",
              "      <td>SQLStatement.execute() - multiple queries in o...</td>\n",
              "      <td>&lt;p&gt;I've written a database generation script i...</td>\n",
              "      <td>10008.0</td>\n",
              "      <td>1109.0</td>\n",
              "      <td>2008-08-13T16:09:09Z</td>\n",
              "      <td>6.0</td>\n",
              "      <td>&lt;p&gt;The &lt;a href=\"http://en.wikipedia.org/wiki/S...</td>\n",
              "    </tr>\n",
              "    <tr>\n",
              "      <th>2</th>\n",
              "      <td>80</td>\n",
              "      <td>26.0</td>\n",
              "      <td>2008-08-01T13:57:07Z</td>\n",
              "      <td>26</td>\n",
              "      <td>SQLStatement.execute() - multiple queries in o...</td>\n",
              "      <td>&lt;p&gt;I've written a database generation script i...</td>\n",
              "      <td>3770976.0</td>\n",
              "      <td>364174.0</td>\n",
              "      <td>2010-09-22T15:37:30Z</td>\n",
              "      <td>1.0</td>\n",
              "      <td>&lt;p&gt;What about making your delimiter something ...</td>\n",
              "    </tr>\n",
              "    <tr>\n",
              "      <th>3</th>\n",
              "      <td>90</td>\n",
              "      <td>58.0</td>\n",
              "      <td>2008-08-01T14:41:24Z</td>\n",
              "      <td>144</td>\n",
              "      <td>Good branching and merging tutorials for Torto...</td>\n",
              "      <td>&lt;p&gt;Are there any really good tutorials explain...</td>\n",
              "      <td>92.0</td>\n",
              "      <td>61.0</td>\n",
              "      <td>2008-08-01T14:45:37Z</td>\n",
              "      <td>13.0</td>\n",
              "      <td>&lt;p&gt;&lt;a href=\"http://svnbook.red-bean.com/\"&gt;Vers...</td>\n",
              "    </tr>\n",
              "    <tr>\n",
              "      <th>4</th>\n",
              "      <td>90</td>\n",
              "      <td>58.0</td>\n",
              "      <td>2008-08-01T14:41:24Z</td>\n",
              "      <td>144</td>\n",
              "      <td>Good branching and merging tutorials for Torto...</td>\n",
              "      <td>&lt;p&gt;Are there any really good tutorials explain...</td>\n",
              "      <td>202317.0</td>\n",
              "      <td>20709.0</td>\n",
              "      <td>2008-10-14T18:41:45Z</td>\n",
              "      <td>2.0</td>\n",
              "      <td>&lt;p&gt;You can also try &lt;em&gt;&lt;a href=\"http://www.co...</td>\n",
              "    </tr>\n",
              "  </tbody>\n",
              "</table>\n",
              "</div>"
            ],
            "text/plain": [
              "   QuestionId  ...                                         AnswerBody\n",
              "0          80  ...  <p>I wound up using this. It is a kind of a ha...\n",
              "1          80  ...  <p>The <a href=\"http://en.wikipedia.org/wiki/S...\n",
              "2          80  ...  <p>What about making your delimiter something ...\n",
              "3          90  ...  <p><a href=\"http://svnbook.red-bean.com/\">Vers...\n",
              "4          90  ...  <p>You can also try <em><a href=\"http://www.co...\n",
              "\n",
              "[5 rows x 11 columns]"
            ]
          },
          "metadata": {
            "tags": []
          },
          "execution_count": 142
        }
      ]
    },
    {
      "cell_type": "code",
      "metadata": {
        "id": "YdD7Dd2BpzmP",
        "colab_type": "code",
        "outputId": "69d7c4b0-a6e8-4731-ecbc-a2db3392d47a",
        "colab": {
          "base_uri": "https://localhost:8080/",
          "height": 494
        }
      },
      "source": [
        "plt.figure(figsize=(10,6))\n",
        "sns.heatmap(QuestionAnswer.corr(),cmap='Blues',annot=False) "
      ],
      "execution_count": 0,
      "outputs": [
        {
          "output_type": "execute_result",
          "data": {
            "text/plain": [
              "<matplotlib.axes._subplots.AxesSubplot at 0x7fe593b6a4a8>"
            ]
          },
          "metadata": {
            "tags": []
          },
          "execution_count": 143
        },
        {
          "output_type": "display_data",
          "data": {
            "image/png": "[encoded data removed]",
            "text/plain": [
              "<Figure size 720x432 with 2 Axes>"
            ]
          },
          "metadata": {
            "tags": [],
            "needs_background": "light"
          }
        }
      ]
    },
    {
      "cell_type": "code",
      "metadata": {
        "id": "XXDn_ymVqSAv",
        "colab_type": "code",
        "outputId": "bddd8f03-3daf-498c-fe19-8d7ea6eae9b5",
        "colab": {
          "base_uri": "https://localhost:8080/",
          "height": 500
        }
      },
      "source": [
        "\n",
        "plt.figure(figsize=(10,6))\n",
        "sns.heatmap(newcombdf.corr(),cmap='Blues',annot=False) "
      ],
      "execution_count": 0,
      "outputs": [
        {
          "output_type": "execute_result",
          "data": {
            "text/plain": [
              "<matplotlib.axes._subplots.AxesSubplot at 0x7fe51c02ad30>"
            ]
          },
          "metadata": {
            "tags": []
          },
          "execution_count": 144
        },
        {
          "output_type": "display_data",
          "data": {
            "image/png": "[encoded data removed]",
            "text/plain": [
              "<Figure size 720x432 with 2 Axes>"
            ]
          },
          "metadata": {
            "tags": [],
            "needs_background": "light"
          }
        }
      ]
    }
  ]
}